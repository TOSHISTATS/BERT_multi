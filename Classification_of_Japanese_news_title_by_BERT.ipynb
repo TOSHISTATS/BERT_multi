{
  "nbformat": 4,
  "nbformat_minor": 0,
  "metadata": {
    "colab": {
      "name": "Classification of Japanese news-title by BERT",
      "provenance": [],
      "collapsed_sections": []
    },
    "language_info": {
      "codemirror_mode": {
        "name": "ipython",
        "version": 3
      },
      "file_extension": ".py",
      "mimetype": "text/x-python",
      "name": "python",
      "nbconvert_exporter": "python",
      "pygments_lexer": "ipython3",
      "version": "3.6.7"
    },
    "kernelspec": {
      "name": "python3",
      "display_name": "Python 3"
    },
    "accelerator": "GPU",
    "widgets": {
      "application/vnd.jupyter.widget-state+json": {
        "5834bcf433594bb6b9f73226ee8943e3": {
          "model_module": "@jupyter-widgets/controls",
          "model_name": "HBoxModel",
          "state": {
            "_view_name": "HBoxView",
            "_dom_classes": [],
            "_model_name": "HBoxModel",
            "_view_module": "@jupyter-widgets/controls",
            "_model_module_version": "1.5.0",
            "_view_count": null,
            "_view_module_version": "1.5.0",
            "box_style": "",
            "layout": "IPY_MODEL_c81c349c08904a6bb88cce3a74beb45a",
            "_model_module": "@jupyter-widgets/controls",
            "children": [
              "IPY_MODEL_d5fda26cc55d4de0a04b7bc4ea78d201",
              "IPY_MODEL_a5ff6d7b35c644a09826923ebdb8d2e0"
            ]
          }
        },
        "c81c349c08904a6bb88cce3a74beb45a": {
          "model_module": "@jupyter-widgets/base",
          "model_name": "LayoutModel",
          "state": {
            "_view_name": "LayoutView",
            "grid_template_rows": null,
            "right": null,
            "justify_content": null,
            "_view_module": "@jupyter-widgets/base",
            "overflow": null,
            "_model_module_version": "1.2.0",
            "_view_count": null,
            "flex_flow": null,
            "width": null,
            "min_width": null,
            "border": null,
            "align_items": null,
            "bottom": null,
            "_model_module": "@jupyter-widgets/base",
            "top": null,
            "grid_column": null,
            "overflow_y": null,
            "overflow_x": null,
            "grid_auto_flow": null,
            "grid_area": null,
            "grid_template_columns": null,
            "flex": null,
            "_model_name": "LayoutModel",
            "justify_items": null,
            "grid_row": null,
            "max_height": null,
            "align_content": null,
            "visibility": null,
            "align_self": null,
            "height": null,
            "min_height": null,
            "padding": null,
            "grid_auto_rows": null,
            "grid_gap": null,
            "max_width": null,
            "order": null,
            "_view_module_version": "1.2.0",
            "grid_template_areas": null,
            "object_position": null,
            "object_fit": null,
            "grid_auto_columns": null,
            "margin": null,
            "display": null,
            "left": null
          }
        },
        "d5fda26cc55d4de0a04b7bc4ea78d201": {
          "model_module": "@jupyter-widgets/controls",
          "model_name": "IntProgressModel",
          "state": {
            "_view_name": "ProgressView",
            "style": "IPY_MODEL_e3a8f0cec79f4bcc86b5e77472a2d46a",
            "_dom_classes": [],
            "description": "Converting examples to features",
            "_model_name": "IntProgressModel",
            "bar_style": "success",
            "max": 3503,
            "_view_module": "@jupyter-widgets/controls",
            "_model_module_version": "1.5.0",
            "value": 3503,
            "_view_count": null,
            "_view_module_version": "1.5.0",
            "orientation": "horizontal",
            "min": 0,
            "description_tooltip": null,
            "_model_module": "@jupyter-widgets/controls",
            "layout": "IPY_MODEL_d90b039d20404e7b818062ac92c56e85"
          }
        },
        "a5ff6d7b35c644a09826923ebdb8d2e0": {
          "model_module": "@jupyter-widgets/controls",
          "model_name": "HTMLModel",
          "state": {
            "_view_name": "HTMLView",
            "style": "IPY_MODEL_f4e80f7855c24e309420aea71f920e2a",
            "_dom_classes": [],
            "description": "",
            "_model_name": "HTMLModel",
            "placeholder": "​",
            "_view_module": "@jupyter-widgets/controls",
            "_model_module_version": "1.5.0",
            "value": "100% 3503/3503 [00:00&lt;00:00, 5427.95it/s]",
            "_view_count": null,
            "_view_module_version": "1.5.0",
            "description_tooltip": null,
            "_model_module": "@jupyter-widgets/controls",
            "layout": "IPY_MODEL_43f1157b2d1741f3b1ae355aeeb05fcb"
          }
        },
        "e3a8f0cec79f4bcc86b5e77472a2d46a": {
          "model_module": "@jupyter-widgets/controls",
          "model_name": "ProgressStyleModel",
          "state": {
            "_view_name": "StyleView",
            "_model_name": "ProgressStyleModel",
            "description_width": "initial",
            "_view_module": "@jupyter-widgets/base",
            "_model_module_version": "1.5.0",
            "_view_count": null,
            "_view_module_version": "1.2.0",
            "bar_color": null,
            "_model_module": "@jupyter-widgets/controls"
          }
        },
        "d90b039d20404e7b818062ac92c56e85": {
          "model_module": "@jupyter-widgets/base",
          "model_name": "LayoutModel",
          "state": {
            "_view_name": "LayoutView",
            "grid_template_rows": null,
            "right": null,
            "justify_content": null,
            "_view_module": "@jupyter-widgets/base",
            "overflow": null,
            "_model_module_version": "1.2.0",
            "_view_count": null,
            "flex_flow": null,
            "width": null,
            "min_width": null,
            "border": null,
            "align_items": null,
            "bottom": null,
            "_model_module": "@jupyter-widgets/base",
            "top": null,
            "grid_column": null,
            "overflow_y": null,
            "overflow_x": null,
            "grid_auto_flow": null,
            "grid_area": null,
            "grid_template_columns": null,
            "flex": null,
            "_model_name": "LayoutModel",
            "justify_items": null,
            "grid_row": null,
            "max_height": null,
            "align_content": null,
            "visibility": null,
            "align_self": null,
            "height": null,
            "min_height": null,
            "padding": null,
            "grid_auto_rows": null,
            "grid_gap": null,
            "max_width": null,
            "order": null,
            "_view_module_version": "1.2.0",
            "grid_template_areas": null,
            "object_position": null,
            "object_fit": null,
            "grid_auto_columns": null,
            "margin": null,
            "display": null,
            "left": null
          }
        },
        "f4e80f7855c24e309420aea71f920e2a": {
          "model_module": "@jupyter-widgets/controls",
          "model_name": "DescriptionStyleModel",
          "state": {
            "_view_name": "StyleView",
            "_model_name": "DescriptionStyleModel",
            "description_width": "",
            "_view_module": "@jupyter-widgets/base",
            "_model_module_version": "1.5.0",
            "_view_count": null,
            "_view_module_version": "1.2.0",
            "_model_module": "@jupyter-widgets/controls"
          }
        },
        "43f1157b2d1741f3b1ae355aeeb05fcb": {
          "model_module": "@jupyter-widgets/base",
          "model_name": "LayoutModel",
          "state": {
            "_view_name": "LayoutView",
            "grid_template_rows": null,
            "right": null,
            "justify_content": null,
            "_view_module": "@jupyter-widgets/base",
            "overflow": null,
            "_model_module_version": "1.2.0",
            "_view_count": null,
            "flex_flow": null,
            "width": null,
            "min_width": null,
            "border": null,
            "align_items": null,
            "bottom": null,
            "_model_module": "@jupyter-widgets/base",
            "top": null,
            "grid_column": null,
            "overflow_y": null,
            "overflow_x": null,
            "grid_auto_flow": null,
            "grid_area": null,
            "grid_template_columns": null,
            "flex": null,
            "_model_name": "LayoutModel",
            "justify_items": null,
            "grid_row": null,
            "max_height": null,
            "align_content": null,
            "visibility": null,
            "align_self": null,
            "height": null,
            "min_height": null,
            "padding": null,
            "grid_auto_rows": null,
            "grid_gap": null,
            "max_width": null,
            "order": null,
            "_view_module_version": "1.2.0",
            "grid_template_areas": null,
            "object_position": null,
            "object_fit": null,
            "grid_auto_columns": null,
            "margin": null,
            "display": null,
            "left": null
          }
        },
        "904fd92e1206421190d8a4c8385b1072": {
          "model_module": "@jupyter-widgets/controls",
          "model_name": "HBoxModel",
          "state": {
            "_view_name": "HBoxView",
            "_dom_classes": [],
            "_model_name": "HBoxModel",
            "_view_module": "@jupyter-widgets/controls",
            "_model_module_version": "1.5.0",
            "_view_count": null,
            "_view_module_version": "1.5.0",
            "box_style": "",
            "layout": "IPY_MODEL_bc522bc3ae054354a3b2e13c944f252c",
            "_model_module": "@jupyter-widgets/controls",
            "children": [
              "IPY_MODEL_466ca162349c44fb87c7a324f3fed2e1",
              "IPY_MODEL_8dba4e2370744be6a9cd02baf13bd196"
            ]
          }
        },
        "bc522bc3ae054354a3b2e13c944f252c": {
          "model_module": "@jupyter-widgets/base",
          "model_name": "LayoutModel",
          "state": {
            "_view_name": "LayoutView",
            "grid_template_rows": null,
            "right": null,
            "justify_content": null,
            "_view_module": "@jupyter-widgets/base",
            "overflow": null,
            "_model_module_version": "1.2.0",
            "_view_count": null,
            "flex_flow": null,
            "width": null,
            "min_width": null,
            "border": null,
            "align_items": null,
            "bottom": null,
            "_model_module": "@jupyter-widgets/base",
            "top": null,
            "grid_column": null,
            "overflow_y": null,
            "overflow_x": null,
            "grid_auto_flow": null,
            "grid_area": null,
            "grid_template_columns": null,
            "flex": null,
            "_model_name": "LayoutModel",
            "justify_items": null,
            "grid_row": null,
            "max_height": null,
            "align_content": null,
            "visibility": null,
            "align_self": null,
            "height": null,
            "min_height": null,
            "padding": null,
            "grid_auto_rows": null,
            "grid_gap": null,
            "max_width": null,
            "order": null,
            "_view_module_version": "1.2.0",
            "grid_template_areas": null,
            "object_position": null,
            "object_fit": null,
            "grid_auto_columns": null,
            "margin": null,
            "display": null,
            "left": null
          }
        },
        "466ca162349c44fb87c7a324f3fed2e1": {
          "model_module": "@jupyter-widgets/controls",
          "model_name": "IntProgressModel",
          "state": {
            "_view_name": "ProgressView",
            "style": "IPY_MODEL_ddd8d3c5a62c46e4bc8b35d1cd01f192",
            "_dom_classes": [],
            "description": "Converting examples to features",
            "_model_name": "IntProgressModel",
            "bar_style": "success",
            "max": 876,
            "_view_module": "@jupyter-widgets/controls",
            "_model_module_version": "1.5.0",
            "value": 876,
            "_view_count": null,
            "_view_module_version": "1.5.0",
            "orientation": "horizontal",
            "min": 0,
            "description_tooltip": null,
            "_model_module": "@jupyter-widgets/controls",
            "layout": "IPY_MODEL_651e12be75f643e9b1ee01dd1f131e3d"
          }
        },
        "8dba4e2370744be6a9cd02baf13bd196": {
          "model_module": "@jupyter-widgets/controls",
          "model_name": "HTMLModel",
          "state": {
            "_view_name": "HTMLView",
            "style": "IPY_MODEL_75d747503c4a4920bbb88a669c1ced2f",
            "_dom_classes": [],
            "description": "",
            "_model_name": "HTMLModel",
            "placeholder": "​",
            "_view_module": "@jupyter-widgets/controls",
            "_model_module_version": "1.5.0",
            "value": "100% 876/876 [00:00&lt;00:00, 4768.99it/s]",
            "_view_count": null,
            "_view_module_version": "1.5.0",
            "description_tooltip": null,
            "_model_module": "@jupyter-widgets/controls",
            "layout": "IPY_MODEL_206ac1d2d7a547598097d1b2a127766e"
          }
        },
        "ddd8d3c5a62c46e4bc8b35d1cd01f192": {
          "model_module": "@jupyter-widgets/controls",
          "model_name": "ProgressStyleModel",
          "state": {
            "_view_name": "StyleView",
            "_model_name": "ProgressStyleModel",
            "description_width": "initial",
            "_view_module": "@jupyter-widgets/base",
            "_model_module_version": "1.5.0",
            "_view_count": null,
            "_view_module_version": "1.2.0",
            "bar_color": null,
            "_model_module": "@jupyter-widgets/controls"
          }
        },
        "651e12be75f643e9b1ee01dd1f131e3d": {
          "model_module": "@jupyter-widgets/base",
          "model_name": "LayoutModel",
          "state": {
            "_view_name": "LayoutView",
            "grid_template_rows": null,
            "right": null,
            "justify_content": null,
            "_view_module": "@jupyter-widgets/base",
            "overflow": null,
            "_model_module_version": "1.2.0",
            "_view_count": null,
            "flex_flow": null,
            "width": null,
            "min_width": null,
            "border": null,
            "align_items": null,
            "bottom": null,
            "_model_module": "@jupyter-widgets/base",
            "top": null,
            "grid_column": null,
            "overflow_y": null,
            "overflow_x": null,
            "grid_auto_flow": null,
            "grid_area": null,
            "grid_template_columns": null,
            "flex": null,
            "_model_name": "LayoutModel",
            "justify_items": null,
            "grid_row": null,
            "max_height": null,
            "align_content": null,
            "visibility": null,
            "align_self": null,
            "height": null,
            "min_height": null,
            "padding": null,
            "grid_auto_rows": null,
            "grid_gap": null,
            "max_width": null,
            "order": null,
            "_view_module_version": "1.2.0",
            "grid_template_areas": null,
            "object_position": null,
            "object_fit": null,
            "grid_auto_columns": null,
            "margin": null,
            "display": null,
            "left": null
          }
        },
        "75d747503c4a4920bbb88a669c1ced2f": {
          "model_module": "@jupyter-widgets/controls",
          "model_name": "DescriptionStyleModel",
          "state": {
            "_view_name": "StyleView",
            "_model_name": "DescriptionStyleModel",
            "description_width": "",
            "_view_module": "@jupyter-widgets/base",
            "_model_module_version": "1.5.0",
            "_view_count": null,
            "_view_module_version": "1.2.0",
            "_model_module": "@jupyter-widgets/controls"
          }
        },
        "206ac1d2d7a547598097d1b2a127766e": {
          "model_module": "@jupyter-widgets/base",
          "model_name": "LayoutModel",
          "state": {
            "_view_name": "LayoutView",
            "grid_template_rows": null,
            "right": null,
            "justify_content": null,
            "_view_module": "@jupyter-widgets/base",
            "overflow": null,
            "_model_module_version": "1.2.0",
            "_view_count": null,
            "flex_flow": null,
            "width": null,
            "min_width": null,
            "border": null,
            "align_items": null,
            "bottom": null,
            "_model_module": "@jupyter-widgets/base",
            "top": null,
            "grid_column": null,
            "overflow_y": null,
            "overflow_x": null,
            "grid_auto_flow": null,
            "grid_area": null,
            "grid_template_columns": null,
            "flex": null,
            "_model_name": "LayoutModel",
            "justify_items": null,
            "grid_row": null,
            "max_height": null,
            "align_content": null,
            "visibility": null,
            "align_self": null,
            "height": null,
            "min_height": null,
            "padding": null,
            "grid_auto_rows": null,
            "grid_gap": null,
            "max_width": null,
            "order": null,
            "_view_module_version": "1.2.0",
            "grid_template_areas": null,
            "object_position": null,
            "object_fit": null,
            "grid_auto_columns": null,
            "margin": null,
            "display": null,
            "left": null
          }
        }
      }
    }
  },
  "cells": [
    {
      "cell_type": "markdown",
      "metadata": {
        "id": "LUAOsKRhfq_2",
        "colab_type": "text"
      },
      "source": [
        "# BERTによる日本語ニュースタイトルの判別"
      ]
    },
    {
      "cell_type": "markdown",
      "metadata": {
        "id": "VWgIg00VKisH",
        "colab_type": "text"
      },
      "source": [
        "#  Extracting fixed feature vectors of Japanese news by BERT"
      ]
    },
    {
      "cell_type": "markdown",
      "metadata": {
        "id": "aWry1gnsyOzO",
        "colab_type": "text"
      },
      "source": [
        "## 1. Import library　（ライブラリの取得）"
      ]
    },
    {
      "cell_type": "code",
      "metadata": {
        "id": "TTTaFa5RSJFv",
        "colab_type": "code",
        "colab": {}
      },
      "source": [
        "import tensorflow as tf\n",
        "import pandas as pd\n",
        "import os\n",
        "import re\n",
        "import sys\n",
        "import time\n",
        "import numpy as np\n",
        "\n",
        "from pathlib import Path\n",
        "from sklearn.model_selection import train_test_split\n",
        "\n",
        "from tqdm import tqdm_notebook\n",
        "from tensorflow.keras import backend as K"
      ],
      "execution_count": 0,
      "outputs": []
    },
    {
      "cell_type": "code",
      "metadata": {
        "id": "b9lRJHilxwyV",
        "colab_type": "code",
        "outputId": "e4bd598f-97a8-4b7a-9ee2-6ae6a55393c4",
        "colab": {
          "base_uri": "https://localhost:8080/",
          "height": 168
        }
      },
      "source": [
        "!test -d bert_repo || git clone https://github.com/google-research/bert bert_repo\n",
        "if not 'bert_repo' in sys.path:\n",
        "  sys.path += ['bert_repo']\n",
        "\n",
        "# import python modules defined by BERT\n",
        "import modeling\n",
        "import optimization\n",
        "import tokenization\n",
        "from tokenization import FullTokenizer\n",
        "\n",
        "# import tfhub \n",
        "import tensorflow_hub as hub\n",
        "\n",
        "# Initialize session\n",
        "sess = tf.Session()\n",
        "\n",
        "# Params for bert model and tokenization\n",
        "bert_path = \"https://tfhub.dev/google/bert_multi_cased_L-12_H-768_A-12/1\"\n",
        "max_seq_length = 50\n",
        "\n"
      ],
      "execution_count": 0,
      "outputs": [
        {
          "output_type": "stream",
          "text": [
            "Cloning into 'bert_repo'...\n",
            "remote: Enumerating objects: 336, done.\u001b[K\n",
            "remote: Total 336 (delta 0), reused 0 (delta 0), pack-reused 336\n",
            "Receiving objects: 100% (336/336), 290.23 KiB | 430.00 KiB/s, done.\n",
            "Resolving deltas: 100% (184/184), done.\n",
            "WARNING:tensorflow:From bert_repo/optimization.py:87: The name tf.train.Optimizer is deprecated. Please use tf.compat.v1.train.Optimizer instead.\n",
            "\n"
          ],
          "name": "stdout"
        }
      ]
    },
    {
      "cell_type": "markdown",
      "metadata": {
        "id": "fLtxM4w9AxRz",
        "colab_type": "text"
      },
      "source": [
        "## 2. Load livedoor-news-data　（ライブドアニュースデータの取得）\n"
      ]
    },
    {
      "cell_type": "markdown",
      "metadata": {
        "id": "V-6dlrkglHN7",
        "colab_type": "text"
      },
      "source": [
        "livedoor news corpus    CC BY-ND 2.1 JP　　　https://www.rondhuit.com/download.html#ldcc"
      ]
    },
    {
      "cell_type": "code",
      "metadata": {
        "id": "HOYlk-EscSqd",
        "colab_type": "code",
        "colab": {}
      },
      "source": [
        "train_df = pd.read_csv(\"train5.tsv\", delimiter='\\t', header=None, names=['label', 'title'])\n",
        "dev_df = pd.read_csv(\"dev5.tsv\", delimiter='\\t', header=None, names=['label', 'title'])"
      ],
      "execution_count": 0,
      "outputs": []
    },
    {
      "cell_type": "code",
      "metadata": {
        "id": "jbQpDWW-dHOd",
        "colab_type": "code",
        "outputId": "ed641efb-7232-4bf6-a737-2d06c32cb5b0",
        "colab": {
          "base_uri": "https://localhost:8080/",
          "height": 203
        }
      },
      "source": [
        "train_df=train_df.loc[:, ['title','label']]\n",
        "train_df=train_df.rename({'title':'sentence','label':'polarity'},axis='columns')\n",
        "train_df.head() "
      ],
      "execution_count": 0,
      "outputs": [
        {
          "output_type": "execute_result",
          "data": {
            "text/html": [
              "<div>\n",
              "<style scoped>\n",
              "    .dataframe tbody tr th:only-of-type {\n",
              "        vertical-align: middle;\n",
              "    }\n",
              "\n",
              "    .dataframe tbody tr th {\n",
              "        vertical-align: top;\n",
              "    }\n",
              "\n",
              "    .dataframe thead th {\n",
              "        text-align: right;\n",
              "    }\n",
              "</style>\n",
              "<table border=\"1\" class=\"dataframe\">\n",
              "  <thead>\n",
              "    <tr style=\"text-align: right;\">\n",
              "      <th></th>\n",
              "      <th>sentence</th>\n",
              "      <th>polarity</th>\n",
              "    </tr>\n",
              "  </thead>\n",
              "  <tbody>\n",
              "    <tr>\n",
              "      <th>0</th>\n",
              "      <td>月額1,050円でSASディスクを搭載！クラウドプラン 「エクスライト（EX-LITE）」の...</td>\n",
              "      <td>0</td>\n",
              "    </tr>\n",
              "    <tr>\n",
              "      <th>1</th>\n",
              "      <td>例のあのメニューも！ニコニコ超会議のフードコートメニュー14種類紹介（前半）</td>\n",
              "      <td>0</td>\n",
              "    </tr>\n",
              "    <tr>\n",
              "      <th>2</th>\n",
              "      <td>山田孝之と小西真奈美の映画に撮影していない“あるモノ”が映り込んでいた</td>\n",
              "      <td>1</td>\n",
              "    </tr>\n",
              "    <tr>\n",
              "      <th>3</th>\n",
              "      <td>ガガを聴きながら毎朝歯磨き！　レディー・ガガ　シンギングトゥースブラシ独占先行販売</td>\n",
              "      <td>0</td>\n",
              "    </tr>\n",
              "    <tr>\n",
              "      <th>4</th>\n",
              "      <td>斎藤佑樹はプロで通用するのか？</td>\n",
              "      <td>2</td>\n",
              "    </tr>\n",
              "  </tbody>\n",
              "</table>\n",
              "</div>"
            ],
            "text/plain": [
              "                                            sentence  polarity\n",
              "0  月額1,050円でSASディスクを搭載！クラウドプラン 「エクスライト（EX-LITE）」の...         0\n",
              "1             例のあのメニューも！ニコニコ超会議のフードコートメニュー14種類紹介（前半）         0\n",
              "2                山田孝之と小西真奈美の映画に撮影していない“あるモノ”が映り込んでいた         1\n",
              "3          ガガを聴きながら毎朝歯磨き！　レディー・ガガ　シンギングトゥースブラシ独占先行販売         0\n",
              "4                                    斎藤佑樹はプロで通用するのか？         2"
            ]
          },
          "metadata": {
            "tags": []
          },
          "execution_count": 6
        }
      ]
    },
    {
      "cell_type": "code",
      "metadata": {
        "id": "mYH7IpxQcN7y",
        "colab_type": "code",
        "outputId": "de535f44-eb2c-4e97-9083-35fca6a6eb62",
        "colab": {
          "base_uri": "https://localhost:8080/",
          "height": 667
        }
      },
      "source": [
        "dev_df=dev_df.loc[:, ['title','label']]\n",
        "dev_df=dev_df.rename({'title':'sentence','label':'polarity'},axis='columns')\n",
        "dev_df.head(20) "
      ],
      "execution_count": 0,
      "outputs": [
        {
          "output_type": "execute_result",
          "data": {
            "text/html": [
              "<div>\n",
              "<style scoped>\n",
              "    .dataframe tbody tr th:only-of-type {\n",
              "        vertical-align: middle;\n",
              "    }\n",
              "\n",
              "    .dataframe tbody tr th {\n",
              "        vertical-align: top;\n",
              "    }\n",
              "\n",
              "    .dataframe thead th {\n",
              "        text-align: right;\n",
              "    }\n",
              "</style>\n",
              "<table border=\"1\" class=\"dataframe\">\n",
              "  <thead>\n",
              "    <tr style=\"text-align: right;\">\n",
              "      <th></th>\n",
              "      <th>sentence</th>\n",
              "      <th>polarity</th>\n",
              "    </tr>\n",
              "  </thead>\n",
              "  <tbody>\n",
              "    <tr>\n",
              "      <th>0</th>\n",
              "      <td>ドコモのｓｐモードでまたトラブル発生！　今度はつながらない【話題】</td>\n",
              "      <td>4</td>\n",
              "    </tr>\n",
              "    <tr>\n",
              "      <th>1</th>\n",
              "      <td>ダルビッシュ、今季だけで3つの魔球体得へ</td>\n",
              "      <td>2</td>\n",
              "    </tr>\n",
              "    <tr>\n",
              "      <th>2</th>\n",
              "      <td>本格的に仕事復帰、マリエが今一番会いたい人は“スギちゃん”</td>\n",
              "      <td>1</td>\n",
              "    </tr>\n",
              "    <tr>\n",
              "      <th>3</th>\n",
              "      <td>価格が安価で矯正を気づかれない！綺麗な歯並びになれる、歯列矯正の最前線</td>\n",
              "      <td>0</td>\n",
              "    </tr>\n",
              "    <tr>\n",
              "      <th>4</th>\n",
              "      <td>先輩・桑田、松井秀喜にズバリ「引退とかは考えなかった？」</td>\n",
              "      <td>2</td>\n",
              "    </tr>\n",
              "    <tr>\n",
              "      <th>5</th>\n",
              "      <td>【モテる家電】誰でもかっこよくなれる！　男の正しい眉整え術</td>\n",
              "      <td>4</td>\n",
              "    </tr>\n",
              "    <tr>\n",
              "      <th>6</th>\n",
              "      <td>【オトナ女子のリアルな悩み】最長で半年…恋愛が長続きしない理由は？</td>\n",
              "      <td>3</td>\n",
              "    </tr>\n",
              "    <tr>\n",
              "      <th>7</th>\n",
              "      <td>虐待だ！の声多数、日テレで人気のワンコが声帯除去手術を受けていた事実に非難殺到【話題】</td>\n",
              "      <td>4</td>\n",
              "    </tr>\n",
              "    <tr>\n",
              "      <th>8</th>\n",
              "      <td>1枚で主食＋デザートに!?　宅配ピザ最前線「モッチリーノ」のお得なおいしさ</td>\n",
              "      <td>3</td>\n",
              "    </tr>\n",
              "    <tr>\n",
              "      <th>9</th>\n",
              "      <td>スマホで花咲く恋もある!?　合コンで使える本当の“モテテク”</td>\n",
              "      <td>3</td>\n",
              "    </tr>\n",
              "    <tr>\n",
              "      <th>10</th>\n",
              "      <td>「女性の持つコンプレックスを取り去る仕事」 湘南美容外科クリニック イメケン“情熱”院長イン...</td>\n",
              "      <td>3</td>\n",
              "    </tr>\n",
              "    <tr>\n",
              "      <th>11</th>\n",
              "      <td>愛と節約　Presented by ゆるっとcafe</td>\n",
              "      <td>3</td>\n",
              "    </tr>\n",
              "    <tr>\n",
              "      <th>12</th>\n",
              "      <td>Test Report タスカム US-125M［USBオーディオインターフェイス］【ビデオ...</td>\n",
              "      <td>4</td>\n",
              "    </tr>\n",
              "    <tr>\n",
              "      <th>13</th>\n",
              "      <td>【週末映画まとめ読み】武井咲「あまり台本を読まなくていいのかな？」</td>\n",
              "      <td>1</td>\n",
              "    </tr>\n",
              "    <tr>\n",
              "      <th>14</th>\n",
              "      <td>「3.11で変わったこと」をリアルに感じるアンケート結果を公開！</td>\n",
              "      <td>3</td>\n",
              "    </tr>\n",
              "    <tr>\n",
              "      <th>15</th>\n",
              "      <td>大阪人に挑戦状！ 『シャーロック・ホームズ』謎解きパズルが出現</td>\n",
              "      <td>1</td>\n",
              "    </tr>\n",
              "    <tr>\n",
              "      <th>16</th>\n",
              "      <td>死ぬまで戦え！　『スターシップ・トゥルーパーズ』昆虫と人類の壮絶な戦いが再び</td>\n",
              "      <td>1</td>\n",
              "    </tr>\n",
              "    <tr>\n",
              "      <th>17</th>\n",
              "      <td>パナソニック新発売のエアコンは新開発「トップユニット」構造の「Xシリーズ」</td>\n",
              "      <td>4</td>\n",
              "    </tr>\n",
              "    <tr>\n",
              "      <th>18</th>\n",
              "      <td>スマホ持ちで有線なアナタに！無線LAN親機になる超小型アダプター</td>\n",
              "      <td>0</td>\n",
              "    </tr>\n",
              "    <tr>\n",
              "      <th>19</th>\n",
              "      <td>クリスマスに選びたい最高のプレゼントとは？</td>\n",
              "      <td>3</td>\n",
              "    </tr>\n",
              "  </tbody>\n",
              "</table>\n",
              "</div>"
            ],
            "text/plain": [
              "                                             sentence  polarity\n",
              "0                   ドコモのｓｐモードでまたトラブル発生！　今度はつながらない【話題】         4\n",
              "1                                ダルビッシュ、今季だけで3つの魔球体得へ         2\n",
              "2                       本格的に仕事復帰、マリエが今一番会いたい人は“スギちゃん”         1\n",
              "3                 価格が安価で矯正を気づかれない！綺麗な歯並びになれる、歯列矯正の最前線         0\n",
              "4                        先輩・桑田、松井秀喜にズバリ「引退とかは考えなかった？」         2\n",
              "5                       【モテる家電】誰でもかっこよくなれる！　男の正しい眉整え術         4\n",
              "6                   【オトナ女子のリアルな悩み】最長で半年…恋愛が長続きしない理由は？         3\n",
              "7         虐待だ！の声多数、日テレで人気のワンコが声帯除去手術を受けていた事実に非難殺到【話題】         4\n",
              "8               1枚で主食＋デザートに!?　宅配ピザ最前線「モッチリーノ」のお得なおいしさ         3\n",
              "9                      スマホで花咲く恋もある!?　合コンで使える本当の“モテテク”         3\n",
              "10  「女性の持つコンプレックスを取り去る仕事」 湘南美容外科クリニック イメケン“情熱”院長イン...         3\n",
              "11                         愛と節約　Presented by ゆるっとcafe         3\n",
              "12  Test Report タスカム US-125M［USBオーディオインターフェイス］【ビデオ...         4\n",
              "13                  【週末映画まとめ読み】武井咲「あまり台本を読まなくていいのかな？」         1\n",
              "14                   「3.11で変わったこと」をリアルに感じるアンケート結果を公開！         3\n",
              "15                    大阪人に挑戦状！ 『シャーロック・ホームズ』謎解きパズルが出現         1\n",
              "16             死ぬまで戦え！　『スターシップ・トゥルーパーズ』昆虫と人類の壮絶な戦いが再び         1\n",
              "17              パナソニック新発売のエアコンは新開発「トップユニット」構造の「Xシリーズ」         4\n",
              "18                   スマホ持ちで有線なアナタに！無線LAN親機になる超小型アダプター         0\n",
              "19                              クリスマスに選びたい最高のプレゼントとは？         3"
            ]
          },
          "metadata": {
            "tags": []
          },
          "execution_count": 7
        }
      ]
    },
    {
      "cell_type": "code",
      "metadata": {
        "id": "nEJbAj_zAxR_",
        "colab_type": "code",
        "colab": {}
      },
      "source": [
        "# Create datasets (Only take up to max_seq_length words for memory)\n",
        "train_text = train_df['sentence'].tolist()\n",
        "train_text = [t[0:max_seq_length] for t in train_text]\n",
        "train_text = np.array(train_text, dtype=object)[:, np.newaxis]\n",
        "train_label = train_df['polarity'].tolist()\n",
        "\n",
        "test_text = dev_df['sentence'].tolist()\n",
        "test_text = [t[0:max_seq_length] for t in test_text]\n",
        "test_text = np.array(test_text, dtype=object)[:, np.newaxis]\n",
        "test_label = dev_df['polarity'].tolist()"
      ],
      "execution_count": 0,
      "outputs": []
    },
    {
      "cell_type": "markdown",
      "metadata": {
        "id": "djv4vpTiAxSC",
        "colab_type": "text"
      },
      "source": [
        "## 3. Tokenize texts　（テキストをトークン化）\n"
      ]
    },
    {
      "cell_type": "code",
      "metadata": {
        "id": "2e7ibktcAxSD",
        "colab_type": "code",
        "outputId": "a441965e-fed9-4551-ddfc-fedab21cae45",
        "colab": {
          "base_uri": "https://localhost:8080/",
          "height": 250,
          "referenced_widgets": [
            "5834bcf433594bb6b9f73226ee8943e3",
            "c81c349c08904a6bb88cce3a74beb45a",
            "d5fda26cc55d4de0a04b7bc4ea78d201",
            "a5ff6d7b35c644a09826923ebdb8d2e0",
            "e3a8f0cec79f4bcc86b5e77472a2d46a",
            "d90b039d20404e7b818062ac92c56e85",
            "f4e80f7855c24e309420aea71f920e2a",
            "43f1157b2d1741f3b1ae355aeeb05fcb",
            "904fd92e1206421190d8a4c8385b1072",
            "bc522bc3ae054354a3b2e13c944f252c",
            "466ca162349c44fb87c7a324f3fed2e1",
            "8dba4e2370744be6a9cd02baf13bd196",
            "ddd8d3c5a62c46e4bc8b35d1cd01f192",
            "651e12be75f643e9b1ee01dd1f131e3d",
            "75d747503c4a4920bbb88a669c1ced2f",
            "206ac1d2d7a547598097d1b2a127766e"
          ]
        }
      },
      "source": [
        "class PaddingInputExample(object):\n",
        "    \"\"\"Fake example so the num input examples is a multiple of the batch size.\n",
        "  When running eval/predict on the TPU, we need to pad the number of examples\n",
        "  to be a multiple of the batch size, because the TPU requires a fixed batch\n",
        "  size. The alternative is to drop the last batch, which is bad because it means\n",
        "  the entire output data won't be generated.\n",
        "  We use this class instead of `None` because treating `None` as padding\n",
        "  battches could cause silent errors.\n",
        "  \"\"\"\n",
        "\n",
        "class InputExample(object):\n",
        "    \"\"\"A single training/test example for simple sequence classification.\"\"\"\n",
        "\n",
        "    def __init__(self, guid, text_a, text_b=None, label=None):\n",
        "        \"\"\"Constructs a InputExample.\n",
        "    Args:\n",
        "      guid: Unique id for the example.\n",
        "      text_a: string. The untokenized text of the first sequence. For single\n",
        "        sequence tasks, only this sequence must be specified.\n",
        "      text_b: (Optional) string. The untokenized text of the second sequence.\n",
        "        Only must be specified for sequence pair tasks.\n",
        "      label: (Optional) string. The label of the example. This should be\n",
        "        specified for train and dev examples, but not for test examples.\n",
        "    \"\"\"\n",
        "        self.guid = guid\n",
        "        self.text_a = text_a\n",
        "        self.text_b = text_b\n",
        "        self.label = label\n",
        "\n",
        "def create_tokenizer_from_hub_module():\n",
        "    \"\"\"Get the vocab file and casing info from the Hub module.\"\"\"\n",
        "    bert_module =  hub.Module(bert_path)\n",
        "    tokenization_info = bert_module(signature=\"tokenization_info\", as_dict=True)\n",
        "    vocab_file, do_lower_case = sess.run(\n",
        "        [\n",
        "            tokenization_info[\"vocab_file\"],\n",
        "            tokenization_info[\"do_lower_case\"],\n",
        "        ]\n",
        "    )\n",
        "\n",
        "    return FullTokenizer(vocab_file=vocab_file, do_lower_case=do_lower_case)\n",
        "\n",
        "def convert_single_example(tokenizer, example, max_seq_length=max_seq_length):\n",
        "    \"\"\"Converts a single `InputExample` into a single `InputFeatures`.\"\"\"\n",
        "\n",
        "    if isinstance(example, PaddingInputExample):\n",
        "        input_ids = [0] * max_seq_length\n",
        "        input_mask = [0] * max_seq_length\n",
        "        segment_ids = [0] * max_seq_length\n",
        "        label = 0\n",
        "        return input_ids, input_mask, segment_ids, label\n",
        "\n",
        "    tokens_a = tokenizer.tokenize(example.text_a)\n",
        "    if len(tokens_a) > max_seq_length - 2:\n",
        "        tokens_a = tokens_a[0 : (max_seq_length - 2)]\n",
        "\n",
        "    tokens = []\n",
        "    segment_ids = []\n",
        "    tokens.append(\"[CLS]\")\n",
        "    segment_ids.append(0)\n",
        "    for token in tokens_a:\n",
        "        tokens.append(token)\n",
        "        segment_ids.append(0)\n",
        "    tokens.append(\"[SEP]\")\n",
        "    segment_ids.append(0)\n",
        "\n",
        "    input_ids = tokenizer.convert_tokens_to_ids(tokens)\n",
        "\n",
        "    # The mask has 1 for real tokens and 0 for padding tokens. Only real\n",
        "    # tokens are attended to.\n",
        "    input_mask = [1] * len(input_ids)\n",
        "\n",
        "    # Zero-pad up to the sequence length.\n",
        "    while len(input_ids) < max_seq_length:\n",
        "        input_ids.append(0)\n",
        "        input_mask.append(0)\n",
        "        segment_ids.append(0)\n",
        "\n",
        "    assert len(input_ids) == max_seq_length\n",
        "    assert len(input_mask) == max_seq_length\n",
        "    assert len(segment_ids) == max_seq_length\n",
        "\n",
        "    return input_ids, input_mask, segment_ids, example.label\n",
        "\n",
        "def convert_examples_to_features(tokenizer, examples, max_seq_length=max_seq_length):\n",
        "    \"\"\"Convert a set of `InputExample`s to a list of `InputFeatures`.\"\"\"\n",
        "\n",
        "    input_ids, input_masks, segment_ids, labels = [], [], [], []\n",
        "    for example in tqdm_notebook(examples, desc=\"Converting examples to features\"):\n",
        "        input_id, input_mask, segment_id, label = convert_single_example(\n",
        "            tokenizer, example, max_seq_length\n",
        "        )\n",
        "        input_ids.append(input_id)\n",
        "        input_masks.append(input_mask)\n",
        "        segment_ids.append(segment_id)\n",
        "        labels.append(label)\n",
        "    return (\n",
        "        np.array(input_ids),\n",
        "        np.array(input_masks),\n",
        "        np.array(segment_ids),\n",
        "        np.array(labels).reshape(-1, 1),\n",
        "    )\n",
        "\n",
        "def convert_text_to_examples(texts, labels):\n",
        "    \"\"\"Create InputExamples\"\"\"\n",
        "    InputExamples = []\n",
        "    for text, label in zip(texts, labels):\n",
        "        InputExamples.append(\n",
        "            InputExample(guid=None, text_a=\" \".join(text), text_b=None, label=label)\n",
        "        )\n",
        "    return InputExamples\n",
        "  \n",
        "  \n",
        "\n",
        "# Instantiate tokenizer\n",
        "tokenizer = create_tokenizer_from_hub_module()\n",
        "\n",
        "# Convert data to InputExample format\n",
        "train_examples = convert_text_to_examples(train_text, train_label)\n",
        "test_examples = convert_text_to_examples(test_text, test_label)\n",
        "\n",
        "# Convert to features\n",
        "(train_input_ids, train_input_masks, train_segment_ids, train_labels \n",
        ") = convert_examples_to_features(tokenizer, train_examples, max_seq_length=max_seq_length)\n",
        "(test_input_ids, test_input_masks, test_segment_ids, test_labels\n",
        ") = convert_examples_to_features(tokenizer, test_examples, max_seq_length=max_seq_length)"
      ],
      "execution_count": 0,
      "outputs": [
        {
          "output_type": "stream",
          "text": [
            "INFO:tensorflow:Saver not created because there are no variables in the graph to restore\n"
          ],
          "name": "stdout"
        },
        {
          "output_type": "stream",
          "text": [
            "INFO:tensorflow:Saver not created because there are no variables in the graph to restore\n"
          ],
          "name": "stderr"
        },
        {
          "output_type": "stream",
          "text": [
            "WARNING:tensorflow:From bert_repo/tokenization.py:125: The name tf.gfile.GFile is deprecated. Please use tf.io.gfile.GFile instead.\n",
            "\n"
          ],
          "name": "stdout"
        },
        {
          "output_type": "stream",
          "text": [
            "WARNING:tensorflow:From bert_repo/tokenization.py:125: The name tf.gfile.GFile is deprecated. Please use tf.io.gfile.GFile instead.\n",
            "\n"
          ],
          "name": "stderr"
        },
        {
          "output_type": "display_data",
          "data": {
            "application/vnd.jupyter.widget-view+json": {
              "model_id": "5834bcf433594bb6b9f73226ee8943e3",
              "version_minor": 0,
              "version_major": 2
            },
            "text/plain": [
              "HBox(children=(IntProgress(value=0, description='Converting examples to features', max=3503, style=ProgressSty…"
            ]
          },
          "metadata": {
            "tags": []
          }
        },
        {
          "output_type": "stream",
          "text": [
            "\n"
          ],
          "name": "stdout"
        },
        {
          "output_type": "display_data",
          "data": {
            "application/vnd.jupyter.widget-view+json": {
              "model_id": "904fd92e1206421190d8a4c8385b1072",
              "version_minor": 0,
              "version_major": 2
            },
            "text/plain": [
              "HBox(children=(IntProgress(value=0, description='Converting examples to features', max=876, style=ProgressStyl…"
            ]
          },
          "metadata": {
            "tags": []
          }
        },
        {
          "output_type": "stream",
          "text": [
            "\n"
          ],
          "name": "stdout"
        }
      ]
    },
    {
      "cell_type": "markdown",
      "metadata": {
        "id": "UIzuoDOEYCOU",
        "colab_type": "text"
      },
      "source": [
        "## 4.  Create bert_inputs and extract embedding vectors　（学習データ準備と特徴量ベクトルの取得）"
      ]
    },
    {
      "cell_type": "code",
      "metadata": {
        "id": "VlVpvIPVUJt1",
        "colab_type": "code",
        "outputId": "5468f68b-c630-4709-d9cb-b626aec612e4",
        "colab": {
          "base_uri": "https://localhost:8080/",
          "height": 409
        }
      },
      "source": [
        "bert_inputs = dict(\n",
        "    input_ids=train_input_ids,\n",
        "    input_mask=train_input_masks,\n",
        "    segment_ids=train_segment_ids)\n",
        "\n",
        "bert_inputs"
      ],
      "execution_count": 0,
      "outputs": [
        {
          "output_type": "execute_result",
          "data": {
            "text/plain": [
              "{'input_ids': array([[  101,  4460,  8399, ...,     0,     0,     0],\n",
              "        [  101,  2280,  1946, ...,     0,     0,     0],\n",
              "        [  101,  3504,  5610, ...,     0,     0,     0],\n",
              "        ...,\n",
              "        [  101,  1894,  1993, ...,     0,     0,     0],\n",
              "        [  101,  2108,  3504, ...,     0,     0,     0],\n",
              "        [  101,  1904, 27058, ...,     0,     0,     0]]),\n",
              " 'input_mask': array([[1, 1, 1, ..., 0, 0, 0],\n",
              "        [1, 1, 1, ..., 0, 0, 0],\n",
              "        [1, 1, 1, ..., 0, 0, 0],\n",
              "        ...,\n",
              "        [1, 1, 1, ..., 0, 0, 0],\n",
              "        [1, 1, 1, ..., 0, 0, 0],\n",
              "        [1, 1, 1, ..., 0, 0, 0]]),\n",
              " 'segment_ids': array([[0, 0, 0, ..., 0, 0, 0],\n",
              "        [0, 0, 0, ..., 0, 0, 0],\n",
              "        [0, 0, 0, ..., 0, 0, 0],\n",
              "        ...,\n",
              "        [0, 0, 0, ..., 0, 0, 0],\n",
              "        [0, 0, 0, ..., 0, 0, 0],\n",
              "        [0, 0, 0, ..., 0, 0, 0]])}"
            ]
          },
          "metadata": {
            "tags": []
          },
          "execution_count": 10
        }
      ]
    },
    {
      "cell_type": "code",
      "metadata": {
        "id": "5ykFhDz7XIh4",
        "colab_type": "code",
        "colab": {}
      },
      "source": [
        "BERT_PRETRAINED_DIR='/content/multi_cased_L-12_H-768_A-12'"
      ],
      "execution_count": 0,
      "outputs": []
    },
    {
      "cell_type": "code",
      "metadata": {
        "id": "q_6zdEXOTtOv",
        "colab_type": "code",
        "outputId": "283f5711-470e-46a6-d572-1175ab40e67f",
        "colab": {
          "base_uri": "https://localhost:8080/",
          "height": 73
        }
      },
      "source": [
        "bert_module = hub.Module(\"https://tfhub.dev/google/bert_multi_cased_L-12_H-768_A-12/1\", trainable=False)\n",
        "\n",
        "\n",
        "t = time.time() \n",
        "\n",
        "with tf.Session() as session:\n",
        "  session.run([tf.global_variables_initializer(), tf.tables_initializer()])\n",
        "  bert_outputs = session.run(bert_module(bert_inputs, signature=\"tokens\", as_dict=True))\n",
        "  \n",
        "\n",
        "t2 = time.time()\n",
        "print(round(t2-t, 5), 'Seconds to predict')\n",
        "\n",
        "  \n",
        "\n",
        "pooled_output = bert_outputs[\"pooled_output\"]"
      ],
      "execution_count": 0,
      "outputs": [
        {
          "output_type": "stream",
          "text": [
            "INFO:tensorflow:Saver not created because there are no variables in the graph to restore\n"
          ],
          "name": "stdout"
        },
        {
          "output_type": "stream",
          "text": [
            "INFO:tensorflow:Saver not created because there are no variables in the graph to restore\n"
          ],
          "name": "stderr"
        },
        {
          "output_type": "stream",
          "text": [
            "23.33557 Seconds to predict\n"
          ],
          "name": "stdout"
        }
      ]
    },
    {
      "cell_type": "code",
      "metadata": {
        "id": "mijANYKuWfNf",
        "colab_type": "code",
        "outputId": "4dfbbf1d-d764-4778-f129-2a5080a37187",
        "colab": {
          "base_uri": "https://localhost:8080/",
          "height": 278
        }
      },
      "source": [
        "pooled_output = bert_outputs[\"pooled_output\"]\n",
        "print(pooled_output.shape)\n",
        "pooled_output"
      ],
      "execution_count": 0,
      "outputs": [
        {
          "output_type": "stream",
          "text": [
            "(3503, 768)\n"
          ],
          "name": "stdout"
        },
        {
          "output_type": "execute_result",
          "data": {
            "text/plain": [
              "array([[ 0.3309436 ,  0.00226622,  0.32829154, ..., -0.38312903,\n",
              "         0.20412014,  0.24579671],\n",
              "       [ 0.3761179 , -0.08474827,  0.3083133 , ..., -0.23839965,\n",
              "         0.20487733,  0.16242261],\n",
              "       [ 0.39279824, -0.17144825,  0.3055103 , ..., -0.47528458,\n",
              "         0.24804759,  0.24116465],\n",
              "       ...,\n",
              "       [ 0.43240264,  0.0924272 ,  0.335994  , ..., -0.42362997,\n",
              "         0.2150477 ,  0.11122324],\n",
              "       [ 0.4047562 ,  0.04343599,  0.23401332, ..., -0.18150674,\n",
              "         0.08990362,  0.10266227],\n",
              "       [ 0.43208814, -0.16266493,  0.30272773, ..., -0.33386657,\n",
              "         0.29739577,  0.28396413]], dtype=float32)"
            ]
          },
          "metadata": {
            "tags": []
          },
          "execution_count": 13
        }
      ]
    },
    {
      "cell_type": "markdown",
      "metadata": {
        "id": "4nNJsplhZWvD",
        "colab_type": "text"
      },
      "source": [
        "##  5. Create bert_test and extract embedding vectors （テストデータ準備と特徴量ベクトルの取得）"
      ]
    },
    {
      "cell_type": "code",
      "metadata": {
        "id": "Vl4eKgH3ZVu6",
        "colab_type": "code",
        "outputId": "d6751298-b3b0-4d4c-aa83-d311d6684337",
        "colab": {
          "base_uri": "https://localhost:8080/",
          "height": 409
        }
      },
      "source": [
        "bert_test = dict(\n",
        "    input_ids=test_input_ids,\n",
        "    input_mask=test_input_masks,\n",
        "    segment_ids=test_segment_ids)\n",
        "\n",
        "bert_test"
      ],
      "execution_count": 0,
      "outputs": [
        {
          "output_type": "execute_result",
          "data": {
            "text/plain": [
              "{'input_ids': array([[  101,   100,  5712, ...,     0,     0,     0],\n",
              "        [  101,  2015, 12434, ...,     0,     0,     0],\n",
              "        [  101,  4476,  4580, ...,     0,     0,     0],\n",
              "        ...,\n",
              "        [  101,  4854,  1980, ...,     0,     0,     0],\n",
              "        [  101,   148, 11490, ...,     0,     0,     0],\n",
              "        [  101,  4476,  2251, ...,     0,     0,     0]]),\n",
              " 'input_mask': array([[1, 1, 1, ..., 0, 0, 0],\n",
              "        [1, 1, 1, ..., 0, 0, 0],\n",
              "        [1, 1, 1, ..., 0, 0, 0],\n",
              "        ...,\n",
              "        [1, 1, 1, ..., 0, 0, 0],\n",
              "        [1, 1, 1, ..., 0, 0, 0],\n",
              "        [1, 1, 1, ..., 0, 0, 0]]),\n",
              " 'segment_ids': array([[0, 0, 0, ..., 0, 0, 0],\n",
              "        [0, 0, 0, ..., 0, 0, 0],\n",
              "        [0, 0, 0, ..., 0, 0, 0],\n",
              "        ...,\n",
              "        [0, 0, 0, ..., 0, 0, 0],\n",
              "        [0, 0, 0, ..., 0, 0, 0],\n",
              "        [0, 0, 0, ..., 0, 0, 0]])}"
            ]
          },
          "metadata": {
            "tags": []
          },
          "execution_count": 14
        }
      ]
    },
    {
      "cell_type": "code",
      "metadata": {
        "id": "Le6970XYaSCV",
        "colab_type": "code",
        "outputId": "402bd010-4dc5-4f5b-c5c5-494b1ddabf17",
        "colab": {
          "base_uri": "https://localhost:8080/",
          "height": 73
        }
      },
      "source": [
        "t = time.time() \n",
        "\n",
        "with tf.Session() as session:\n",
        "  session.run([tf.global_variables_initializer(), tf.tables_initializer()])\n",
        "  bert_outputs2 = session.run(bert_module(bert_test, signature=\"tokens\", as_dict=True))\n",
        "  \n",
        "\n",
        "t2 = time.time()\n",
        "print(round(t2-t, 5), 'Seconds to predict')\n"
      ],
      "execution_count": 0,
      "outputs": [
        {
          "output_type": "stream",
          "text": [
            "INFO:tensorflow:Saver not created because there are no variables in the graph to restore\n"
          ],
          "name": "stdout"
        },
        {
          "output_type": "stream",
          "text": [
            "INFO:tensorflow:Saver not created because there are no variables in the graph to restore\n"
          ],
          "name": "stderr"
        },
        {
          "output_type": "stream",
          "text": [
            "8.02823 Seconds to predict\n"
          ],
          "name": "stdout"
        }
      ]
    },
    {
      "cell_type": "code",
      "metadata": {
        "id": "MSG_ThDeaSMG",
        "colab_type": "code",
        "outputId": "48d8df30-a081-448f-c410-b9052c723995",
        "colab": {
          "base_uri": "https://localhost:8080/",
          "height": 260
        }
      },
      "source": [
        "pooled_output2 = bert_outputs2[\"pooled_output\"]\n",
        "pooled_output2"
      ],
      "execution_count": 0,
      "outputs": [
        {
          "output_type": "execute_result",
          "data": {
            "text/plain": [
              "array([[ 0.2525362 ,  0.06495357,  0.28061128, ..., -0.17444399,\n",
              "         0.21893732,  0.02746354],\n",
              "       [ 0.313074  , -0.03618057,  0.24547501, ..., -0.2627668 ,\n",
              "         0.14594312,  0.10071174],\n",
              "       [ 0.2933037 , -0.0561114 ,  0.36557734, ..., -0.3451954 ,\n",
              "         0.26619253,  0.06667353],\n",
              "       ...,\n",
              "       [ 0.35316917,  0.03228869,  0.30559295, ..., -0.04534116,\n",
              "         0.27333385,  0.0794063 ],\n",
              "       [ 0.3793611 , -0.0408264 ,  0.30807894, ..., -0.16299908,\n",
              "         0.29364216,  0.24983822],\n",
              "       [ 0.26637638, -0.14480321,  0.23917615, ..., -0.13616638,\n",
              "         0.05432262,  0.09414483]], dtype=float32)"
            ]
          },
          "metadata": {
            "tags": []
          },
          "execution_count": 16
        }
      ]
    },
    {
      "cell_type": "code",
      "metadata": {
        "id": "ZVvWuvj9aSQJ",
        "colab_type": "code",
        "colab": {}
      },
      "source": [
        "x_train=pooled_output\n",
        "x_test=pooled_output2\n",
        "\n",
        "y_train=train_labels\n",
        "y_test=test_labels"
      ],
      "execution_count": 0,
      "outputs": []
    },
    {
      "cell_type": "code",
      "metadata": {
        "id": "v-1oxcBCaSIe",
        "colab_type": "code",
        "outputId": "feae438f-c24b-4392-fa7f-2ca26a9ae47e",
        "colab": {
          "base_uri": "https://localhost:8080/",
          "height": 92
        }
      },
      "source": [
        "print(type(y_train))\n",
        "print(np.shape(y_train))\n",
        "print(type(y_test))\n",
        "print(np.shape(y_test))"
      ],
      "execution_count": 0,
      "outputs": [
        {
          "output_type": "stream",
          "text": [
            "<class 'numpy.ndarray'>\n",
            "(3503, 1)\n",
            "<class 'numpy.ndarray'>\n",
            "(876, 1)\n"
          ],
          "name": "stdout"
        }
      ]
    },
    {
      "cell_type": "code",
      "metadata": {
        "id": "RBfdxgQCaSF1",
        "colab_type": "code",
        "outputId": "9ff97ab5-a287-464f-c3cd-aaa075ad7bc6",
        "colab": {
          "base_uri": "https://localhost:8080/",
          "height": 410
        }
      },
      "source": [
        "input = tf.keras.Input(shape=(768,))\n",
        "x = tf.keras.layers.Dense(8, activation='relu')(input)\n",
        "pred = tf.keras.layers.Dense(5, activation='softmax')(x) \n",
        "\n",
        "model=tf.keras.Model(inputs=input, outputs=pred)\n",
        "model.summary()\n",
        "  "
      ],
      "execution_count": 0,
      "outputs": [
        {
          "output_type": "stream",
          "text": [
            "WARNING:tensorflow:From /usr/local/lib/python3.6/dist-packages/tensorflow_core/python/ops/resource_variable_ops.py:1630: calling BaseResourceVariable.__init__ (from tensorflow.python.ops.resource_variable_ops) with constraint is deprecated and will be removed in a future version.\n",
            "Instructions for updating:\n",
            "If using Keras pass *_constraint arguments to layers.\n"
          ],
          "name": "stdout"
        },
        {
          "output_type": "stream",
          "text": [
            "WARNING:tensorflow:From /usr/local/lib/python3.6/dist-packages/tensorflow_core/python/ops/resource_variable_ops.py:1630: calling BaseResourceVariable.__init__ (from tensorflow.python.ops.resource_variable_ops) with constraint is deprecated and will be removed in a future version.\n",
            "Instructions for updating:\n",
            "If using Keras pass *_constraint arguments to layers.\n"
          ],
          "name": "stderr"
        },
        {
          "output_type": "stream",
          "text": [
            "Model: \"model\"\n",
            "_________________________________________________________________\n",
            "Layer (type)                 Output Shape              Param #   \n",
            "=================================================================\n",
            "input_1 (InputLayer)         [(None, 768)]             0         \n",
            "_________________________________________________________________\n",
            "dense (Dense)                (None, 8)                 6152      \n",
            "_________________________________________________________________\n",
            "dense_1 (Dense)              (None, 5)                 45        \n",
            "=================================================================\n",
            "Total params: 6,197\n",
            "Trainable params: 6,197\n",
            "Non-trainable params: 0\n",
            "_________________________________________________________________\n"
          ],
          "name": "stdout"
        }
      ]
    },
    {
      "cell_type": "markdown",
      "metadata": {
        "id": "rrIT_oocYyzA",
        "colab_type": "text"
      },
      "source": [
        "## 6. Train and evaluate model for classification task (カテゴリ判別モデルの訓練と評価)"
      ]
    },
    {
      "cell_type": "code",
      "metadata": {
        "id": "m6RuheY7azZM",
        "colab_type": "code",
        "colab": {}
      },
      "source": [
        "  model.compile(loss='sparse_categorical_crossentropy', optimizer=tf.train.AdamOptimizer(learning_rate=1e-3, ), metrics=['accuracy'])"
      ],
      "execution_count": 0,
      "outputs": []
    },
    {
      "cell_type": "code",
      "metadata": {
        "id": "4Y7mkjWVazhx",
        "colab_type": "code",
        "outputId": "eb324589-878d-4167-d025-367c16b9a573",
        "colab": {
          "base_uri": "https://localhost:8080/",
          "height": 1000
        }
      },
      "source": [
        "t = time.time() \n",
        "\n",
        "history = model.fit(x_train, y_train ,\n",
        "                    batch_size=32,\n",
        "                    epochs=200,\n",
        "                    verbose=1,\n",
        "                    validation_data=(x_test, y_test)\n",
        "                       )\n",
        "\n",
        "t2 = time.time()\n",
        "print(round(t2-t, 5), 'Seconds to predict')"
      ],
      "execution_count": 0,
      "outputs": [
        {
          "output_type": "stream",
          "text": [
            "Train on 3503 samples, validate on 876 samples\n",
            "Epoch 1/200\n",
            "3503/3503 [==============================] - 1s 359us/sample - loss: 1.5447 - acc: 0.2952 - val_loss: 1.4933 - val_acc: 0.3082\n",
            "Epoch 2/200\n",
            "3503/3503 [==============================] - 0s 74us/sample - loss: 1.4443 - acc: 0.4131 - val_loss: 1.4069 - val_acc: 0.4110\n",
            "Epoch 3/200\n",
            "3503/3503 [==============================] - 0s 76us/sample - loss: 1.3420 - acc: 0.5073 - val_loss: 1.2434 - val_acc: 0.5719\n",
            "Epoch 4/200\n",
            "3503/3503 [==============================] - 0s 72us/sample - loss: 1.1326 - acc: 0.6212 - val_loss: 1.0420 - val_acc: 0.6587\n",
            "Epoch 5/200\n",
            "3503/3503 [==============================] - 0s 69us/sample - loss: 0.9575 - acc: 0.6803 - val_loss: 0.9213 - val_acc: 0.6918\n",
            "Epoch 6/200\n",
            "3503/3503 [==============================] - 0s 72us/sample - loss: 0.8666 - acc: 0.7005 - val_loss: 0.8567 - val_acc: 0.7043\n",
            "Epoch 7/200\n",
            "3503/3503 [==============================] - 0s 73us/sample - loss: 0.8023 - acc: 0.7171 - val_loss: 0.8158 - val_acc: 0.7146\n",
            "Epoch 8/200\n",
            "3503/3503 [==============================] - 0s 72us/sample - loss: 0.7610 - acc: 0.7294 - val_loss: 0.7958 - val_acc: 0.7135\n",
            "Epoch 9/200\n",
            "3503/3503 [==============================] - 0s 70us/sample - loss: 0.7253 - acc: 0.7388 - val_loss: 0.7545 - val_acc: 0.7317\n",
            "Epoch 10/200\n",
            "3503/3503 [==============================] - 0s 75us/sample - loss: 0.6955 - acc: 0.7536 - val_loss: 0.7278 - val_acc: 0.7386\n",
            "Epoch 11/200\n",
            "3503/3503 [==============================] - 0s 72us/sample - loss: 0.6743 - acc: 0.7562 - val_loss: 0.7097 - val_acc: 0.7489\n",
            "Epoch 12/200\n",
            "3503/3503 [==============================] - 0s 68us/sample - loss: 0.6580 - acc: 0.7693 - val_loss: 0.6932 - val_acc: 0.7534\n",
            "Epoch 13/200\n",
            "3503/3503 [==============================] - 0s 68us/sample - loss: 0.6359 - acc: 0.7750 - val_loss: 0.7005 - val_acc: 0.7557\n",
            "Epoch 14/200\n",
            "3503/3503 [==============================] - 0s 72us/sample - loss: 0.6276 - acc: 0.7708 - val_loss: 0.6809 - val_acc: 0.7534\n",
            "Epoch 15/200\n",
            "3503/3503 [==============================] - 0s 67us/sample - loss: 0.6097 - acc: 0.7896 - val_loss: 0.6745 - val_acc: 0.7728\n",
            "Epoch 16/200\n",
            "3503/3503 [==============================] - 0s 75us/sample - loss: 0.5995 - acc: 0.7876 - val_loss: 0.6541 - val_acc: 0.7785\n",
            "Epoch 17/200\n",
            "3503/3503 [==============================] - 0s 70us/sample - loss: 0.5916 - acc: 0.7865 - val_loss: 0.6633 - val_acc: 0.7728\n",
            "Epoch 18/200\n",
            "3503/3503 [==============================] - 0s 69us/sample - loss: 0.5758 - acc: 0.7902 - val_loss: 0.6333 - val_acc: 0.7820\n",
            "Epoch 19/200\n",
            "3503/3503 [==============================] - 0s 68us/sample - loss: 0.5660 - acc: 0.8010 - val_loss: 0.6618 - val_acc: 0.7694\n",
            "Epoch 20/200\n",
            "3503/3503 [==============================] - 0s 68us/sample - loss: 0.5640 - acc: 0.7927 - val_loss: 0.6177 - val_acc: 0.7934\n",
            "Epoch 21/200\n",
            "3503/3503 [==============================] - 0s 70us/sample - loss: 0.5539 - acc: 0.8010 - val_loss: 0.6170 - val_acc: 0.7808\n",
            "Epoch 22/200\n",
            "3503/3503 [==============================] - 0s 73us/sample - loss: 0.5511 - acc: 0.7936 - val_loss: 0.6041 - val_acc: 0.7911\n",
            "Epoch 23/200\n",
            "3503/3503 [==============================] - 0s 80us/sample - loss: 0.5460 - acc: 0.7993 - val_loss: 0.6006 - val_acc: 0.7854\n",
            "Epoch 24/200\n",
            "3503/3503 [==============================] - 0s 73us/sample - loss: 0.5324 - acc: 0.8033 - val_loss: 0.6084 - val_acc: 0.7922\n",
            "Epoch 25/200\n",
            "3503/3503 [==============================] - 0s 72us/sample - loss: 0.5307 - acc: 0.8053 - val_loss: 0.5989 - val_acc: 0.7842\n",
            "Epoch 26/200\n",
            "3503/3503 [==============================] - 0s 66us/sample - loss: 0.5216 - acc: 0.8110 - val_loss: 0.6107 - val_acc: 0.7785\n",
            "Epoch 27/200\n",
            "3503/3503 [==============================] - 0s 69us/sample - loss: 0.5152 - acc: 0.8113 - val_loss: 0.5838 - val_acc: 0.7934\n",
            "Epoch 28/200\n",
            "3503/3503 [==============================] - 0s 74us/sample - loss: 0.5099 - acc: 0.8170 - val_loss: 0.6077 - val_acc: 0.7957\n",
            "Epoch 29/200\n",
            "3503/3503 [==============================] - 0s 70us/sample - loss: 0.5059 - acc: 0.8162 - val_loss: 0.5751 - val_acc: 0.8014\n",
            "Epoch 30/200\n",
            "3503/3503 [==============================] - 0s 70us/sample - loss: 0.4992 - acc: 0.8230 - val_loss: 0.5800 - val_acc: 0.7945\n",
            "Epoch 31/200\n",
            "3503/3503 [==============================] - 0s 69us/sample - loss: 0.4991 - acc: 0.8187 - val_loss: 0.5905 - val_acc: 0.7934\n",
            "Epoch 32/200\n",
            "3503/3503 [==============================] - 0s 72us/sample - loss: 0.4897 - acc: 0.8261 - val_loss: 0.5785 - val_acc: 0.7842\n",
            "Epoch 33/200\n",
            "3503/3503 [==============================] - 0s 68us/sample - loss: 0.4852 - acc: 0.8287 - val_loss: 0.5651 - val_acc: 0.8025\n",
            "Epoch 34/200\n",
            "3503/3503 [==============================] - 0s 71us/sample - loss: 0.4853 - acc: 0.8279 - val_loss: 0.5801 - val_acc: 0.8082\n",
            "Epoch 35/200\n",
            "3503/3503 [==============================] - 0s 72us/sample - loss: 0.4751 - acc: 0.8321 - val_loss: 0.5822 - val_acc: 0.7922\n",
            "Epoch 36/200\n",
            "3503/3503 [==============================] - 0s 76us/sample - loss: 0.4767 - acc: 0.8327 - val_loss: 0.5716 - val_acc: 0.7831\n",
            "Epoch 37/200\n",
            "3503/3503 [==============================] - 0s 72us/sample - loss: 0.4715 - acc: 0.8333 - val_loss: 0.5734 - val_acc: 0.8048\n",
            "Epoch 38/200\n",
            "3503/3503 [==============================] - 0s 78us/sample - loss: 0.4614 - acc: 0.8367 - val_loss: 0.5647 - val_acc: 0.8151\n",
            "Epoch 39/200\n",
            "3503/3503 [==============================] - 0s 71us/sample - loss: 0.4609 - acc: 0.8367 - val_loss: 0.5404 - val_acc: 0.8151\n",
            "Epoch 40/200\n",
            "3503/3503 [==============================] - 0s 72us/sample - loss: 0.4499 - acc: 0.8404 - val_loss: 0.5614 - val_acc: 0.7957\n",
            "Epoch 41/200\n",
            "3503/3503 [==============================] - 0s 72us/sample - loss: 0.4506 - acc: 0.8376 - val_loss: 0.5622 - val_acc: 0.7979\n",
            "Epoch 42/200\n",
            "3503/3503 [==============================] - 0s 73us/sample - loss: 0.4418 - acc: 0.8456 - val_loss: 0.5391 - val_acc: 0.8265\n",
            "Epoch 43/200\n",
            "3503/3503 [==============================] - 0s 72us/sample - loss: 0.4390 - acc: 0.8504 - val_loss: 0.5302 - val_acc: 0.8151\n",
            "Epoch 44/200\n",
            "3503/3503 [==============================] - 0s 76us/sample - loss: 0.4372 - acc: 0.8473 - val_loss: 0.5305 - val_acc: 0.8128\n",
            "Epoch 45/200\n",
            "3503/3503 [==============================] - 0s 75us/sample - loss: 0.4362 - acc: 0.8456 - val_loss: 0.5428 - val_acc: 0.8139\n",
            "Epoch 46/200\n",
            "3503/3503 [==============================] - 0s 72us/sample - loss: 0.4504 - acc: 0.8333 - val_loss: 0.5419 - val_acc: 0.8162\n",
            "Epoch 47/200\n",
            "3503/3503 [==============================] - 0s 73us/sample - loss: 0.4275 - acc: 0.8476 - val_loss: 0.5195 - val_acc: 0.8094\n",
            "Epoch 48/200\n",
            "3503/3503 [==============================] - 0s 70us/sample - loss: 0.4201 - acc: 0.8516 - val_loss: 0.5200 - val_acc: 0.8139\n",
            "Epoch 49/200\n",
            "3503/3503 [==============================] - 0s 73us/sample - loss: 0.4234 - acc: 0.8498 - val_loss: 0.5233 - val_acc: 0.8094\n",
            "Epoch 50/200\n",
            "3503/3503 [==============================] - 0s 73us/sample - loss: 0.4158 - acc: 0.8567 - val_loss: 0.5171 - val_acc: 0.8185\n",
            "Epoch 51/200\n",
            "3503/3503 [==============================] - 0s 76us/sample - loss: 0.4147 - acc: 0.8544 - val_loss: 0.5147 - val_acc: 0.8276\n",
            "Epoch 52/200\n",
            "3503/3503 [==============================] - 0s 74us/sample - loss: 0.4106 - acc: 0.8524 - val_loss: 0.5245 - val_acc: 0.8094\n",
            "Epoch 53/200\n",
            "3503/3503 [==============================] - 0s 70us/sample - loss: 0.4098 - acc: 0.8556 - val_loss: 0.5024 - val_acc: 0.8242\n",
            "Epoch 54/200\n",
            "3503/3503 [==============================] - 0s 77us/sample - loss: 0.4060 - acc: 0.8561 - val_loss: 0.5316 - val_acc: 0.8128\n",
            "Epoch 55/200\n",
            "3503/3503 [==============================] - 0s 75us/sample - loss: 0.4015 - acc: 0.8590 - val_loss: 0.5232 - val_acc: 0.8162\n",
            "Epoch 56/200\n",
            "3503/3503 [==============================] - 0s 79us/sample - loss: 0.4036 - acc: 0.8536 - val_loss: 0.5289 - val_acc: 0.8025\n",
            "Epoch 57/200\n",
            "3503/3503 [==============================] - 0s 73us/sample - loss: 0.3974 - acc: 0.8578 - val_loss: 0.5064 - val_acc: 0.8253\n",
            "Epoch 58/200\n",
            "3503/3503 [==============================] - 0s 73us/sample - loss: 0.4004 - acc: 0.8587 - val_loss: 0.4932 - val_acc: 0.8253\n",
            "Epoch 59/200\n",
            "3503/3503 [==============================] - 0s 75us/sample - loss: 0.3924 - acc: 0.8607 - val_loss: 0.4920 - val_acc: 0.8299\n",
            "Epoch 60/200\n",
            "3503/3503 [==============================] - 0s 76us/sample - loss: 0.3877 - acc: 0.8658 - val_loss: 0.4985 - val_acc: 0.8185\n",
            "Epoch 61/200\n",
            "3503/3503 [==============================] - 0s 73us/sample - loss: 0.3913 - acc: 0.8576 - val_loss: 0.5131 - val_acc: 0.8288\n",
            "Epoch 62/200\n",
            "3503/3503 [==============================] - 0s 73us/sample - loss: 0.3866 - acc: 0.8661 - val_loss: 0.5157 - val_acc: 0.8219\n",
            "Epoch 63/200\n",
            "3503/3503 [==============================] - 0s 77us/sample - loss: 0.3862 - acc: 0.8590 - val_loss: 0.4881 - val_acc: 0.8242\n",
            "Epoch 64/200\n",
            "3503/3503 [==============================] - 0s 74us/sample - loss: 0.3851 - acc: 0.8661 - val_loss: 0.5147 - val_acc: 0.8322\n",
            "Epoch 65/200\n",
            "3503/3503 [==============================] - 0s 74us/sample - loss: 0.3830 - acc: 0.8621 - val_loss: 0.5060 - val_acc: 0.8231\n",
            "Epoch 66/200\n",
            "3503/3503 [==============================] - 0s 76us/sample - loss: 0.3835 - acc: 0.8661 - val_loss: 0.5120 - val_acc: 0.8265\n",
            "Epoch 67/200\n",
            "3503/3503 [==============================] - 0s 77us/sample - loss: 0.3772 - acc: 0.8635 - val_loss: 0.4974 - val_acc: 0.8185\n",
            "Epoch 68/200\n",
            "3503/3503 [==============================] - 0s 72us/sample - loss: 0.3779 - acc: 0.8693 - val_loss: 0.4839 - val_acc: 0.8276\n",
            "Epoch 69/200\n",
            "3503/3503 [==============================] - 0s 67us/sample - loss: 0.3740 - acc: 0.8655 - val_loss: 0.4862 - val_acc: 0.8288\n",
            "Epoch 70/200\n",
            "3503/3503 [==============================] - 0s 71us/sample - loss: 0.3726 - acc: 0.8678 - val_loss: 0.5044 - val_acc: 0.8208\n",
            "Epoch 71/200\n",
            "3503/3503 [==============================] - 0s 83us/sample - loss: 0.3717 - acc: 0.8687 - val_loss: 0.5125 - val_acc: 0.8276\n",
            "Epoch 72/200\n",
            "3503/3503 [==============================] - 0s 79us/sample - loss: 0.3719 - acc: 0.8701 - val_loss: 0.4783 - val_acc: 0.8311\n",
            "Epoch 73/200\n",
            "3503/3503 [==============================] - 0s 76us/sample - loss: 0.3658 - acc: 0.8730 - val_loss: 0.4836 - val_acc: 0.8288\n",
            "Epoch 74/200\n",
            "3503/3503 [==============================] - 0s 78us/sample - loss: 0.3667 - acc: 0.8713 - val_loss: 0.5134 - val_acc: 0.8196\n",
            "Epoch 75/200\n",
            "3503/3503 [==============================] - 0s 77us/sample - loss: 0.3672 - acc: 0.8693 - val_loss: 0.4723 - val_acc: 0.8345\n",
            "Epoch 76/200\n",
            "3503/3503 [==============================] - 0s 75us/sample - loss: 0.3591 - acc: 0.8724 - val_loss: 0.4869 - val_acc: 0.8333\n",
            "Epoch 77/200\n",
            "3503/3503 [==============================] - 0s 75us/sample - loss: 0.3644 - acc: 0.8701 - val_loss: 0.4957 - val_acc: 0.8162\n",
            "Epoch 78/200\n",
            "3503/3503 [==============================] - 0s 74us/sample - loss: 0.3630 - acc: 0.8675 - val_loss: 0.4997 - val_acc: 0.8116\n",
            "Epoch 79/200\n",
            "3503/3503 [==============================] - 0s 73us/sample - loss: 0.3605 - acc: 0.8752 - val_loss: 0.4726 - val_acc: 0.8345\n",
            "Epoch 80/200\n",
            "3503/3503 [==============================] - 0s 72us/sample - loss: 0.3543 - acc: 0.8735 - val_loss: 0.4808 - val_acc: 0.8402\n",
            "Epoch 81/200\n",
            "3503/3503 [==============================] - 0s 72us/sample - loss: 0.3541 - acc: 0.8764 - val_loss: 0.4757 - val_acc: 0.8276\n",
            "Epoch 82/200\n",
            "3503/3503 [==============================] - 0s 77us/sample - loss: 0.3533 - acc: 0.8747 - val_loss: 0.4829 - val_acc: 0.8196\n",
            "Epoch 83/200\n",
            "3503/3503 [==============================] - 0s 73us/sample - loss: 0.3500 - acc: 0.8772 - val_loss: 0.4917 - val_acc: 0.8219\n",
            "Epoch 84/200\n",
            "3503/3503 [==============================] - 0s 73us/sample - loss: 0.3566 - acc: 0.8695 - val_loss: 0.4889 - val_acc: 0.8242\n",
            "Epoch 85/200\n",
            "3503/3503 [==============================] - 0s 75us/sample - loss: 0.3463 - acc: 0.8772 - val_loss: 0.4785 - val_acc: 0.8242\n",
            "Epoch 86/200\n",
            "3503/3503 [==============================] - 0s 75us/sample - loss: 0.3518 - acc: 0.8718 - val_loss: 0.4853 - val_acc: 0.8231\n",
            "Epoch 87/200\n",
            "3503/3503 [==============================] - 0s 73us/sample - loss: 0.3475 - acc: 0.8730 - val_loss: 0.5046 - val_acc: 0.8288\n",
            "Epoch 88/200\n",
            "3503/3503 [==============================] - 0s 69us/sample - loss: 0.3437 - acc: 0.8781 - val_loss: 0.4798 - val_acc: 0.8288\n",
            "Epoch 89/200\n",
            "3503/3503 [==============================] - 0s 70us/sample - loss: 0.3482 - acc: 0.8730 - val_loss: 0.4834 - val_acc: 0.8368\n",
            "Epoch 90/200\n",
            "3503/3503 [==============================] - 0s 75us/sample - loss: 0.3475 - acc: 0.8724 - val_loss: 0.5020 - val_acc: 0.8253\n",
            "Epoch 91/200\n",
            "3503/3503 [==============================] - 0s 70us/sample - loss: 0.3429 - acc: 0.8738 - val_loss: 0.4696 - val_acc: 0.8311\n",
            "Epoch 92/200\n",
            "3503/3503 [==============================] - 0s 69us/sample - loss: 0.3406 - acc: 0.8790 - val_loss: 0.4688 - val_acc: 0.8322\n",
            "Epoch 93/200\n",
            "3503/3503 [==============================] - 0s 68us/sample - loss: 0.3365 - acc: 0.8815 - val_loss: 0.4688 - val_acc: 0.8322\n",
            "Epoch 94/200\n",
            "3503/3503 [==============================] - 0s 72us/sample - loss: 0.3351 - acc: 0.8821 - val_loss: 0.4757 - val_acc: 0.8253\n",
            "Epoch 95/200\n",
            "3503/3503 [==============================] - 0s 68us/sample - loss: 0.3411 - acc: 0.8767 - val_loss: 0.4858 - val_acc: 0.8265\n",
            "Epoch 96/200\n",
            "3503/3503 [==============================] - 0s 68us/sample - loss: 0.3360 - acc: 0.8778 - val_loss: 0.4747 - val_acc: 0.8345\n",
            "Epoch 97/200\n",
            "3503/3503 [==============================] - 0s 69us/sample - loss: 0.3395 - acc: 0.8778 - val_loss: 0.4650 - val_acc: 0.8402\n",
            "Epoch 98/200\n",
            "3503/3503 [==============================] - 0s 74us/sample - loss: 0.3342 - acc: 0.8801 - val_loss: 0.4673 - val_acc: 0.8368\n",
            "Epoch 99/200\n",
            "3503/3503 [==============================] - 0s 68us/sample - loss: 0.3323 - acc: 0.8815 - val_loss: 0.4876 - val_acc: 0.8276\n",
            "Epoch 100/200\n",
            "3503/3503 [==============================] - 0s 66us/sample - loss: 0.3322 - acc: 0.8807 - val_loss: 0.4772 - val_acc: 0.8242\n",
            "Epoch 101/200\n",
            "3503/3503 [==============================] - 0s 68us/sample - loss: 0.3307 - acc: 0.8815 - val_loss: 0.4641 - val_acc: 0.8379\n",
            "Epoch 102/200\n",
            "3503/3503 [==============================] - 0s 74us/sample - loss: 0.3280 - acc: 0.8812 - val_loss: 0.4785 - val_acc: 0.8231\n",
            "Epoch 103/200\n",
            "3503/3503 [==============================] - 0s 68us/sample - loss: 0.3295 - acc: 0.8784 - val_loss: 0.4933 - val_acc: 0.8368\n",
            "Epoch 104/200\n",
            "3503/3503 [==============================] - 0s 75us/sample - loss: 0.3264 - acc: 0.8864 - val_loss: 0.4759 - val_acc: 0.8311\n",
            "Epoch 105/200\n",
            "3503/3503 [==============================] - 0s 72us/sample - loss: 0.3304 - acc: 0.8798 - val_loss: 0.4611 - val_acc: 0.8299\n",
            "Epoch 106/200\n",
            "3503/3503 [==============================] - 0s 73us/sample - loss: 0.3217 - acc: 0.8858 - val_loss: 0.4832 - val_acc: 0.8322\n",
            "Epoch 107/200\n",
            "3503/3503 [==============================] - 0s 72us/sample - loss: 0.3222 - acc: 0.8838 - val_loss: 0.4573 - val_acc: 0.8345\n",
            "Epoch 108/200\n",
            "3503/3503 [==============================] - 0s 70us/sample - loss: 0.3322 - acc: 0.8792 - val_loss: 0.5205 - val_acc: 0.8139\n",
            "Epoch 109/200\n",
            "3503/3503 [==============================] - 0s 68us/sample - loss: 0.3241 - acc: 0.8835 - val_loss: 0.4581 - val_acc: 0.8345\n",
            "Epoch 110/200\n",
            "3503/3503 [==============================] - 0s 74us/sample - loss: 0.3212 - acc: 0.8858 - val_loss: 0.4652 - val_acc: 0.8345\n",
            "Epoch 111/200\n",
            "3503/3503 [==============================] - 0s 70us/sample - loss: 0.3186 - acc: 0.8870 - val_loss: 0.4702 - val_acc: 0.8276\n",
            "Epoch 112/200\n",
            "3503/3503 [==============================] - 0s 69us/sample - loss: 0.3191 - acc: 0.8827 - val_loss: 0.4593 - val_acc: 0.8390\n",
            "Epoch 113/200\n",
            "3503/3503 [==============================] - 0s 68us/sample - loss: 0.3191 - acc: 0.8830 - val_loss: 0.5252 - val_acc: 0.8151\n",
            "Epoch 114/200\n",
            "3503/3503 [==============================] - 0s 75us/sample - loss: 0.3180 - acc: 0.8884 - val_loss: 0.4595 - val_acc: 0.8402\n",
            "Epoch 115/200\n",
            "3503/3503 [==============================] - 0s 75us/sample - loss: 0.3176 - acc: 0.8875 - val_loss: 0.4677 - val_acc: 0.8413\n",
            "Epoch 116/200\n",
            "3503/3503 [==============================] - 0s 68us/sample - loss: 0.3127 - acc: 0.8864 - val_loss: 0.4580 - val_acc: 0.8390\n",
            "Epoch 117/200\n",
            "3503/3503 [==============================] - 0s 66us/sample - loss: 0.3156 - acc: 0.8861 - val_loss: 0.4652 - val_acc: 0.8356\n",
            "Epoch 118/200\n",
            "3503/3503 [==============================] - 0s 74us/sample - loss: 0.3104 - acc: 0.8907 - val_loss: 0.4525 - val_acc: 0.8368\n",
            "Epoch 119/200\n",
            "3503/3503 [==============================] - 0s 70us/sample - loss: 0.3105 - acc: 0.8890 - val_loss: 0.4572 - val_acc: 0.8425\n",
            "Epoch 120/200\n",
            "3503/3503 [==============================] - 0s 70us/sample - loss: 0.3131 - acc: 0.8887 - val_loss: 0.4775 - val_acc: 0.8299\n",
            "Epoch 121/200\n",
            "3503/3503 [==============================] - 0s 77us/sample - loss: 0.3124 - acc: 0.8895 - val_loss: 0.4663 - val_acc: 0.8322\n",
            "Epoch 122/200\n",
            "3503/3503 [==============================] - 0s 73us/sample - loss: 0.3092 - acc: 0.8898 - val_loss: 0.4894 - val_acc: 0.8276\n",
            "Epoch 123/200\n",
            "3503/3503 [==============================] - 0s 72us/sample - loss: 0.3171 - acc: 0.8864 - val_loss: 0.4734 - val_acc: 0.8368\n",
            "Epoch 124/200\n",
            "3503/3503 [==============================] - 0s 69us/sample - loss: 0.3062 - acc: 0.8901 - val_loss: 0.4540 - val_acc: 0.8413\n",
            "Epoch 125/200\n",
            "3503/3503 [==============================] - 0s 70us/sample - loss: 0.3011 - acc: 0.8938 - val_loss: 0.4666 - val_acc: 0.8311\n",
            "Epoch 126/200\n",
            "3503/3503 [==============================] - 0s 76us/sample - loss: 0.3082 - acc: 0.8864 - val_loss: 0.4897 - val_acc: 0.8345\n",
            "Epoch 127/200\n",
            "3503/3503 [==============================] - 0s 73us/sample - loss: 0.3047 - acc: 0.8924 - val_loss: 0.4670 - val_acc: 0.8311\n",
            "Epoch 128/200\n",
            "3503/3503 [==============================] - 0s 70us/sample - loss: 0.3111 - acc: 0.8841 - val_loss: 0.4698 - val_acc: 0.8356\n",
            "Epoch 129/200\n",
            "3503/3503 [==============================] - 0s 69us/sample - loss: 0.3038 - acc: 0.8904 - val_loss: 0.4629 - val_acc: 0.8368\n",
            "Epoch 130/200\n",
            "3503/3503 [==============================] - 0s 74us/sample - loss: 0.3030 - acc: 0.8901 - val_loss: 0.4673 - val_acc: 0.8345\n",
            "Epoch 131/200\n",
            "3503/3503 [==============================] - 0s 70us/sample - loss: 0.3036 - acc: 0.8910 - val_loss: 0.4740 - val_acc: 0.8333\n",
            "Epoch 132/200\n",
            "3503/3503 [==============================] - 0s 69us/sample - loss: 0.2985 - acc: 0.8958 - val_loss: 0.4828 - val_acc: 0.8379\n",
            "Epoch 133/200\n",
            "3503/3503 [==============================] - 0s 71us/sample - loss: 0.2978 - acc: 0.8890 - val_loss: 0.4856 - val_acc: 0.8276\n",
            "Epoch 134/200\n",
            "3503/3503 [==============================] - 0s 71us/sample - loss: 0.3010 - acc: 0.8910 - val_loss: 0.4611 - val_acc: 0.8356\n",
            "Epoch 135/200\n",
            "3503/3503 [==============================] - 0s 69us/sample - loss: 0.2993 - acc: 0.8944 - val_loss: 0.4512 - val_acc: 0.8402\n",
            "Epoch 136/200\n",
            "3503/3503 [==============================] - 0s 67us/sample - loss: 0.2910 - acc: 0.8944 - val_loss: 0.4876 - val_acc: 0.8253\n",
            "Epoch 137/200\n",
            "3503/3503 [==============================] - 0s 69us/sample - loss: 0.2973 - acc: 0.8955 - val_loss: 0.4892 - val_acc: 0.8253\n",
            "Epoch 138/200\n",
            "3503/3503 [==============================] - 0s 70us/sample - loss: 0.3010 - acc: 0.8907 - val_loss: 0.4559 - val_acc: 0.8436\n",
            "Epoch 139/200\n",
            "3503/3503 [==============================] - 0s 72us/sample - loss: 0.2948 - acc: 0.8978 - val_loss: 0.4539 - val_acc: 0.8413\n",
            "Epoch 140/200\n",
            "3503/3503 [==============================] - 0s 70us/sample - loss: 0.2904 - acc: 0.8952 - val_loss: 0.4598 - val_acc: 0.8356\n",
            "Epoch 141/200\n",
            "3503/3503 [==============================] - 0s 68us/sample - loss: 0.2970 - acc: 0.8924 - val_loss: 0.4582 - val_acc: 0.8402\n",
            "Epoch 142/200\n",
            "3503/3503 [==============================] - 0s 70us/sample - loss: 0.2895 - acc: 0.8987 - val_loss: 0.4843 - val_acc: 0.8356\n",
            "Epoch 143/200\n",
            "3503/3503 [==============================] - 0s 71us/sample - loss: 0.2934 - acc: 0.8952 - val_loss: 0.4637 - val_acc: 0.8413\n",
            "Epoch 144/200\n",
            "3503/3503 [==============================] - 0s 76us/sample - loss: 0.2934 - acc: 0.8924 - val_loss: 0.4836 - val_acc: 0.8368\n",
            "Epoch 145/200\n",
            "3503/3503 [==============================] - 0s 70us/sample - loss: 0.2891 - acc: 0.8918 - val_loss: 0.4718 - val_acc: 0.8368\n",
            "Epoch 146/200\n",
            "3503/3503 [==============================] - 0s 70us/sample - loss: 0.2962 - acc: 0.8944 - val_loss: 0.4819 - val_acc: 0.8311\n",
            "Epoch 147/200\n",
            "3503/3503 [==============================] - 0s 70us/sample - loss: 0.2910 - acc: 0.8975 - val_loss: 0.4566 - val_acc: 0.8402\n",
            "Epoch 148/200\n",
            "3503/3503 [==============================] - 0s 68us/sample - loss: 0.2848 - acc: 0.8981 - val_loss: 0.4555 - val_acc: 0.8447\n",
            "Epoch 149/200\n",
            "3503/3503 [==============================] - 0s 75us/sample - loss: 0.2834 - acc: 0.8969 - val_loss: 0.4976 - val_acc: 0.8288\n",
            "Epoch 150/200\n",
            "3503/3503 [==============================] - 0s 70us/sample - loss: 0.2841 - acc: 0.8958 - val_loss: 0.4702 - val_acc: 0.8379\n",
            "Epoch 151/200\n",
            "3503/3503 [==============================] - 0s 73us/sample - loss: 0.2819 - acc: 0.8989 - val_loss: 0.4636 - val_acc: 0.8390\n",
            "Epoch 152/200\n",
            "3503/3503 [==============================] - 0s 70us/sample - loss: 0.2821 - acc: 0.8984 - val_loss: 0.5202 - val_acc: 0.8128\n",
            "Epoch 153/200\n",
            "3503/3503 [==============================] - 0s 69us/sample - loss: 0.2881 - acc: 0.8938 - val_loss: 0.4680 - val_acc: 0.8390\n",
            "Epoch 154/200\n",
            "3503/3503 [==============================] - 0s 70us/sample - loss: 0.2843 - acc: 0.8975 - val_loss: 0.4557 - val_acc: 0.8436\n",
            "Epoch 155/200\n",
            "3503/3503 [==============================] - 0s 73us/sample - loss: 0.2832 - acc: 0.8981 - val_loss: 0.4803 - val_acc: 0.8356\n",
            "Epoch 156/200\n",
            "3503/3503 [==============================] - 0s 69us/sample - loss: 0.2809 - acc: 0.8998 - val_loss: 0.4759 - val_acc: 0.8345\n",
            "Epoch 157/200\n",
            "3503/3503 [==============================] - 0s 71us/sample - loss: 0.2958 - acc: 0.8907 - val_loss: 0.4778 - val_acc: 0.8379\n",
            "Epoch 158/200\n",
            "3503/3503 [==============================] - 0s 73us/sample - loss: 0.2751 - acc: 0.9012 - val_loss: 0.4664 - val_acc: 0.8402\n",
            "Epoch 159/200\n",
            "3503/3503 [==============================] - 0s 70us/sample - loss: 0.2775 - acc: 0.8995 - val_loss: 0.5023 - val_acc: 0.8231\n",
            "Epoch 160/200\n",
            "3503/3503 [==============================] - 0s 66us/sample - loss: 0.2849 - acc: 0.8989 - val_loss: 0.4625 - val_acc: 0.8436\n",
            "Epoch 161/200\n",
            "3503/3503 [==============================] - 0s 72us/sample - loss: 0.2760 - acc: 0.8972 - val_loss: 0.4940 - val_acc: 0.8345\n",
            "Epoch 162/200\n",
            "3503/3503 [==============================] - 0s 77us/sample - loss: 0.2779 - acc: 0.9004 - val_loss: 0.4486 - val_acc: 0.8447\n",
            "Epoch 163/200\n",
            "3503/3503 [==============================] - 0s 73us/sample - loss: 0.2704 - acc: 0.9049 - val_loss: 0.4695 - val_acc: 0.8368\n",
            "Epoch 164/200\n",
            "3503/3503 [==============================] - 0s 66us/sample - loss: 0.2744 - acc: 0.9009 - val_loss: 0.4538 - val_acc: 0.8459\n",
            "Epoch 165/200\n",
            "3503/3503 [==============================] - 0s 71us/sample - loss: 0.2787 - acc: 0.9012 - val_loss: 0.4897 - val_acc: 0.8345\n",
            "Epoch 166/200\n",
            "3503/3503 [==============================] - 0s 69us/sample - loss: 0.2715 - acc: 0.9029 - val_loss: 0.4557 - val_acc: 0.8379\n",
            "Epoch 167/200\n",
            "3503/3503 [==============================] - 0s 69us/sample - loss: 0.2728 - acc: 0.9061 - val_loss: 0.4782 - val_acc: 0.8368\n",
            "Epoch 168/200\n",
            "3503/3503 [==============================] - 0s 70us/sample - loss: 0.2709 - acc: 0.9021 - val_loss: 0.4925 - val_acc: 0.8345\n",
            "Epoch 169/200\n",
            "3503/3503 [==============================] - 0s 71us/sample - loss: 0.2680 - acc: 0.9018 - val_loss: 0.4617 - val_acc: 0.8390\n",
            "Epoch 170/200\n",
            "3503/3503 [==============================] - 0s 71us/sample - loss: 0.2776 - acc: 0.8967 - val_loss: 0.4818 - val_acc: 0.8311\n",
            "Epoch 171/200\n",
            "3503/3503 [==============================] - 0s 72us/sample - loss: 0.2718 - acc: 0.9038 - val_loss: 0.4523 - val_acc: 0.8425\n",
            "Epoch 172/200\n",
            "3503/3503 [==============================] - 0s 69us/sample - loss: 0.2687 - acc: 0.9061 - val_loss: 0.4636 - val_acc: 0.8425\n",
            "Epoch 173/200\n",
            "3503/3503 [==============================] - 0s 69us/sample - loss: 0.2702 - acc: 0.9027 - val_loss: 0.4555 - val_acc: 0.8390\n",
            "Epoch 174/200\n",
            "3503/3503 [==============================] - 0s 73us/sample - loss: 0.2652 - acc: 0.9052 - val_loss: 0.4823 - val_acc: 0.8322\n",
            "Epoch 175/200\n",
            "3503/3503 [==============================] - 0s 72us/sample - loss: 0.2628 - acc: 0.9078 - val_loss: 0.5395 - val_acc: 0.8196\n",
            "Epoch 176/200\n",
            "3503/3503 [==============================] - 0s 70us/sample - loss: 0.2727 - acc: 0.9024 - val_loss: 0.4502 - val_acc: 0.8459\n",
            "Epoch 177/200\n",
            "3503/3503 [==============================] - 0s 68us/sample - loss: 0.2728 - acc: 0.8978 - val_loss: 0.4625 - val_acc: 0.8390\n",
            "Epoch 178/200\n",
            "3503/3503 [==============================] - 0s 69us/sample - loss: 0.2629 - acc: 0.9038 - val_loss: 0.4677 - val_acc: 0.8379\n",
            "Epoch 179/200\n",
            "3503/3503 [==============================] - 0s 71us/sample - loss: 0.2627 - acc: 0.9092 - val_loss: 0.4758 - val_acc: 0.8333\n",
            "Epoch 180/200\n",
            "3503/3503 [==============================] - 0s 67us/sample - loss: 0.2611 - acc: 0.9086 - val_loss: 0.4564 - val_acc: 0.8402\n",
            "Epoch 181/200\n",
            "3503/3503 [==============================] - 0s 70us/sample - loss: 0.2667 - acc: 0.9024 - val_loss: 0.4862 - val_acc: 0.8208\n",
            "Epoch 182/200\n",
            "3503/3503 [==============================] - 0s 70us/sample - loss: 0.2590 - acc: 0.9055 - val_loss: 0.4690 - val_acc: 0.8379\n",
            "Epoch 183/200\n",
            "3503/3503 [==============================] - 0s 71us/sample - loss: 0.2638 - acc: 0.9047 - val_loss: 0.4762 - val_acc: 0.8390\n",
            "Epoch 184/200\n",
            "3503/3503 [==============================] - 0s 70us/sample - loss: 0.2563 - acc: 0.9078 - val_loss: 0.4823 - val_acc: 0.8288\n",
            "Epoch 185/200\n",
            "3503/3503 [==============================] - 0s 70us/sample - loss: 0.2605 - acc: 0.9069 - val_loss: 0.4578 - val_acc: 0.8493\n",
            "Epoch 186/200\n",
            "3503/3503 [==============================] - 0s 73us/sample - loss: 0.2717 - acc: 0.9024 - val_loss: 0.4559 - val_acc: 0.8447\n",
            "Epoch 187/200\n",
            "3503/3503 [==============================] - 0s 73us/sample - loss: 0.2593 - acc: 0.9058 - val_loss: 0.4809 - val_acc: 0.8459\n",
            "Epoch 188/200\n",
            "3503/3503 [==============================] - 0s 69us/sample - loss: 0.2623 - acc: 0.9038 - val_loss: 0.4578 - val_acc: 0.8436\n",
            "Epoch 189/200\n",
            "3503/3503 [==============================] - 0s 69us/sample - loss: 0.2592 - acc: 0.9084 - val_loss: 0.4662 - val_acc: 0.8505\n",
            "Epoch 190/200\n",
            "3503/3503 [==============================] - 0s 71us/sample - loss: 0.2605 - acc: 0.9086 - val_loss: 0.4540 - val_acc: 0.8505\n",
            "Epoch 191/200\n",
            "3503/3503 [==============================] - 0s 76us/sample - loss: 0.2567 - acc: 0.9126 - val_loss: 0.4589 - val_acc: 0.8368\n",
            "Epoch 192/200\n",
            "3503/3503 [==============================] - 0s 70us/sample - loss: 0.2576 - acc: 0.9081 - val_loss: 0.4752 - val_acc: 0.8413\n",
            "Epoch 193/200\n",
            "3503/3503 [==============================] - 0s 70us/sample - loss: 0.2547 - acc: 0.9047 - val_loss: 0.4627 - val_acc: 0.8413\n",
            "Epoch 194/200\n",
            "3503/3503 [==============================] - 0s 73us/sample - loss: 0.2506 - acc: 0.9115 - val_loss: 0.4710 - val_acc: 0.8482\n",
            "Epoch 195/200\n",
            "3503/3503 [==============================] - 0s 78us/sample - loss: 0.2510 - acc: 0.9141 - val_loss: 0.4604 - val_acc: 0.8402\n",
            "Epoch 196/200\n",
            "3503/3503 [==============================] - 0s 70us/sample - loss: 0.2505 - acc: 0.9092 - val_loss: 0.4653 - val_acc: 0.8390\n",
            "Epoch 197/200\n",
            "3503/3503 [==============================] - 0s 69us/sample - loss: 0.2518 - acc: 0.9098 - val_loss: 0.4638 - val_acc: 0.8425\n",
            "Epoch 198/200\n",
            "3503/3503 [==============================] - 0s 70us/sample - loss: 0.2522 - acc: 0.9104 - val_loss: 0.4676 - val_acc: 0.8459\n",
            "Epoch 199/200\n",
            "3503/3503 [==============================] - 0s 71us/sample - loss: 0.2549 - acc: 0.9112 - val_loss: 0.4768 - val_acc: 0.8368\n",
            "Epoch 200/200\n",
            "3503/3503 [==============================] - 0s 71us/sample - loss: 0.2522 - acc: 0.9135 - val_loss: 0.4517 - val_acc: 0.8413\n",
            "53.65111 Seconds to predict\n"
          ],
          "name": "stdout"
        }
      ]
    },
    {
      "cell_type": "code",
      "metadata": {
        "id": "Hx7j85wYazni",
        "colab_type": "code",
        "outputId": "6cfca0e6-c835-4f2b-a183-f257f2f87a16",
        "colab": {
          "base_uri": "https://localhost:8080/",
          "height": 350
        }
      },
      "source": [
        "import matplotlib.pyplot as plt\n",
        "\n",
        "acc = history.history['acc']\n",
        "val_acc = history.history['val_acc']\n",
        "loss = history.history['loss']\n",
        "val_loss = history.history['val_loss']\n",
        "\n",
        "epochs = range(len(acc))\n",
        "\n",
        "plt.figure(figsize=(15,5))\n",
        "\n",
        "plt.subplot(1, 2, 1)\n",
        "plt.plot(epochs, acc, label='Training acc')\n",
        "plt.plot(epochs, val_acc, label='Validation acc')\n",
        "plt.title('Training and validation accuracy')\n",
        "plt.xlabel('epoch')\n",
        "plt.ylabel('accuracy')\n",
        "plt.legend()\n",
        "            \n",
        "plt.subplot(1, 2, 2)\n",
        "plt.plot(epochs, loss, label='Training loss')\n",
        "plt.plot(epochs, val_loss, label='Validation loss')\n",
        "plt.title('Training and validation loss')\n",
        "plt.xlabel('epoch')\n",
        "plt.ylabel('loss')\n",
        "plt.legend()\n",
        "\n",
        "plt.show()"
      ],
      "execution_count": 0,
      "outputs": [
        {
          "output_type": "display_data",
          "data": {
            "image/png": "[encoded data removed]",
            "text/plain": [
              "<Figure size 1080x360 with 2 Axes>"
            ]
          },
          "metadata": {
            "tags": []
          }
        }
      ]
    }
  ]
}