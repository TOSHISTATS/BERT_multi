{
  "nbformat": 4,
  "nbformat_minor": 0,
  "metadata": {
    "colab": {
      "name": "Classification of Japanese news-title by TensorFlow2-BERT_20200227.ipynb",
      "provenance": [],
      "collapsed_sections": []
    },
    "language_info": {
      "codemirror_mode": {
        "name": "ipython",
        "version": 3
      },
      "file_extension": ".py",
      "mimetype": "text/x-python",
      "name": "python",
      "nbconvert_exporter": "python",
      "pygments_lexer": "ipython3",
      "version": "3.6.7"
    },
    "kernelspec": {
      "name": "python3",
      "display_name": "Python 3"
    },
    "accelerator": "GPU",
    "widgets": {
      "application/vnd.jupyter.widget-state+json": {
        "8d9ed6b6491946b3b95be1c9f7484a4a": {
          "model_module": "@jupyter-widgets/controls",
          "model_name": "HBoxModel",
          "state": {
            "_view_name": "HBoxView",
            "_dom_classes": [],
            "_model_name": "HBoxModel",
            "_view_module": "@jupyter-widgets/controls",
            "_model_module_version": "1.5.0",
            "_view_count": null,
            "_view_module_version": "1.5.0",
            "box_style": "",
            "layout": "IPY_MODEL_57d6b82e7477435b957ddd147fd2e969",
            "_model_module": "@jupyter-widgets/controls",
            "children": [
              "IPY_MODEL_f471ba541714439f84de051640a4fc6d",
              "IPY_MODEL_362ebf8e3be447a68af18c023862d111"
            ]
          }
        },
        "57d6b82e7477435b957ddd147fd2e969": {
          "model_module": "@jupyter-widgets/base",
          "model_name": "LayoutModel",
          "state": {
            "_view_name": "LayoutView",
            "grid_template_rows": null,
            "right": null,
            "justify_content": null,
            "_view_module": "@jupyter-widgets/base",
            "overflow": null,
            "_model_module_version": "1.2.0",
            "_view_count": null,
            "flex_flow": null,
            "width": null,
            "min_width": null,
            "border": null,
            "align_items": null,
            "bottom": null,
            "_model_module": "@jupyter-widgets/base",
            "top": null,
            "grid_column": null,
            "overflow_y": null,
            "overflow_x": null,
            "grid_auto_flow": null,
            "grid_area": null,
            "grid_template_columns": null,
            "flex": null,
            "_model_name": "LayoutModel",
            "justify_items": null,
            "grid_row": null,
            "max_height": null,
            "align_content": null,
            "visibility": null,
            "align_self": null,
            "height": null,
            "min_height": null,
            "padding": null,
            "grid_auto_rows": null,
            "grid_gap": null,
            "max_width": null,
            "order": null,
            "_view_module_version": "1.2.0",
            "grid_template_areas": null,
            "object_position": null,
            "object_fit": null,
            "grid_auto_columns": null,
            "margin": null,
            "display": null,
            "left": null
          }
        },
        "f471ba541714439f84de051640a4fc6d": {
          "model_module": "@jupyter-widgets/controls",
          "model_name": "IntProgressModel",
          "state": {
            "_view_name": "ProgressView",
            "style": "IPY_MODEL_3ef49fe9033c4172b74937e9dd373ae6",
            "_dom_classes": [],
            "description": "Converting examples to features",
            "_model_name": "IntProgressModel",
            "bar_style": "success",
            "max": 3503,
            "_view_module": "@jupyter-widgets/controls",
            "_model_module_version": "1.5.0",
            "value": 3503,
            "_view_count": null,
            "_view_module_version": "1.5.0",
            "orientation": "horizontal",
            "min": 0,
            "description_tooltip": null,
            "_model_module": "@jupyter-widgets/controls",
            "layout": "IPY_MODEL_71d6cf714823455dab70221d0cf36ca2"
          }
        },
        "362ebf8e3be447a68af18c023862d111": {
          "model_module": "@jupyter-widgets/controls",
          "model_name": "HTMLModel",
          "state": {
            "_view_name": "HTMLView",
            "style": "IPY_MODEL_319e227380354a4d9d76e9c9371d3f64",
            "_dom_classes": [],
            "description": "",
            "_model_name": "HTMLModel",
            "placeholder": "​",
            "_view_module": "@jupyter-widgets/controls",
            "_model_module_version": "1.5.0",
            "value": "100% 3503/3503 [00:00&lt;00:00, 3639.02it/s]",
            "_view_count": null,
            "_view_module_version": "1.5.0",
            "description_tooltip": null,
            "_model_module": "@jupyter-widgets/controls",
            "layout": "IPY_MODEL_b243f3dd5f5b45cc970e3dec4094cb62"
          }
        },
        "3ef49fe9033c4172b74937e9dd373ae6": {
          "model_module": "@jupyter-widgets/controls",
          "model_name": "ProgressStyleModel",
          "state": {
            "_view_name": "StyleView",
            "_model_name": "ProgressStyleModel",
            "description_width": "initial",
            "_view_module": "@jupyter-widgets/base",
            "_model_module_version": "1.5.0",
            "_view_count": null,
            "_view_module_version": "1.2.0",
            "bar_color": null,
            "_model_module": "@jupyter-widgets/controls"
          }
        },
        "71d6cf714823455dab70221d0cf36ca2": {
          "model_module": "@jupyter-widgets/base",
          "model_name": "LayoutModel",
          "state": {
            "_view_name": "LayoutView",
            "grid_template_rows": null,
            "right": null,
            "justify_content": null,
            "_view_module": "@jupyter-widgets/base",
            "overflow": null,
            "_model_module_version": "1.2.0",
            "_view_count": null,
            "flex_flow": null,
            "width": null,
            "min_width": null,
            "border": null,
            "align_items": null,
            "bottom": null,
            "_model_module": "@jupyter-widgets/base",
            "top": null,
            "grid_column": null,
            "overflow_y": null,
            "overflow_x": null,
            "grid_auto_flow": null,
            "grid_area": null,
            "grid_template_columns": null,
            "flex": null,
            "_model_name": "LayoutModel",
            "justify_items": null,
            "grid_row": null,
            "max_height": null,
            "align_content": null,
            "visibility": null,
            "align_self": null,
            "height": null,
            "min_height": null,
            "padding": null,
            "grid_auto_rows": null,
            "grid_gap": null,
            "max_width": null,
            "order": null,
            "_view_module_version": "1.2.0",
            "grid_template_areas": null,
            "object_position": null,
            "object_fit": null,
            "grid_auto_columns": null,
            "margin": null,
            "display": null,
            "left": null
          }
        },
        "319e227380354a4d9d76e9c9371d3f64": {
          "model_module": "@jupyter-widgets/controls",
          "model_name": "DescriptionStyleModel",
          "state": {
            "_view_name": "StyleView",
            "_model_name": "DescriptionStyleModel",
            "description_width": "",
            "_view_module": "@jupyter-widgets/base",
            "_model_module_version": "1.5.0",
            "_view_count": null,
            "_view_module_version": "1.2.0",
            "_model_module": "@jupyter-widgets/controls"
          }
        },
        "b243f3dd5f5b45cc970e3dec4094cb62": {
          "model_module": "@jupyter-widgets/base",
          "model_name": "LayoutModel",
          "state": {
            "_view_name": "LayoutView",
            "grid_template_rows": null,
            "right": null,
            "justify_content": null,
            "_view_module": "@jupyter-widgets/base",
            "overflow": null,
            "_model_module_version": "1.2.0",
            "_view_count": null,
            "flex_flow": null,
            "width": null,
            "min_width": null,
            "border": null,
            "align_items": null,
            "bottom": null,
            "_model_module": "@jupyter-widgets/base",
            "top": null,
            "grid_column": null,
            "overflow_y": null,
            "overflow_x": null,
            "grid_auto_flow": null,
            "grid_area": null,
            "grid_template_columns": null,
            "flex": null,
            "_model_name": "LayoutModel",
            "justify_items": null,
            "grid_row": null,
            "max_height": null,
            "align_content": null,
            "visibility": null,
            "align_self": null,
            "height": null,
            "min_height": null,
            "padding": null,
            "grid_auto_rows": null,
            "grid_gap": null,
            "max_width": null,
            "order": null,
            "_view_module_version": "1.2.0",
            "grid_template_areas": null,
            "object_position": null,
            "object_fit": null,
            "grid_auto_columns": null,
            "margin": null,
            "display": null,
            "left": null
          }
        },
        "fcb6c12fae564d678ca7bc9aef43bc62": {
          "model_module": "@jupyter-widgets/controls",
          "model_name": "HBoxModel",
          "state": {
            "_view_name": "HBoxView",
            "_dom_classes": [],
            "_model_name": "HBoxModel",
            "_view_module": "@jupyter-widgets/controls",
            "_model_module_version": "1.5.0",
            "_view_count": null,
            "_view_module_version": "1.5.0",
            "box_style": "",
            "layout": "IPY_MODEL_f5db68d5f0e1483fa46421ce2188dd26",
            "_model_module": "@jupyter-widgets/controls",
            "children": [
              "IPY_MODEL_21dee991ef20437188816588fb8ffa42",
              "IPY_MODEL_b6ca91722a704c2188be86f7eb93eb3b"
            ]
          }
        },
        "f5db68d5f0e1483fa46421ce2188dd26": {
          "model_module": "@jupyter-widgets/base",
          "model_name": "LayoutModel",
          "state": {
            "_view_name": "LayoutView",
            "grid_template_rows": null,
            "right": null,
            "justify_content": null,
            "_view_module": "@jupyter-widgets/base",
            "overflow": null,
            "_model_module_version": "1.2.0",
            "_view_count": null,
            "flex_flow": null,
            "width": null,
            "min_width": null,
            "border": null,
            "align_items": null,
            "bottom": null,
            "_model_module": "@jupyter-widgets/base",
            "top": null,
            "grid_column": null,
            "overflow_y": null,
            "overflow_x": null,
            "grid_auto_flow": null,
            "grid_area": null,
            "grid_template_columns": null,
            "flex": null,
            "_model_name": "LayoutModel",
            "justify_items": null,
            "grid_row": null,
            "max_height": null,
            "align_content": null,
            "visibility": null,
            "align_self": null,
            "height": null,
            "min_height": null,
            "padding": null,
            "grid_auto_rows": null,
            "grid_gap": null,
            "max_width": null,
            "order": null,
            "_view_module_version": "1.2.0",
            "grid_template_areas": null,
            "object_position": null,
            "object_fit": null,
            "grid_auto_columns": null,
            "margin": null,
            "display": null,
            "left": null
          }
        },
        "21dee991ef20437188816588fb8ffa42": {
          "model_module": "@jupyter-widgets/controls",
          "model_name": "IntProgressModel",
          "state": {
            "_view_name": "ProgressView",
            "style": "IPY_MODEL_bdc68277f9124bfd8114e4e3564235fd",
            "_dom_classes": [],
            "description": "Converting examples to features",
            "_model_name": "IntProgressModel",
            "bar_style": "success",
            "max": 876,
            "_view_module": "@jupyter-widgets/controls",
            "_model_module_version": "1.5.0",
            "value": 876,
            "_view_count": null,
            "_view_module_version": "1.5.0",
            "orientation": "horizontal",
            "min": 0,
            "description_tooltip": null,
            "_model_module": "@jupyter-widgets/controls",
            "layout": "IPY_MODEL_adb61b927e97491e826f507d90658a8d"
          }
        },
        "b6ca91722a704c2188be86f7eb93eb3b": {
          "model_module": "@jupyter-widgets/controls",
          "model_name": "HTMLModel",
          "state": {
            "_view_name": "HTMLView",
            "style": "IPY_MODEL_8722fff94e1642e2a3ebd013822ba0b0",
            "_dom_classes": [],
            "description": "",
            "_model_name": "HTMLModel",
            "placeholder": "​",
            "_view_module": "@jupyter-widgets/controls",
            "_model_module_version": "1.5.0",
            "value": "100% 876/876 [00:00&lt;00:00, 4427.16it/s]",
            "_view_count": null,
            "_view_module_version": "1.5.0",
            "description_tooltip": null,
            "_model_module": "@jupyter-widgets/controls",
            "layout": "IPY_MODEL_71575593da24492b82bd47af79365e82"
          }
        },
        "bdc68277f9124bfd8114e4e3564235fd": {
          "model_module": "@jupyter-widgets/controls",
          "model_name": "ProgressStyleModel",
          "state": {
            "_view_name": "StyleView",
            "_model_name": "ProgressStyleModel",
            "description_width": "initial",
            "_view_module": "@jupyter-widgets/base",
            "_model_module_version": "1.5.0",
            "_view_count": null,
            "_view_module_version": "1.2.0",
            "bar_color": null,
            "_model_module": "@jupyter-widgets/controls"
          }
        },
        "adb61b927e97491e826f507d90658a8d": {
          "model_module": "@jupyter-widgets/base",
          "model_name": "LayoutModel",
          "state": {
            "_view_name": "LayoutView",
            "grid_template_rows": null,
            "right": null,
            "justify_content": null,
            "_view_module": "@jupyter-widgets/base",
            "overflow": null,
            "_model_module_version": "1.2.0",
            "_view_count": null,
            "flex_flow": null,
            "width": null,
            "min_width": null,
            "border": null,
            "align_items": null,
            "bottom": null,
            "_model_module": "@jupyter-widgets/base",
            "top": null,
            "grid_column": null,
            "overflow_y": null,
            "overflow_x": null,
            "grid_auto_flow": null,
            "grid_area": null,
            "grid_template_columns": null,
            "flex": null,
            "_model_name": "LayoutModel",
            "justify_items": null,
            "grid_row": null,
            "max_height": null,
            "align_content": null,
            "visibility": null,
            "align_self": null,
            "height": null,
            "min_height": null,
            "padding": null,
            "grid_auto_rows": null,
            "grid_gap": null,
            "max_width": null,
            "order": null,
            "_view_module_version": "1.2.0",
            "grid_template_areas": null,
            "object_position": null,
            "object_fit": null,
            "grid_auto_columns": null,
            "margin": null,
            "display": null,
            "left": null
          }
        },
        "8722fff94e1642e2a3ebd013822ba0b0": {
          "model_module": "@jupyter-widgets/controls",
          "model_name": "DescriptionStyleModel",
          "state": {
            "_view_name": "StyleView",
            "_model_name": "DescriptionStyleModel",
            "description_width": "",
            "_view_module": "@jupyter-widgets/base",
            "_model_module_version": "1.5.0",
            "_view_count": null,
            "_view_module_version": "1.2.0",
            "_model_module": "@jupyter-widgets/controls"
          }
        },
        "71575593da24492b82bd47af79365e82": {
          "model_module": "@jupyter-widgets/base",
          "model_name": "LayoutModel",
          "state": {
            "_view_name": "LayoutView",
            "grid_template_rows": null,
            "right": null,
            "justify_content": null,
            "_view_module": "@jupyter-widgets/base",
            "overflow": null,
            "_model_module_version": "1.2.0",
            "_view_count": null,
            "flex_flow": null,
            "width": null,
            "min_width": null,
            "border": null,
            "align_items": null,
            "bottom": null,
            "_model_module": "@jupyter-widgets/base",
            "top": null,
            "grid_column": null,
            "overflow_y": null,
            "overflow_x": null,
            "grid_auto_flow": null,
            "grid_area": null,
            "grid_template_columns": null,
            "flex": null,
            "_model_name": "LayoutModel",
            "justify_items": null,
            "grid_row": null,
            "max_height": null,
            "align_content": null,
            "visibility": null,
            "align_self": null,
            "height": null,
            "min_height": null,
            "padding": null,
            "grid_auto_rows": null,
            "grid_gap": null,
            "max_width": null,
            "order": null,
            "_view_module_version": "1.2.0",
            "grid_template_areas": null,
            "object_position": null,
            "object_fit": null,
            "grid_auto_columns": null,
            "margin": null,
            "display": null,
            "left": null
          }
        }
      }
    }
  },
  "cells": [
    {
      "cell_type": "markdown",
      "metadata": {
        "id": "VWgIg00VKisH",
        "colab_type": "text"
      },
      "source": [
        "# BERTによる日本語ニュースタイトルの判別¶"
      ]
    },
    {
      "cell_type": "markdown",
      "metadata": {
        "id": "S877H_3w1eZ4",
        "colab_type": "text"
      },
      "source": [
        "# Classification of Japanese news-title by BERT"
      ]
    },
    {
      "cell_type": "markdown",
      "metadata": {
        "id": "aWry1gnsyOzO",
        "colab_type": "text"
      },
      "source": [
        "## 1. Import library （ライブラリの取得）"
      ]
    },
    {
      "cell_type": "code",
      "metadata": {
        "id": "Vdhb6kVqdZKt",
        "colab_type": "code",
        "colab": {}
      },
      "source": [
        "!pip install  sentencepiece\n",
        "!pip install tensorflow==2.1.0"
      ],
      "execution_count": 0,
      "outputs": []
    },
    {
      "cell_type": "code",
      "metadata": {
        "id": "mHWnTGwCc96Q",
        "colab_type": "code",
        "outputId": "7f7ac64a-bfa0-4907-cdda-d955b5aaa0bf",
        "colab": {
          "base_uri": "https://localhost:8080/",
          "height": 35
        }
      },
      "source": [
        "import tensorflow as tf\n",
        "import tensorflow_hub as hub\n",
        "import matplotlib.pyplot as plt\n",
        "import numpy as np\n",
        "import os\n",
        "import pandas as pd\n",
        "import re\n",
        "import time\n",
        "import seaborn as sns\n",
        "import sys\n",
        "from tqdm import tqdm_notebook\n",
        "\n",
        "np.random.seed(10)\n",
        "\n",
        "tf.__version__"
      ],
      "execution_count": 0,
      "outputs": [
        {
          "output_type": "execute_result",
          "data": {
            "text/plain": [
              "'2.1.0'"
            ]
          },
          "metadata": {
            "tags": []
          },
          "execution_count": 2
        }
      ]
    },
    {
      "cell_type": "code",
      "metadata": {
        "id": "8edFwLsK_c5I",
        "colab_type": "code",
        "colab": {}
      },
      "source": [
        "from google.colab import drive\n",
        "drive.mount('/content/gdrive')"
      ],
      "execution_count": 0,
      "outputs": []
    },
    {
      "cell_type": "code",
      "metadata": {
        "id": "b9lRJHilxwyV",
        "colab_type": "code",
        "outputId": "8cb3248c-3619-4c2b-afcb-45413f92d6e1",
        "colab": {
          "base_uri": "https://localhost:8080/",
          "height": 167
        }
      },
      "source": [
        "!test -d bert_repo || git clone https://github.com/tensorflow/models bert_repo\n",
        "\n",
        "if not 'bert_repo' in sys.path:\n",
        "  sys.path += ['bert_repo']\n",
        "\n",
        "max_seq_length = 50"
      ],
      "execution_count": 0,
      "outputs": [
        {
          "output_type": "stream",
          "text": [
            "Cloning into 'bert_repo'...\n",
            "remote: Enumerating objects: 57, done.\u001b[K\n",
            "remote: Counting objects: 100% (57/57), done.\u001b[K\n",
            "remote: Compressing objects: 100% (51/51), done.\u001b[K\n",
            "remote: Total 34255 (delta 28), reused 28 (delta 6), pack-reused 34198\u001b[K\n",
            "Receiving objects: 100% (34255/34255), 512.35 MiB | 36.46 MiB/s, done.\n",
            "Resolving deltas: 100% (21968/21968), done.\n",
            "Checking out files: 100% (2504/2504), done.\n"
          ],
          "name": "stdout"
        }
      ]
    },
    {
      "cell_type": "code",
      "metadata": {
        "id": "KxVGcJ6nWZ0E",
        "colab_type": "code",
        "colab": {}
      },
      "source": [
        "import tokenization\n",
        "from tokenization import FullTokenizer"
      ],
      "execution_count": 0,
      "outputs": []
    },
    {
      "cell_type": "markdown",
      "metadata": {
        "id": "fLtxM4w9AxRz",
        "colab_type": "text"
      },
      "source": [
        "## 2. Load livedoor-news-data （ライブドアニュースデータの取得）\n"
      ]
    },
    {
      "cell_type": "markdown",
      "metadata": {
        "id": "11drK--516C9",
        "colab_type": "text"
      },
      "source": [
        "ivedoor news corpus CC BY-ND 2.1 JP　　　https://www.rondhuit.com/download.html#ldcc"
      ]
    },
    {
      "cell_type": "code",
      "metadata": {
        "id": "B6fxrOqrttGY",
        "colab_type": "code",
        "outputId": "e971b051-68af-4ac2-e568-d49479618299",
        "colab": {
          "base_uri": "https://localhost:8080/",
          "height": 54
        }
      },
      "source": [
        "!ls"
      ],
      "execution_count": 0,
      "outputs": [
        {
          "output_type": "stream",
          "text": [
            "dev5.tsv\tit-life-hack   livedoor-homme  peachy  sports-watch  train5.tsv\n",
            "dokujo-tsushin\tkaden-channel  movie-enter     smax    topic-news\n"
          ],
          "name": "stdout"
        }
      ]
    },
    {
      "cell_type": "code",
      "metadata": {
        "id": "HOYlk-EscSqd",
        "colab_type": "code",
        "colab": {}
      },
      "source": [
        "train_df = pd.read_csv(\"train5.tsv\", delimiter='\\t', header=None, names=['label', 'title'])\n",
        "dev_df = pd.read_csv(\"dev5.tsv\", delimiter='\\t', header=None, names=['label', 'title'])\n"
      ],
      "execution_count": 0,
      "outputs": []
    },
    {
      "cell_type": "code",
      "metadata": {
        "id": "jbQpDWW-dHOd",
        "colab_type": "code",
        "outputId": "7fa4faf7-805a-4818-f729-1c1ea6793e58",
        "colab": {
          "base_uri": "https://localhost:8080/",
          "height": 201
        }
      },
      "source": [
        "train_df=train_df.loc[:, ['title','label']]\n",
        "train_df=train_df.rename({'title':'sentence','label':'polarity'},axis='columns')\n",
        "train_df.head() "
      ],
      "execution_count": 0,
      "outputs": [
        {
          "output_type": "execute_result",
          "data": {
            "text/html": [
              "<div>\n",
              "<style scoped>\n",
              "    .dataframe tbody tr th:only-of-type {\n",
              "        vertical-align: middle;\n",
              "    }\n",
              "\n",
              "    .dataframe tbody tr th {\n",
              "        vertical-align: top;\n",
              "    }\n",
              "\n",
              "    .dataframe thead th {\n",
              "        text-align: right;\n",
              "    }\n",
              "</style>\n",
              "<table border=\"1\" class=\"dataframe\">\n",
              "  <thead>\n",
              "    <tr style=\"text-align: right;\">\n",
              "      <th></th>\n",
              "      <th>sentence</th>\n",
              "      <th>polarity</th>\n",
              "    </tr>\n",
              "  </thead>\n",
              "  <tbody>\n",
              "    <tr>\n",
              "      <th>0</th>\n",
              "      <td>月額1,050円でSASディスクを搭載！クラウドプラン 「エクスライト（EX-LITE）」の...</td>\n",
              "      <td>0</td>\n",
              "    </tr>\n",
              "    <tr>\n",
              "      <th>1</th>\n",
              "      <td>例のあのメニューも！ニコニコ超会議のフードコートメニュー14種類紹介（前半）</td>\n",
              "      <td>0</td>\n",
              "    </tr>\n",
              "    <tr>\n",
              "      <th>2</th>\n",
              "      <td>山田孝之と小西真奈美の映画に撮影していない“あるモノ”が映り込んでいた</td>\n",
              "      <td>1</td>\n",
              "    </tr>\n",
              "    <tr>\n",
              "      <th>3</th>\n",
              "      <td>ガガを聴きながら毎朝歯磨き！　レディー・ガガ　シンギングトゥースブラシ独占先行販売</td>\n",
              "      <td>0</td>\n",
              "    </tr>\n",
              "    <tr>\n",
              "      <th>4</th>\n",
              "      <td>斎藤佑樹はプロで通用するのか？</td>\n",
              "      <td>2</td>\n",
              "    </tr>\n",
              "  </tbody>\n",
              "</table>\n",
              "</div>"
            ],
            "text/plain": [
              "                                            sentence  polarity\n",
              "0  月額1,050円でSASディスクを搭載！クラウドプラン 「エクスライト（EX-LITE）」の...         0\n",
              "1             例のあのメニューも！ニコニコ超会議のフードコートメニュー14種類紹介（前半）         0\n",
              "2                山田孝之と小西真奈美の映画に撮影していない“あるモノ”が映り込んでいた         1\n",
              "3          ガガを聴きながら毎朝歯磨き！　レディー・ガガ　シンギングトゥースブラシ独占先行販売         0\n",
              "4                                    斎藤佑樹はプロで通用するのか？         2"
            ]
          },
          "metadata": {
            "tags": []
          },
          "execution_count": 12
        }
      ]
    },
    {
      "cell_type": "code",
      "metadata": {
        "id": "mYH7IpxQcN7y",
        "colab_type": "code",
        "outputId": "93911881-cde6-40eb-ab3f-756c70d91dca",
        "colab": {
          "base_uri": "https://localhost:8080/",
          "height": 661
        }
      },
      "source": [
        "dev_df=dev_df.loc[:, ['title','label']]\n",
        "dev_df=dev_df.rename({'title':'sentence','label':'polarity'},axis='columns')\n",
        "dev_df.head(20) "
      ],
      "execution_count": 0,
      "outputs": [
        {
          "output_type": "execute_result",
          "data": {
            "text/html": [
              "<div>\n",
              "<style scoped>\n",
              "    .dataframe tbody tr th:only-of-type {\n",
              "        vertical-align: middle;\n",
              "    }\n",
              "\n",
              "    .dataframe tbody tr th {\n",
              "        vertical-align: top;\n",
              "    }\n",
              "\n",
              "    .dataframe thead th {\n",
              "        text-align: right;\n",
              "    }\n",
              "</style>\n",
              "<table border=\"1\" class=\"dataframe\">\n",
              "  <thead>\n",
              "    <tr style=\"text-align: right;\">\n",
              "      <th></th>\n",
              "      <th>sentence</th>\n",
              "      <th>polarity</th>\n",
              "    </tr>\n",
              "  </thead>\n",
              "  <tbody>\n",
              "    <tr>\n",
              "      <th>0</th>\n",
              "      <td>ドコモのｓｐモードでまたトラブル発生！　今度はつながらない【話題】</td>\n",
              "      <td>4</td>\n",
              "    </tr>\n",
              "    <tr>\n",
              "      <th>1</th>\n",
              "      <td>ダルビッシュ、今季だけで3つの魔球体得へ</td>\n",
              "      <td>2</td>\n",
              "    </tr>\n",
              "    <tr>\n",
              "      <th>2</th>\n",
              "      <td>本格的に仕事復帰、マリエが今一番会いたい人は“スギちゃん”</td>\n",
              "      <td>1</td>\n",
              "    </tr>\n",
              "    <tr>\n",
              "      <th>3</th>\n",
              "      <td>価格が安価で矯正を気づかれない！綺麗な歯並びになれる、歯列矯正の最前線</td>\n",
              "      <td>0</td>\n",
              "    </tr>\n",
              "    <tr>\n",
              "      <th>4</th>\n",
              "      <td>先輩・桑田、松井秀喜にズバリ「引退とかは考えなかった？」</td>\n",
              "      <td>2</td>\n",
              "    </tr>\n",
              "    <tr>\n",
              "      <th>5</th>\n",
              "      <td>【モテる家電】誰でもかっこよくなれる！　男の正しい眉整え術</td>\n",
              "      <td>4</td>\n",
              "    </tr>\n",
              "    <tr>\n",
              "      <th>6</th>\n",
              "      <td>【オトナ女子のリアルな悩み】最長で半年…恋愛が長続きしない理由は？</td>\n",
              "      <td>3</td>\n",
              "    </tr>\n",
              "    <tr>\n",
              "      <th>7</th>\n",
              "      <td>虐待だ！の声多数、日テレで人気のワンコが声帯除去手術を受けていた事実に非難殺到【話題】</td>\n",
              "      <td>4</td>\n",
              "    </tr>\n",
              "    <tr>\n",
              "      <th>8</th>\n",
              "      <td>1枚で主食＋デザートに!?　宅配ピザ最前線「モッチリーノ」のお得なおいしさ</td>\n",
              "      <td>3</td>\n",
              "    </tr>\n",
              "    <tr>\n",
              "      <th>9</th>\n",
              "      <td>スマホで花咲く恋もある!?　合コンで使える本当の“モテテク”</td>\n",
              "      <td>3</td>\n",
              "    </tr>\n",
              "    <tr>\n",
              "      <th>10</th>\n",
              "      <td>「女性の持つコンプレックスを取り去る仕事」 湘南美容外科クリニック イメケン“情熱”院長イン...</td>\n",
              "      <td>3</td>\n",
              "    </tr>\n",
              "    <tr>\n",
              "      <th>11</th>\n",
              "      <td>愛と節約　Presented by ゆるっとcafe</td>\n",
              "      <td>3</td>\n",
              "    </tr>\n",
              "    <tr>\n",
              "      <th>12</th>\n",
              "      <td>Test Report タスカム US-125M［USBオーディオインターフェイス］【ビデオ...</td>\n",
              "      <td>4</td>\n",
              "    </tr>\n",
              "    <tr>\n",
              "      <th>13</th>\n",
              "      <td>【週末映画まとめ読み】武井咲「あまり台本を読まなくていいのかな？」</td>\n",
              "      <td>1</td>\n",
              "    </tr>\n",
              "    <tr>\n",
              "      <th>14</th>\n",
              "      <td>「3.11で変わったこと」をリアルに感じるアンケート結果を公開！</td>\n",
              "      <td>3</td>\n",
              "    </tr>\n",
              "    <tr>\n",
              "      <th>15</th>\n",
              "      <td>大阪人に挑戦状！ 『シャーロック・ホームズ』謎解きパズルが出現</td>\n",
              "      <td>1</td>\n",
              "    </tr>\n",
              "    <tr>\n",
              "      <th>16</th>\n",
              "      <td>死ぬまで戦え！　『スターシップ・トゥルーパーズ』昆虫と人類の壮絶な戦いが再び</td>\n",
              "      <td>1</td>\n",
              "    </tr>\n",
              "    <tr>\n",
              "      <th>17</th>\n",
              "      <td>パナソニック新発売のエアコンは新開発「トップユニット」構造の「Xシリーズ」</td>\n",
              "      <td>4</td>\n",
              "    </tr>\n",
              "    <tr>\n",
              "      <th>18</th>\n",
              "      <td>スマホ持ちで有線なアナタに！無線LAN親機になる超小型アダプター</td>\n",
              "      <td>0</td>\n",
              "    </tr>\n",
              "    <tr>\n",
              "      <th>19</th>\n",
              "      <td>クリスマスに選びたい最高のプレゼントとは？</td>\n",
              "      <td>3</td>\n",
              "    </tr>\n",
              "  </tbody>\n",
              "</table>\n",
              "</div>"
            ],
            "text/plain": [
              "                                             sentence  polarity\n",
              "0                   ドコモのｓｐモードでまたトラブル発生！　今度はつながらない【話題】         4\n",
              "1                                ダルビッシュ、今季だけで3つの魔球体得へ         2\n",
              "2                       本格的に仕事復帰、マリエが今一番会いたい人は“スギちゃん”         1\n",
              "3                 価格が安価で矯正を気づかれない！綺麗な歯並びになれる、歯列矯正の最前線         0\n",
              "4                        先輩・桑田、松井秀喜にズバリ「引退とかは考えなかった？」         2\n",
              "5                       【モテる家電】誰でもかっこよくなれる！　男の正しい眉整え術         4\n",
              "6                   【オトナ女子のリアルな悩み】最長で半年…恋愛が長続きしない理由は？         3\n",
              "7         虐待だ！の声多数、日テレで人気のワンコが声帯除去手術を受けていた事実に非難殺到【話題】         4\n",
              "8               1枚で主食＋デザートに!?　宅配ピザ最前線「モッチリーノ」のお得なおいしさ         3\n",
              "9                      スマホで花咲く恋もある!?　合コンで使える本当の“モテテク”         3\n",
              "10  「女性の持つコンプレックスを取り去る仕事」 湘南美容外科クリニック イメケン“情熱”院長イン...         3\n",
              "11                         愛と節約　Presented by ゆるっとcafe         3\n",
              "12  Test Report タスカム US-125M［USBオーディオインターフェイス］【ビデオ...         4\n",
              "13                  【週末映画まとめ読み】武井咲「あまり台本を読まなくていいのかな？」         1\n",
              "14                   「3.11で変わったこと」をリアルに感じるアンケート結果を公開！         3\n",
              "15                    大阪人に挑戦状！ 『シャーロック・ホームズ』謎解きパズルが出現         1\n",
              "16             死ぬまで戦え！　『スターシップ・トゥルーパーズ』昆虫と人類の壮絶な戦いが再び         1\n",
              "17              パナソニック新発売のエアコンは新開発「トップユニット」構造の「Xシリーズ」         4\n",
              "18                   スマホ持ちで有線なアナタに！無線LAN親機になる超小型アダプター         0\n",
              "19                              クリスマスに選びたい最高のプレゼントとは？         3"
            ]
          },
          "metadata": {
            "tags": []
          },
          "execution_count": 13
        }
      ]
    },
    {
      "cell_type": "code",
      "metadata": {
        "id": "nEJbAj_zAxR_",
        "colab_type": "code",
        "colab": {}
      },
      "source": [
        "# Create datasets (Only take up to max_seq_length words for memory)\n",
        "train_text = train_df['sentence'].tolist()\n",
        "train_text = [' '.join(t.split()[0:max_seq_length]) for t in train_text]\n",
        "train_text = np.array(train_text, dtype=object)\n",
        "train_label = train_df['polarity'].tolist()\n",
        "\n",
        "test_text = dev_df['sentence'].tolist()\n",
        "test_text = [' '.join(t.split()[0:max_seq_length]) for t in test_text]\n",
        "test_text = np.array(test_text, dtype=object)[:, np.newaxis]\n",
        "test_label = dev_df['polarity'].tolist()"
      ],
      "execution_count": 0,
      "outputs": []
    },
    {
      "cell_type": "markdown",
      "metadata": {
        "id": "djv4vpTiAxSC",
        "colab_type": "text"
      },
      "source": [
        "## 3. Tokenize texts （テキストをトークン化）\n"
      ]
    },
    {
      "cell_type": "code",
      "metadata": {
        "id": "GgokLmlIVuCU",
        "colab_type": "code",
        "colab": {}
      },
      "source": [
        "# Params for bert model and tokenization\n",
        "bert_path = \"https://tfhub.dev/tensorflow/bert_multi_cased_L-12_H-768_A-12/1\""
      ],
      "execution_count": 0,
      "outputs": []
    },
    {
      "cell_type": "code",
      "metadata": {
        "id": "_rY2OVIPVeAe",
        "colab_type": "code",
        "colab": {}
      },
      "source": [
        "input_word_ids = tf.keras.layers.Input(shape=(max_seq_length,), dtype=tf.int32,\n",
        "                                       name=\"input_word_ids\")\n",
        "input_mask = tf.keras.layers.Input(shape=(max_seq_length,), dtype=tf.int32,\n",
        "                                   name=\"input_mask\")\n",
        "segment_ids = tf.keras.layers.Input(shape=(max_seq_length,), dtype=tf.int32,\n",
        "                                    name=\"segment_ids\")\n",
        "bert_layer = hub.KerasLayer(bert_path, trainable=True)\n",
        "pooled_output, sequence_output = bert_layer([input_word_ids, input_mask, segment_ids])"
      ],
      "execution_count": 0,
      "outputs": []
    },
    {
      "cell_type": "code",
      "metadata": {
        "id": "Z0e0VP7AV588",
        "colab_type": "code",
        "colab": {}
      },
      "source": [
        "vocab_file = bert_layer.resolved_object.vocab_file.asset_path.numpy()\n",
        "do_lower_case = bert_layer.resolved_object.do_lower_case.numpy()\n",
        "tokenizer = tokenization.FullTokenizer(vocab_file, do_lower_case)"
      ],
      "execution_count": 0,
      "outputs": []
    },
    {
      "cell_type": "code",
      "metadata": {
        "id": "PNqcKXb7W4_E",
        "colab_type": "code",
        "outputId": "0553e71d-a053-45a4-c3d8-3c3e1a240dc3",
        "colab": {
          "base_uri": "https://localhost:8080/",
          "height": 118,
          "referenced_widgets": [
            "8d9ed6b6491946b3b95be1c9f7484a4a",
            "57d6b82e7477435b957ddd147fd2e969",
            "f471ba541714439f84de051640a4fc6d",
            "362ebf8e3be447a68af18c023862d111",
            "3ef49fe9033c4172b74937e9dd373ae6",
            "71d6cf714823455dab70221d0cf36ca2",
            "319e227380354a4d9d76e9c9371d3f64",
            "b243f3dd5f5b45cc970e3dec4094cb62",
            "fcb6c12fae564d678ca7bc9aef43bc62",
            "f5db68d5f0e1483fa46421ce2188dd26",
            "21dee991ef20437188816588fb8ffa42",
            "b6ca91722a704c2188be86f7eb93eb3b",
            "bdc68277f9124bfd8114e4e3564235fd",
            "adb61b927e97491e826f507d90658a8d",
            "8722fff94e1642e2a3ebd013822ba0b0",
            "71575593da24492b82bd47af79365e82"
          ]
        }
      },
      "source": [
        "class PaddingInputExample(object):\n",
        "    \"\"\"Fake example so the num input examples is a multiple of the batch size.\n",
        "  When running eval/predict on the TPU, we need to pad the number of examples\n",
        "  to be a multiple of the batch size, because the TPU requires a fixed batch\n",
        "  size. The alternative is to drop the last batch, which is bad because it means\n",
        "  the entire output data won't be generated.\n",
        "  We use this class instead of `None` because treating `None` as padding\n",
        "  battches could cause silent errors.\n",
        "  \"\"\"\n",
        "\n",
        "class InputExample(object):\n",
        "    \"\"\"A single training/test example for simple sequence classification.\"\"\"\n",
        "\n",
        "    def __init__(self, guid, text_a, text_b=None, label=None):\n",
        "        \"\"\"Constructs a InputExample.\n",
        "    Args:\n",
        "      guid: Unique id for the example.\n",
        "      text_a: string. The untokenized text of the first sequence. For single\n",
        "        sequence tasks, only this sequence must be specified.\n",
        "      text_b: (Optional) string. The untokenized text of the second sequence.\n",
        "        Only must be specified for sequence pair tasks.\n",
        "      label: (Optional) string. The label of the example. This should be\n",
        "        specified for train and dev examples, but not for test examples.\n",
        "    \"\"\"\n",
        "        self.guid = guid\n",
        "        self.text_a = text_a\n",
        "        self.text_b = text_b\n",
        "        self.label = label\n",
        "\n",
        "\n",
        "def convert_single_example(tokenizer, example, max_seq_length=max_seq_length):\n",
        "    \"\"\"Converts a single `InputExample` into a single `InputFeatures`.\"\"\"\n",
        "\n",
        "    if isinstance(example, PaddingInputExample):\n",
        "        input_ids = [0] * max_seq_length\n",
        "        input_mask = [0] * max_seq_length\n",
        "        segment_ids = [0] * max_seq_length\n",
        "        label = 0\n",
        "        return input_ids, input_mask, segment_ids, label\n",
        "\n",
        "    tokens_a = tokenizer.tokenize(example.text_a)\n",
        "    if len(tokens_a) > max_seq_length - 2:\n",
        "        tokens_a = tokens_a[0 : (max_seq_length - 2)]\n",
        "\n",
        "    tokens = []\n",
        "    segment_ids = []\n",
        "    tokens.append(\"[CLS]\")\n",
        "    segment_ids.append(0)\n",
        "    for token in tokens_a:\n",
        "        tokens.append(token)\n",
        "        segment_ids.append(0)\n",
        "    tokens.append(\"[SEP]\")\n",
        "    segment_ids.append(0)\n",
        "\n",
        "    input_ids = tokenizer.convert_tokens_to_ids(tokens)\n",
        "\n",
        "    # The mask has 1 for real tokens and 0 for padding tokens. Only real\n",
        "    # tokens are attended to.\n",
        "    input_mask = [1] * len(input_ids)\n",
        "\n",
        "    # Zero-pad up to the sequence length.\n",
        "    while len(input_ids) < max_seq_length:\n",
        "        input_ids.append(0)\n",
        "        input_mask.append(0)\n",
        "        segment_ids.append(0)\n",
        "\n",
        "    assert len(input_ids) == max_seq_length\n",
        "    assert len(input_mask) == max_seq_length\n",
        "    assert len(segment_ids) == max_seq_length\n",
        "\n",
        "    return input_ids, input_mask, segment_ids, example.label\n",
        "\n",
        "def convert_examples_to_features(tokenizer, examples, max_seq_length):\n",
        "    \"\"\"Convert a set of `InputExample`s to a list of `InputFeatures`.\"\"\"\n",
        "\n",
        "    input_ids, input_masks, segment_ids, labels = [], [], [], []\n",
        "    for example in tqdm_notebook(examples, desc=\"Converting examples to features\"):\n",
        "        input_id, input_mask, segment_id, label = convert_single_example(\n",
        "            tokenizer, example, max_seq_length\n",
        "        )\n",
        "        input_ids.append(input_id)\n",
        "        input_masks.append(input_mask)\n",
        "        segment_ids.append(segment_id)\n",
        "        labels.append(label)\n",
        "    return (\n",
        "        np.array(input_ids, dtype='int32'),\n",
        "        np.array(input_masks, dtype='int32'),\n",
        "        np.array(segment_ids, dtype='int32'),\n",
        "        np.array(labels, dtype='int32').reshape(-1, 1),\n",
        "    )\n",
        "\n",
        "def convert_text_to_examples(texts, labels):\n",
        "    \"\"\"Create InputExamples\"\"\"\n",
        "    InputExamples = []\n",
        "    for text, label in zip(texts, labels):\n",
        "        InputExamples.append(\n",
        "            InputExample(guid=None, text_a=\" \".join(text), text_b=None, label=label)\n",
        "        )\n",
        "    return InputExamples\n",
        "  \n",
        "\n",
        "\n",
        "# Convert data to InputExample format\n",
        "train_examples = convert_text_to_examples(train_text, train_label)\n",
        "test_examples = convert_text_to_examples(test_text, test_label)\n",
        "\n",
        "#train_examples = train_examples[0:500]\n",
        "#test_examples = test_examples[0:500]\n",
        "\n",
        "# Convert to features\n",
        "(train_input_ids, train_input_masks, train_segment_ids, train_labels \n",
        ") = convert_examples_to_features(tokenizer, train_examples, max_seq_length=max_seq_length)\n",
        "(test_input_ids, test_input_masks, test_segment_ids, test_labels\n",
        ") = convert_examples_to_features(tokenizer, test_examples, max_seq_length=max_seq_length)"
      ],
      "execution_count": 0,
      "outputs": [
        {
          "output_type": "display_data",
          "data": {
            "application/vnd.jupyter.widget-view+json": {
              "model_id": "8d9ed6b6491946b3b95be1c9f7484a4a",
              "version_minor": 0,
              "version_major": 2
            },
            "text/plain": [
              "HBox(children=(IntProgress(value=0, description='Converting examples to features', max=3503, style=ProgressSty…"
            ]
          },
          "metadata": {
            "tags": []
          }
        },
        {
          "output_type": "stream",
          "text": [
            "\n"
          ],
          "name": "stdout"
        },
        {
          "output_type": "display_data",
          "data": {
            "application/vnd.jupyter.widget-view+json": {
              "model_id": "fcb6c12fae564d678ca7bc9aef43bc62",
              "version_minor": 0,
              "version_major": 2
            },
            "text/plain": [
              "HBox(children=(IntProgress(value=0, description='Converting examples to features', max=876, style=ProgressStyl…"
            ]
          },
          "metadata": {
            "tags": []
          }
        },
        {
          "output_type": "stream",
          "text": [
            "\n"
          ],
          "name": "stdout"
        }
      ]
    },
    {
      "cell_type": "code",
      "metadata": {
        "id": "7jn3DDeJyNVx",
        "colab_type": "code",
        "outputId": "67358d4b-9c7a-457a-9ed5-1e44aee15e79",
        "colab": {
          "base_uri": "https://localhost:8080/",
          "height": 167
        }
      },
      "source": [
        "print(train_input_ids.dtype)\n",
        "print(train_input_ids[0])\n",
        "print(type(train_input_ids))\n",
        "print(np.shape(train_input_ids))"
      ],
      "execution_count": 0,
      "outputs": [
        {
          "output_type": "stream",
          "text": [
            "int32\n",
            "[  101  4460  8399   122   117   121   126   121  2469  1939   156   138\n",
            "   156  2022  1986  2008  1998  1980  4204  7612 10055  1998  2056  1989\n",
            "  2024  2038  2056  2064  1890  1991  1998  2008  2056  1987  2023 10060\n",
            "   142   161   118   149   146   157   142 10061  1891  1946  8618  2594\n",
            "  1980   102]\n",
            "<class 'numpy.ndarray'>\n",
            "(3503, 50)\n"
          ],
          "name": "stdout"
        }
      ]
    },
    {
      "cell_type": "code",
      "metadata": {
        "id": "6hHYbErJXLaV",
        "colab_type": "code",
        "outputId": "2e1b7b2c-57ad-4e6b-99e9-6138dc2a73dd",
        "colab": {
          "base_uri": "https://localhost:8080/",
          "height": 92
        }
      },
      "source": [
        "print(train_input_masks[0])\n",
        "print(type(train_input_masks))\n",
        "print(np.shape(train_input_masks))"
      ],
      "execution_count": 0,
      "outputs": [
        {
          "output_type": "stream",
          "text": [
            "[1 1 1 1 1 1 1 1 1 1 1 1 1 1 1 1 1 1 1 1 1 1 1 1 1 1 1 1 1 1 1 1 1 1 1 1 1\n",
            " 1 1 1 1 1 1 1 1 1 1 1 1 1]\n",
            "<class 'numpy.ndarray'>\n",
            "(3503, 50)\n"
          ],
          "name": "stdout"
        }
      ]
    },
    {
      "cell_type": "code",
      "metadata": {
        "id": "9wM5cng7XfP4",
        "colab_type": "code",
        "outputId": "3b0b671c-b60d-4bd6-9ef6-ad4c2caf420d",
        "colab": {
          "base_uri": "https://localhost:8080/",
          "height": 92
        }
      },
      "source": [
        "print(train_segment_ids[0])\n",
        "print(type(train_segment_ids))\n",
        "print(np.shape(train_segment_ids))"
      ],
      "execution_count": 0,
      "outputs": [
        {
          "output_type": "stream",
          "text": [
            "[0 0 0 0 0 0 0 0 0 0 0 0 0 0 0 0 0 0 0 0 0 0 0 0 0 0 0 0 0 0 0 0 0 0 0 0 0\n",
            " 0 0 0 0 0 0 0 0 0 0 0 0 0]\n",
            "<class 'numpy.ndarray'>\n",
            "(3503, 50)\n"
          ],
          "name": "stdout"
        }
      ]
    },
    {
      "cell_type": "markdown",
      "metadata": {
        "id": "lZfx-5oeG8MX",
        "colab_type": "text"
      },
      "source": [
        "##  4. Build BERT model (モデルの訓練)¶"
      ]
    },
    {
      "cell_type": "code",
      "metadata": {
        "id": "e-6g8WlGXvi5",
        "colab_type": "code",
        "outputId": "f516187d-d4c8-4bfe-c8eb-9f5c678fe70a",
        "colab": {
          "base_uri": "https://localhost:8080/",
          "height": 429
        }
      },
      "source": [
        "input_word_ids = tf.keras.layers.Input(shape=(max_seq_length,), dtype=tf.int32, name=\"input_word_ids\")\n",
        "input_mask = tf.keras.layers.Input(shape=(max_seq_length,), dtype=tf.int32, name=\"input_mask\")\n",
        "segment_ids = tf.keras.layers.Input(shape=(max_seq_length,), dtype=tf.int32,name=\"segment_ids\")\n",
        "\n",
        "bert_layer = hub.KerasLayer(bert_path, trainable=False)\n",
        "\n",
        "pooled_output = bert_layer([input_word_ids, input_mask, segment_ids])\n",
        "x = tf.keras.layers.Dense(32, activation='relu')(pooled_output[0])\n",
        "pred = tf.keras.layers.Dense(5, activation='sigmoid')(x) \n",
        "\n",
        "model=tf.keras.Model(inputs=[input_word_ids, input_mask, segment_ids], outputs=pred)\n",
        "\n",
        "model.summary()"
      ],
      "execution_count": 0,
      "outputs": [
        {
          "output_type": "stream",
          "text": [
            "Model: \"model\"\n",
            "__________________________________________________________________________________________________\n",
            "Layer (type)                    Output Shape         Param #     Connected to                     \n",
            "==================================================================================================\n",
            "input_word_ids (InputLayer)     [(None, 50)]         0                                            \n",
            "__________________________________________________________________________________________________\n",
            "input_mask (InputLayer)         [(None, 50)]         0                                            \n",
            "__________________________________________________________________________________________________\n",
            "segment_ids (InputLayer)        [(None, 50)]         0                                            \n",
            "__________________________________________________________________________________________________\n",
            "keras_layer_1 (KerasLayer)      [(None, 768), (None, 177853441   input_word_ids[0][0]             \n",
            "                                                                 input_mask[0][0]                 \n",
            "                                                                 segment_ids[0][0]                \n",
            "__________________________________________________________________________________________________\n",
            "dense (Dense)                   (None, 32)           24608       keras_layer_1[0][0]              \n",
            "__________________________________________________________________________________________________\n",
            "dense_1 (Dense)                 (None, 5)            165         dense[0][0]                      \n",
            "==================================================================================================\n",
            "Total params: 177,878,214\n",
            "Trainable params: 24,773\n",
            "Non-trainable params: 177,853,441\n",
            "__________________________________________________________________________________________________\n"
          ],
          "name": "stdout"
        }
      ]
    },
    {
      "cell_type": "code",
      "metadata": {
        "id": "uMACzpksX56r",
        "colab_type": "code",
        "colab": {}
      },
      "source": [
        "model.compile(optimizer='adam', loss='sparse_categorical_crossentropy', metrics=['accuracy'])"
      ],
      "execution_count": 0,
      "outputs": []
    },
    {
      "cell_type": "code",
      "metadata": {
        "id": "_C1qgzsoX7pw",
        "colab_type": "code",
        "outputId": "2917bf47-8f9b-4dce-c7f1-ff25f4964c66",
        "colab": {
          "base_uri": "https://localhost:8080/",
          "height": 1000
        }
      },
      "source": [
        "t=time.time()\n",
        "\n",
        "history = model.fit([train_input_ids, train_input_masks, train_segment_ids],\n",
        "                    train_labels,\n",
        "                    epochs=100,\n",
        "                    batch_size=512,\n",
        "                    validation_data=([test_input_ids, test_input_masks, test_segment_ids], test_labels),\n",
        "                    verbose=1)\n",
        "\n",
        "t2 = time.time()\n",
        "print(round(t2-t, 5), 'Seconds to predict')"
      ],
      "execution_count": 0,
      "outputs": [
        {
          "output_type": "stream",
          "text": [
            "Train on 3503 samples, validate on 876 samples\n",
            "Epoch 1/100\n",
            "3503/3503 [==============================] - 25s 7ms/sample - loss: 1.6012 - accuracy: 0.2449 - val_loss: 1.5697 - val_accuracy: 0.3870\n",
            "Epoch 2/100\n",
            "3503/3503 [==============================] - 17s 5ms/sample - loss: 1.5576 - accuracy: 0.3782 - val_loss: 1.5238 - val_accuracy: 0.4566\n",
            "Epoch 3/100\n",
            "3503/3503 [==============================] - 17s 5ms/sample - loss: 1.5075 - accuracy: 0.4739 - val_loss: 1.4721 - val_accuracy: 0.5068\n",
            "Epoch 4/100\n",
            "3503/3503 [==============================] - 17s 5ms/sample - loss: 1.4404 - accuracy: 0.5301 - val_loss: 1.4023 - val_accuracy: 0.4852\n",
            "Epoch 5/100\n",
            "3503/3503 [==============================] - 17s 5ms/sample - loss: 1.3594 - accuracy: 0.5467 - val_loss: 1.3161 - val_accuracy: 0.5594\n",
            "Epoch 6/100\n",
            "3503/3503 [==============================] - 17s 5ms/sample - loss: 1.2758 - accuracy: 0.5829 - val_loss: 1.2483 - val_accuracy: 0.5639\n",
            "Epoch 7/100\n",
            "3503/3503 [==============================] - 17s 5ms/sample - loss: 1.2044 - accuracy: 0.5949 - val_loss: 1.2193 - val_accuracy: 0.5559\n",
            "Epoch 8/100\n",
            "3503/3503 [==============================] - 17s 5ms/sample - loss: 1.1458 - accuracy: 0.6058 - val_loss: 1.1533 - val_accuracy: 0.5651\n",
            "Epoch 9/100\n",
            "3503/3503 [==============================] - 18s 5ms/sample - loss: 1.0973 - accuracy: 0.6200 - val_loss: 1.0925 - val_accuracy: 0.6153\n",
            "Epoch 10/100\n",
            "3503/3503 [==============================] - 18s 5ms/sample - loss: 1.0608 - accuracy: 0.6280 - val_loss: 1.0638 - val_accuracy: 0.6073\n",
            "Epoch 11/100\n",
            "3503/3503 [==============================] - 18s 5ms/sample - loss: 1.0208 - accuracy: 0.6460 - val_loss: 1.0545 - val_accuracy: 0.6062\n",
            "Epoch 12/100\n",
            "3503/3503 [==============================] - 18s 5ms/sample - loss: 0.9918 - accuracy: 0.6549 - val_loss: 1.0133 - val_accuracy: 0.6164\n",
            "Epoch 13/100\n",
            "3503/3503 [==============================] - 18s 5ms/sample - loss: 0.9602 - accuracy: 0.6631 - val_loss: 0.9701 - val_accuracy: 0.6244\n",
            "Epoch 14/100\n",
            "3503/3503 [==============================] - 18s 5ms/sample - loss: 0.9338 - accuracy: 0.6709 - val_loss: 0.9335 - val_accuracy: 0.6564\n",
            "Epoch 15/100\n",
            "3503/3503 [==============================] - 18s 5ms/sample - loss: 0.9111 - accuracy: 0.6840 - val_loss: 0.9340 - val_accuracy: 0.6473\n",
            "Epoch 16/100\n",
            "3503/3503 [==============================] - 18s 5ms/sample - loss: 0.8865 - accuracy: 0.6906 - val_loss: 0.9200 - val_accuracy: 0.6450\n",
            "Epoch 17/100\n",
            "3503/3503 [==============================] - 18s 5ms/sample - loss: 0.8682 - accuracy: 0.6983 - val_loss: 0.8505 - val_accuracy: 0.6792\n",
            "Epoch 18/100\n",
            "3503/3503 [==============================] - 18s 5ms/sample - loss: 0.8568 - accuracy: 0.6965 - val_loss: 0.8455 - val_accuracy: 0.6689\n",
            "Epoch 19/100\n",
            "3503/3503 [==============================] - 18s 5ms/sample - loss: 0.8344 - accuracy: 0.7008 - val_loss: 0.8515 - val_accuracy: 0.6621\n",
            "Epoch 20/100\n",
            "3503/3503 [==============================] - 18s 5ms/sample - loss: 0.8148 - accuracy: 0.7111 - val_loss: 0.8560 - val_accuracy: 0.6632\n",
            "Epoch 21/100\n",
            "3503/3503 [==============================] - 18s 5ms/sample - loss: 0.8060 - accuracy: 0.7191 - val_loss: 0.8306 - val_accuracy: 0.6849\n",
            "Epoch 22/100\n",
            "3503/3503 [==============================] - 18s 5ms/sample - loss: 0.7918 - accuracy: 0.7231 - val_loss: 0.7788 - val_accuracy: 0.7112\n",
            "Epoch 23/100\n",
            "3503/3503 [==============================] - 18s 5ms/sample - loss: 0.7800 - accuracy: 0.7268 - val_loss: 0.7783 - val_accuracy: 0.6849\n",
            "Epoch 24/100\n",
            "3503/3503 [==============================] - 18s 5ms/sample - loss: 0.7634 - accuracy: 0.7297 - val_loss: 0.7922 - val_accuracy: 0.6872\n",
            "Epoch 25/100\n",
            "3503/3503 [==============================] - 18s 5ms/sample - loss: 0.7542 - accuracy: 0.7345 - val_loss: 0.7670 - val_accuracy: 0.7055\n",
            "Epoch 26/100\n",
            "3503/3503 [==============================] - 18s 5ms/sample - loss: 0.7447 - accuracy: 0.7388 - val_loss: 0.7464 - val_accuracy: 0.7180\n",
            "Epoch 27/100\n",
            "3503/3503 [==============================] - 18s 5ms/sample - loss: 0.7337 - accuracy: 0.7456 - val_loss: 0.7445 - val_accuracy: 0.7295\n",
            "Epoch 28/100\n",
            "3503/3503 [==============================] - 18s 5ms/sample - loss: 0.7330 - accuracy: 0.7382 - val_loss: 0.7289 - val_accuracy: 0.7317\n",
            "Epoch 29/100\n",
            "3503/3503 [==============================] - 18s 5ms/sample - loss: 0.7196 - accuracy: 0.7514 - val_loss: 0.7471 - val_accuracy: 0.7032\n",
            "Epoch 30/100\n",
            "3503/3503 [==============================] - 18s 5ms/sample - loss: 0.7085 - accuracy: 0.7508 - val_loss: 0.7468 - val_accuracy: 0.6998\n",
            "Epoch 31/100\n",
            "3503/3503 [==============================] - 18s 5ms/sample - loss: 0.7021 - accuracy: 0.7556 - val_loss: 0.7228 - val_accuracy: 0.7089\n",
            "Epoch 32/100\n",
            "3503/3503 [==============================] - 18s 5ms/sample - loss: 0.6893 - accuracy: 0.7636 - val_loss: 0.6976 - val_accuracy: 0.7340\n",
            "Epoch 33/100\n",
            "3503/3503 [==============================] - 18s 5ms/sample - loss: 0.6832 - accuracy: 0.7616 - val_loss: 0.7021 - val_accuracy: 0.7169\n",
            "Epoch 34/100\n",
            "3503/3503 [==============================] - 18s 5ms/sample - loss: 0.6779 - accuracy: 0.7659 - val_loss: 0.7063 - val_accuracy: 0.7215\n",
            "Epoch 35/100\n",
            "3503/3503 [==============================] - 18s 5ms/sample - loss: 0.6680 - accuracy: 0.7699 - val_loss: 0.6795 - val_accuracy: 0.7420\n",
            "Epoch 36/100\n",
            "3503/3503 [==============================] - 18s 5ms/sample - loss: 0.6624 - accuracy: 0.7748 - val_loss: 0.6814 - val_accuracy: 0.7432\n",
            "Epoch 37/100\n",
            "3503/3503 [==============================] - 18s 5ms/sample - loss: 0.6613 - accuracy: 0.7673 - val_loss: 0.7250 - val_accuracy: 0.7158\n",
            "Epoch 38/100\n",
            "3503/3503 [==============================] - 18s 5ms/sample - loss: 0.6592 - accuracy: 0.7673 - val_loss: 0.6688 - val_accuracy: 0.7454\n",
            "Epoch 39/100\n",
            "3503/3503 [==============================] - 18s 5ms/sample - loss: 0.6493 - accuracy: 0.7748 - val_loss: 0.6505 - val_accuracy: 0.7534\n",
            "Epoch 40/100\n",
            "3503/3503 [==============================] - 18s 5ms/sample - loss: 0.6397 - accuracy: 0.7819 - val_loss: 0.6564 - val_accuracy: 0.7500\n",
            "Epoch 41/100\n",
            "3503/3503 [==============================] - 18s 5ms/sample - loss: 0.6399 - accuracy: 0.7773 - val_loss: 0.6797 - val_accuracy: 0.7317\n",
            "Epoch 42/100\n",
            "3503/3503 [==============================] - 18s 5ms/sample - loss: 0.6343 - accuracy: 0.7788 - val_loss: 0.6466 - val_accuracy: 0.7523\n",
            "Epoch 43/100\n",
            "3503/3503 [==============================] - 18s 5ms/sample - loss: 0.6323 - accuracy: 0.7776 - val_loss: 0.6282 - val_accuracy: 0.7705\n",
            "Epoch 44/100\n",
            "3503/3503 [==============================] - 18s 5ms/sample - loss: 0.6229 - accuracy: 0.7825 - val_loss: 0.6440 - val_accuracy: 0.7523\n",
            "Epoch 45/100\n",
            "3503/3503 [==============================] - 18s 5ms/sample - loss: 0.6147 - accuracy: 0.7908 - val_loss: 0.6200 - val_accuracy: 0.7740\n",
            "Epoch 46/100\n",
            "3503/3503 [==============================] - 18s 5ms/sample - loss: 0.6129 - accuracy: 0.7885 - val_loss: 0.6302 - val_accuracy: 0.7591\n",
            "Epoch 47/100\n",
            "3503/3503 [==============================] - 18s 5ms/sample - loss: 0.6074 - accuracy: 0.7902 - val_loss: 0.6408 - val_accuracy: 0.7614\n",
            "Epoch 48/100\n",
            "3503/3503 [==============================] - 18s 5ms/sample - loss: 0.6027 - accuracy: 0.7925 - val_loss: 0.6193 - val_accuracy: 0.7694\n",
            "Epoch 49/100\n",
            "3503/3503 [==============================] - 18s 5ms/sample - loss: 0.5975 - accuracy: 0.7953 - val_loss: 0.6018 - val_accuracy: 0.7785\n",
            "Epoch 50/100\n",
            "3503/3503 [==============================] - 18s 5ms/sample - loss: 0.5959 - accuracy: 0.7896 - val_loss: 0.6325 - val_accuracy: 0.7546\n",
            "Epoch 51/100\n",
            "3503/3503 [==============================] - 18s 5ms/sample - loss: 0.5915 - accuracy: 0.7942 - val_loss: 0.6381 - val_accuracy: 0.7432\n",
            "Epoch 52/100\n",
            "3503/3503 [==============================] - 18s 5ms/sample - loss: 0.5873 - accuracy: 0.7962 - val_loss: 0.6220 - val_accuracy: 0.7603\n",
            "Epoch 53/100\n",
            "3503/3503 [==============================] - 18s 5ms/sample - loss: 0.5807 - accuracy: 0.7973 - val_loss: 0.6105 - val_accuracy: 0.7660\n",
            "Epoch 54/100\n",
            "3503/3503 [==============================] - 18s 5ms/sample - loss: 0.5827 - accuracy: 0.7967 - val_loss: 0.6003 - val_accuracy: 0.7728\n",
            "Epoch 55/100\n",
            "3503/3503 [==============================] - 18s 5ms/sample - loss: 0.5729 - accuracy: 0.8002 - val_loss: 0.6087 - val_accuracy: 0.7637\n",
            "Epoch 56/100\n",
            "3503/3503 [==============================] - 18s 5ms/sample - loss: 0.5743 - accuracy: 0.7959 - val_loss: 0.6093 - val_accuracy: 0.7660\n",
            "Epoch 57/100\n",
            "3503/3503 [==============================] - 18s 5ms/sample - loss: 0.5679 - accuracy: 0.8059 - val_loss: 0.6038 - val_accuracy: 0.7626\n",
            "Epoch 58/100\n",
            "3503/3503 [==============================] - 18s 5ms/sample - loss: 0.5626 - accuracy: 0.8047 - val_loss: 0.5969 - val_accuracy: 0.7763\n",
            "Epoch 59/100\n",
            "3503/3503 [==============================] - 18s 5ms/sample - loss: 0.5597 - accuracy: 0.8087 - val_loss: 0.5969 - val_accuracy: 0.7785\n",
            "Epoch 60/100\n",
            "3503/3503 [==============================] - 18s 5ms/sample - loss: 0.5562 - accuracy: 0.8067 - val_loss: 0.6055 - val_accuracy: 0.7694\n",
            "Epoch 61/100\n",
            "3503/3503 [==============================] - 18s 5ms/sample - loss: 0.5567 - accuracy: 0.8122 - val_loss: 0.5824 - val_accuracy: 0.7831\n",
            "Epoch 62/100\n",
            "3503/3503 [==============================] - 18s 5ms/sample - loss: 0.5545 - accuracy: 0.8084 - val_loss: 0.5771 - val_accuracy: 0.7900\n",
            "Epoch 63/100\n",
            "3503/3503 [==============================] - 18s 5ms/sample - loss: 0.5498 - accuracy: 0.8104 - val_loss: 0.5943 - val_accuracy: 0.7842\n",
            "Epoch 64/100\n",
            "3503/3503 [==============================] - 18s 5ms/sample - loss: 0.5475 - accuracy: 0.8113 - val_loss: 0.5776 - val_accuracy: 0.7865\n",
            "Epoch 65/100\n",
            "3503/3503 [==============================] - 18s 5ms/sample - loss: 0.5439 - accuracy: 0.8153 - val_loss: 0.5721 - val_accuracy: 0.7922\n",
            "Epoch 66/100\n",
            "3503/3503 [==============================] - 18s 5ms/sample - loss: 0.5500 - accuracy: 0.8056 - val_loss: 0.6067 - val_accuracy: 0.7774\n",
            "Epoch 67/100\n",
            "3503/3503 [==============================] - 18s 5ms/sample - loss: 0.5452 - accuracy: 0.8099 - val_loss: 0.6060 - val_accuracy: 0.7763\n",
            "Epoch 68/100\n",
            "3503/3503 [==============================] - 18s 5ms/sample - loss: 0.5406 - accuracy: 0.8053 - val_loss: 0.5841 - val_accuracy: 0.7740\n",
            "Epoch 69/100\n",
            "3503/3503 [==============================] - 18s 5ms/sample - loss: 0.5357 - accuracy: 0.8142 - val_loss: 0.5852 - val_accuracy: 0.7728\n",
            "Epoch 70/100\n",
            "3503/3503 [==============================] - 18s 5ms/sample - loss: 0.5323 - accuracy: 0.8144 - val_loss: 0.5882 - val_accuracy: 0.7728\n",
            "Epoch 71/100\n",
            "3503/3503 [==============================] - 18s 5ms/sample - loss: 0.5315 - accuracy: 0.8164 - val_loss: 0.5704 - val_accuracy: 0.7842\n",
            "Epoch 72/100\n",
            "3503/3503 [==============================] - 18s 5ms/sample - loss: 0.5293 - accuracy: 0.8150 - val_loss: 0.5812 - val_accuracy: 0.7728\n",
            "Epoch 73/100\n",
            "3503/3503 [==============================] - 18s 5ms/sample - loss: 0.5260 - accuracy: 0.8136 - val_loss: 0.5573 - val_accuracy: 0.7968\n",
            "Epoch 74/100\n",
            "3503/3503 [==============================] - 18s 5ms/sample - loss: 0.5242 - accuracy: 0.8207 - val_loss: 0.5693 - val_accuracy: 0.7831\n",
            "Epoch 75/100\n",
            "3503/3503 [==============================] - 18s 5ms/sample - loss: 0.5206 - accuracy: 0.8210 - val_loss: 0.5718 - val_accuracy: 0.7728\n",
            "Epoch 76/100\n",
            "3503/3503 [==============================] - 18s 5ms/sample - loss: 0.5239 - accuracy: 0.8150 - val_loss: 0.5943 - val_accuracy: 0.7717\n",
            "Epoch 77/100\n",
            "3503/3503 [==============================] - 18s 5ms/sample - loss: 0.5331 - accuracy: 0.8116 - val_loss: 0.5574 - val_accuracy: 0.8048\n",
            "Epoch 78/100\n",
            "3503/3503 [==============================] - 18s 5ms/sample - loss: 0.5167 - accuracy: 0.8196 - val_loss: 0.5509 - val_accuracy: 0.8059\n",
            "Epoch 79/100\n",
            "3503/3503 [==============================] - 18s 5ms/sample - loss: 0.5176 - accuracy: 0.8159 - val_loss: 0.5758 - val_accuracy: 0.7900\n",
            "Epoch 80/100\n",
            "3503/3503 [==============================] - 18s 5ms/sample - loss: 0.5148 - accuracy: 0.8207 - val_loss: 0.5714 - val_accuracy: 0.7968\n",
            "Epoch 81/100\n",
            "3503/3503 [==============================] - 18s 5ms/sample - loss: 0.5086 - accuracy: 0.8247 - val_loss: 0.5737 - val_accuracy: 0.7888\n",
            "Epoch 82/100\n",
            "3503/3503 [==============================] - 18s 5ms/sample - loss: 0.5045 - accuracy: 0.8247 - val_loss: 0.5623 - val_accuracy: 0.7854\n",
            "Epoch 83/100\n",
            "3503/3503 [==============================] - 18s 5ms/sample - loss: 0.4998 - accuracy: 0.8299 - val_loss: 0.5568 - val_accuracy: 0.7900\n",
            "Epoch 84/100\n",
            "3503/3503 [==============================] - 18s 5ms/sample - loss: 0.4976 - accuracy: 0.8296 - val_loss: 0.5537 - val_accuracy: 0.8059\n",
            "Epoch 85/100\n",
            "3503/3503 [==============================] - 18s 5ms/sample - loss: 0.4991 - accuracy: 0.8321 - val_loss: 0.5562 - val_accuracy: 0.7900\n",
            "Epoch 86/100\n",
            "3503/3503 [==============================] - 18s 5ms/sample - loss: 0.4968 - accuracy: 0.8321 - val_loss: 0.5521 - val_accuracy: 0.7877\n",
            "Epoch 87/100\n",
            "3503/3503 [==============================] - 18s 5ms/sample - loss: 0.4971 - accuracy: 0.8290 - val_loss: 0.5458 - val_accuracy: 0.7945\n",
            "Epoch 88/100\n",
            "3503/3503 [==============================] - 18s 5ms/sample - loss: 0.4915 - accuracy: 0.8290 - val_loss: 0.5407 - val_accuracy: 0.8082\n",
            "Epoch 89/100\n",
            "3503/3503 [==============================] - 18s 5ms/sample - loss: 0.4923 - accuracy: 0.8293 - val_loss: 0.5639 - val_accuracy: 0.7945\n",
            "Epoch 90/100\n",
            "3503/3503 [==============================] - 18s 5ms/sample - loss: 0.4908 - accuracy: 0.8273 - val_loss: 0.5757 - val_accuracy: 0.7865\n",
            "Epoch 91/100\n",
            "3503/3503 [==============================] - 18s 5ms/sample - loss: 0.4945 - accuracy: 0.8264 - val_loss: 0.5647 - val_accuracy: 0.7831\n",
            "Epoch 92/100\n",
            "3503/3503 [==============================] - 18s 5ms/sample - loss: 0.4859 - accuracy: 0.8281 - val_loss: 0.5300 - val_accuracy: 0.8094\n",
            "Epoch 93/100\n",
            "3503/3503 [==============================] - 18s 5ms/sample - loss: 0.4858 - accuracy: 0.8344 - val_loss: 0.5404 - val_accuracy: 0.8116\n",
            "Epoch 94/100\n",
            "3503/3503 [==============================] - 18s 5ms/sample - loss: 0.4820 - accuracy: 0.8336 - val_loss: 0.5435 - val_accuracy: 0.7900\n",
            "Epoch 95/100\n",
            "3503/3503 [==============================] - 18s 5ms/sample - loss: 0.4852 - accuracy: 0.8296 - val_loss: 0.5365 - val_accuracy: 0.8002\n",
            "Epoch 96/100\n",
            "3503/3503 [==============================] - 18s 5ms/sample - loss: 0.4867 - accuracy: 0.8350 - val_loss: 0.5252 - val_accuracy: 0.8082\n",
            "Epoch 97/100\n",
            "3503/3503 [==============================] - 18s 5ms/sample - loss: 0.4894 - accuracy: 0.8316 - val_loss: 0.5369 - val_accuracy: 0.7991\n",
            "Epoch 98/100\n",
            "3503/3503 [==============================] - 18s 5ms/sample - loss: 0.4767 - accuracy: 0.8370 - val_loss: 0.5366 - val_accuracy: 0.7991\n",
            "Epoch 99/100\n",
            "3503/3503 [==============================] - 18s 5ms/sample - loss: 0.4735 - accuracy: 0.8364 - val_loss: 0.5422 - val_accuracy: 0.8048\n",
            "Epoch 100/100\n",
            "3503/3503 [==============================] - 18s 5ms/sample - loss: 0.4743 - accuracy: 0.8347 - val_loss: 0.5262 - val_accuracy: 0.8071\n",
            "1798.15306 Seconds to predict\n"
          ],
          "name": "stdout"
        }
      ]
    },
    {
      "cell_type": "markdown",
      "metadata": {
        "id": "ZEW3HPf9Z0y4",
        "colab_type": "text"
      },
      "source": [
        "##  5. Evaluate the model (モデルの評価)¶"
      ]
    },
    {
      "cell_type": "code",
      "metadata": {
        "id": "-NWr6YSIZVJ9",
        "colab_type": "code",
        "outputId": "ed42d3e0-cba3-40d9-ccdf-4cf45ab8e199",
        "colab": {
          "base_uri": "https://localhost:8080/",
          "height": 370
        }
      },
      "source": [
        "import matplotlib.pyplot as plt\n",
        "\n",
        "acc = history.history['accuracy']\n",
        "val_acc = history.history['val_accuracy']\n",
        "loss = history.history['loss']\n",
        "val_loss = history.history['val_loss']\n",
        "\n",
        "epochs = range(len(acc))\n",
        "\n",
        "plt.figure(figsize=(15,5))\n",
        "\n",
        "plt.subplot(1, 2, 1)\n",
        "plt.plot(epochs, acc, label='Training acc')\n",
        "plt.plot(epochs, val_acc, label='Validation acc')\n",
        "plt.title('Training and validation accuracy')\n",
        "plt.xlabel('epoch')\n",
        "plt.ylabel('accuracy')\n",
        "plt.legend()\n",
        "            \n",
        "plt.subplot(1, 2, 2)\n",
        "plt.plot(epochs, loss, label='Training loss')\n",
        "plt.plot(epochs, val_loss, label='Validation loss')\n",
        "plt.title('Training and validation loss')\n",
        "plt.xlabel('epoch')\n",
        "plt.ylabel('loss')\n",
        "plt.legend()\n",
        "\n",
        "plt.show()"
      ],
      "execution_count": 0,
      "outputs": [
        {
          "output_type": "display_data",
          "data": {
            "image/png": "[encoded data removed]",
            "text/plain": [
              "<Figure size 1080x360 with 2 Axes>"
            ]
          },
          "metadata": {
            "tags": []
          }
        }
      ]
    },
    {
      "cell_type": "code",
      "metadata": {
        "id": "yMmHwr-DfXu9",
        "colab_type": "code",
        "colab": {}
      },
      "source": [
        "exmaple : [0.0029053050093352795,0.9997643828392028,0.6563154458999634,0.1493220031261444,0.215089350938797]"
      ],
      "execution_count": 0,
      "outputs": []
    }
  ]
}