{
  "nbformat": 4,
  "nbformat_minor": 0,
  "metadata": {
    "colab": {
      "name": "TF2_Classification_of_Japanese-news-title_by_BERT_20200417",
      "provenance": [],
      "collapsed_sections": []
    },
    "language_info": {
      "codemirror_mode": {
        "name": "ipython",
        "version": 3
      },
      "file_extension": ".py",
      "mimetype": "text/x-python",
      "name": "python",
      "nbconvert_exporter": "python",
      "pygments_lexer": "ipython3",
      "version": "3.6.7"
    },
    "kernelspec": {
      "name": "python3",
      "display_name": "Python 3"
    },
    "accelerator": "GPU",
    "widgets": {
      "application/vnd.jupyter.widget-state+json": {
        "e9967d92d5944ed4acd165e1a6dfea11": {
          "model_module": "@jupyter-widgets/controls",
          "model_name": "HBoxModel",
          "state": {
            "_view_name": "HBoxView",
            "_dom_classes": [],
            "_model_name": "HBoxModel",
            "_view_module": "@jupyter-widgets/controls",
            "_model_module_version": "1.5.0",
            "_view_count": null,
            "_view_module_version": "1.5.0",
            "box_style": "",
            "layout": "IPY_MODEL_8cf29c51cce6460f94a01a2a0b406e5f",
            "_model_module": "@jupyter-widgets/controls",
            "children": [
              "IPY_MODEL_42064073bd4845498d6ad3d4db11a289",
              "IPY_MODEL_544978033a954b6cb9f16eea8a6a07a0"
            ]
          }
        },
        "8cf29c51cce6460f94a01a2a0b406e5f": {
          "model_module": "@jupyter-widgets/base",
          "model_name": "LayoutModel",
          "state": {
            "_view_name": "LayoutView",
            "grid_template_rows": null,
            "right": null,
            "justify_content": null,
            "_view_module": "@jupyter-widgets/base",
            "overflow": null,
            "_model_module_version": "1.2.0",
            "_view_count": null,
            "flex_flow": null,
            "width": null,
            "min_width": null,
            "border": null,
            "align_items": null,
            "bottom": null,
            "_model_module": "@jupyter-widgets/base",
            "top": null,
            "grid_column": null,
            "overflow_y": null,
            "overflow_x": null,
            "grid_auto_flow": null,
            "grid_area": null,
            "grid_template_columns": null,
            "flex": null,
            "_model_name": "LayoutModel",
            "justify_items": null,
            "grid_row": null,
            "max_height": null,
            "align_content": null,
            "visibility": null,
            "align_self": null,
            "height": null,
            "min_height": null,
            "padding": null,
            "grid_auto_rows": null,
            "grid_gap": null,
            "max_width": null,
            "order": null,
            "_view_module_version": "1.2.0",
            "grid_template_areas": null,
            "object_position": null,
            "object_fit": null,
            "grid_auto_columns": null,
            "margin": null,
            "display": null,
            "left": null
          }
        },
        "42064073bd4845498d6ad3d4db11a289": {
          "model_module": "@jupyter-widgets/controls",
          "model_name": "IntProgressModel",
          "state": {
            "_view_name": "ProgressView",
            "style": "IPY_MODEL_491d0b2e5f304cdc9876b3ed86d0db67",
            "_dom_classes": [],
            "description": "Converting examples to features: 100%",
            "_model_name": "IntProgressModel",
            "bar_style": "success",
            "max": 3503,
            "_view_module": "@jupyter-widgets/controls",
            "_model_module_version": "1.5.0",
            "value": 3503,
            "_view_count": null,
            "_view_module_version": "1.5.0",
            "orientation": "horizontal",
            "min": 0,
            "description_tooltip": null,
            "_model_module": "@jupyter-widgets/controls",
            "layout": "IPY_MODEL_c737c024460e46af9416be947967c472"
          }
        },
        "544978033a954b6cb9f16eea8a6a07a0": {
          "model_module": "@jupyter-widgets/controls",
          "model_name": "HTMLModel",
          "state": {
            "_view_name": "HTMLView",
            "style": "IPY_MODEL_0859ffe2b10e481dbfe325f30928d40a",
            "_dom_classes": [],
            "description": "",
            "_model_name": "HTMLModel",
            "placeholder": "​",
            "_view_module": "@jupyter-widgets/controls",
            "_model_module_version": "1.5.0",
            "value": " 3503/3503 [00:01&lt;00:00, 2171.43it/s]",
            "_view_count": null,
            "_view_module_version": "1.5.0",
            "description_tooltip": null,
            "_model_module": "@jupyter-widgets/controls",
            "layout": "IPY_MODEL_6cb6dd499e054c7f829516e295425fb3"
          }
        },
        "491d0b2e5f304cdc9876b3ed86d0db67": {
          "model_module": "@jupyter-widgets/controls",
          "model_name": "ProgressStyleModel",
          "state": {
            "_view_name": "StyleView",
            "_model_name": "ProgressStyleModel",
            "description_width": "initial",
            "_view_module": "@jupyter-widgets/base",
            "_model_module_version": "1.5.0",
            "_view_count": null,
            "_view_module_version": "1.2.0",
            "bar_color": null,
            "_model_module": "@jupyter-widgets/controls"
          }
        },
        "c737c024460e46af9416be947967c472": {
          "model_module": "@jupyter-widgets/base",
          "model_name": "LayoutModel",
          "state": {
            "_view_name": "LayoutView",
            "grid_template_rows": null,
            "right": null,
            "justify_content": null,
            "_view_module": "@jupyter-widgets/base",
            "overflow": null,
            "_model_module_version": "1.2.0",
            "_view_count": null,
            "flex_flow": null,
            "width": null,
            "min_width": null,
            "border": null,
            "align_items": null,
            "bottom": null,
            "_model_module": "@jupyter-widgets/base",
            "top": null,
            "grid_column": null,
            "overflow_y": null,
            "overflow_x": null,
            "grid_auto_flow": null,
            "grid_area": null,
            "grid_template_columns": null,
            "flex": null,
            "_model_name": "LayoutModel",
            "justify_items": null,
            "grid_row": null,
            "max_height": null,
            "align_content": null,
            "visibility": null,
            "align_self": null,
            "height": null,
            "min_height": null,
            "padding": null,
            "grid_auto_rows": null,
            "grid_gap": null,
            "max_width": null,
            "order": null,
            "_view_module_version": "1.2.0",
            "grid_template_areas": null,
            "object_position": null,
            "object_fit": null,
            "grid_auto_columns": null,
            "margin": null,
            "display": null,
            "left": null
          }
        },
        "0859ffe2b10e481dbfe325f30928d40a": {
          "model_module": "@jupyter-widgets/controls",
          "model_name": "DescriptionStyleModel",
          "state": {
            "_view_name": "StyleView",
            "_model_name": "DescriptionStyleModel",
            "description_width": "",
            "_view_module": "@jupyter-widgets/base",
            "_model_module_version": "1.5.0",
            "_view_count": null,
            "_view_module_version": "1.2.0",
            "_model_module": "@jupyter-widgets/controls"
          }
        },
        "6cb6dd499e054c7f829516e295425fb3": {
          "model_module": "@jupyter-widgets/base",
          "model_name": "LayoutModel",
          "state": {
            "_view_name": "LayoutView",
            "grid_template_rows": null,
            "right": null,
            "justify_content": null,
            "_view_module": "@jupyter-widgets/base",
            "overflow": null,
            "_model_module_version": "1.2.0",
            "_view_count": null,
            "flex_flow": null,
            "width": null,
            "min_width": null,
            "border": null,
            "align_items": null,
            "bottom": null,
            "_model_module": "@jupyter-widgets/base",
            "top": null,
            "grid_column": null,
            "overflow_y": null,
            "overflow_x": null,
            "grid_auto_flow": null,
            "grid_area": null,
            "grid_template_columns": null,
            "flex": null,
            "_model_name": "LayoutModel",
            "justify_items": null,
            "grid_row": null,
            "max_height": null,
            "align_content": null,
            "visibility": null,
            "align_self": null,
            "height": null,
            "min_height": null,
            "padding": null,
            "grid_auto_rows": null,
            "grid_gap": null,
            "max_width": null,
            "order": null,
            "_view_module_version": "1.2.0",
            "grid_template_areas": null,
            "object_position": null,
            "object_fit": null,
            "grid_auto_columns": null,
            "margin": null,
            "display": null,
            "left": null
          }
        },
        "3a7280a824e04bfdab2622253b8307b7": {
          "model_module": "@jupyter-widgets/controls",
          "model_name": "HBoxModel",
          "state": {
            "_view_name": "HBoxView",
            "_dom_classes": [],
            "_model_name": "HBoxModel",
            "_view_module": "@jupyter-widgets/controls",
            "_model_module_version": "1.5.0",
            "_view_count": null,
            "_view_module_version": "1.5.0",
            "box_style": "",
            "layout": "IPY_MODEL_65993cc2452940efa537e6883723ff37",
            "_model_module": "@jupyter-widgets/controls",
            "children": [
              "IPY_MODEL_6df87cfc81b9445bbe85978f8a31bf61",
              "IPY_MODEL_6c897cfb461f4fe0bfb9f18cf1f7ac47"
            ]
          }
        },
        "65993cc2452940efa537e6883723ff37": {
          "model_module": "@jupyter-widgets/base",
          "model_name": "LayoutModel",
          "state": {
            "_view_name": "LayoutView",
            "grid_template_rows": null,
            "right": null,
            "justify_content": null,
            "_view_module": "@jupyter-widgets/base",
            "overflow": null,
            "_model_module_version": "1.2.0",
            "_view_count": null,
            "flex_flow": null,
            "width": null,
            "min_width": null,
            "border": null,
            "align_items": null,
            "bottom": null,
            "_model_module": "@jupyter-widgets/base",
            "top": null,
            "grid_column": null,
            "overflow_y": null,
            "overflow_x": null,
            "grid_auto_flow": null,
            "grid_area": null,
            "grid_template_columns": null,
            "flex": null,
            "_model_name": "LayoutModel",
            "justify_items": null,
            "grid_row": null,
            "max_height": null,
            "align_content": null,
            "visibility": null,
            "align_self": null,
            "height": null,
            "min_height": null,
            "padding": null,
            "grid_auto_rows": null,
            "grid_gap": null,
            "max_width": null,
            "order": null,
            "_view_module_version": "1.2.0",
            "grid_template_areas": null,
            "object_position": null,
            "object_fit": null,
            "grid_auto_columns": null,
            "margin": null,
            "display": null,
            "left": null
          }
        },
        "6df87cfc81b9445bbe85978f8a31bf61": {
          "model_module": "@jupyter-widgets/controls",
          "model_name": "IntProgressModel",
          "state": {
            "_view_name": "ProgressView",
            "style": "IPY_MODEL_1a1c736254444bbf96027778e47f9fed",
            "_dom_classes": [],
            "description": "Converting examples to features: 100%",
            "_model_name": "IntProgressModel",
            "bar_style": "success",
            "max": 876,
            "_view_module": "@jupyter-widgets/controls",
            "_model_module_version": "1.5.0",
            "value": 876,
            "_view_count": null,
            "_view_module_version": "1.5.0",
            "orientation": "horizontal",
            "min": 0,
            "description_tooltip": null,
            "_model_module": "@jupyter-widgets/controls",
            "layout": "IPY_MODEL_5bf3fc2fce5d40bc95691e535208cdf1"
          }
        },
        "6c897cfb461f4fe0bfb9f18cf1f7ac47": {
          "model_module": "@jupyter-widgets/controls",
          "model_name": "HTMLModel",
          "state": {
            "_view_name": "HTMLView",
            "style": "IPY_MODEL_777b248b8f5346b38363863de7369eb2",
            "_dom_classes": [],
            "description": "",
            "_model_name": "HTMLModel",
            "placeholder": "​",
            "_view_module": "@jupyter-widgets/controls",
            "_model_module_version": "1.5.0",
            "value": " 876/876 [00:00&lt;00:00, 1136.81it/s]",
            "_view_count": null,
            "_view_module_version": "1.5.0",
            "description_tooltip": null,
            "_model_module": "@jupyter-widgets/controls",
            "layout": "IPY_MODEL_8a089c0df6a24b44bf2bf4ca85ac5aa1"
          }
        },
        "1a1c736254444bbf96027778e47f9fed": {
          "model_module": "@jupyter-widgets/controls",
          "model_name": "ProgressStyleModel",
          "state": {
            "_view_name": "StyleView",
            "_model_name": "ProgressStyleModel",
            "description_width": "initial",
            "_view_module": "@jupyter-widgets/base",
            "_model_module_version": "1.5.0",
            "_view_count": null,
            "_view_module_version": "1.2.0",
            "bar_color": null,
            "_model_module": "@jupyter-widgets/controls"
          }
        },
        "5bf3fc2fce5d40bc95691e535208cdf1": {
          "model_module": "@jupyter-widgets/base",
          "model_name": "LayoutModel",
          "state": {
            "_view_name": "LayoutView",
            "grid_template_rows": null,
            "right": null,
            "justify_content": null,
            "_view_module": "@jupyter-widgets/base",
            "overflow": null,
            "_model_module_version": "1.2.0",
            "_view_count": null,
            "flex_flow": null,
            "width": null,
            "min_width": null,
            "border": null,
            "align_items": null,
            "bottom": null,
            "_model_module": "@jupyter-widgets/base",
            "top": null,
            "grid_column": null,
            "overflow_y": null,
            "overflow_x": null,
            "grid_auto_flow": null,
            "grid_area": null,
            "grid_template_columns": null,
            "flex": null,
            "_model_name": "LayoutModel",
            "justify_items": null,
            "grid_row": null,
            "max_height": null,
            "align_content": null,
            "visibility": null,
            "align_self": null,
            "height": null,
            "min_height": null,
            "padding": null,
            "grid_auto_rows": null,
            "grid_gap": null,
            "max_width": null,
            "order": null,
            "_view_module_version": "1.2.0",
            "grid_template_areas": null,
            "object_position": null,
            "object_fit": null,
            "grid_auto_columns": null,
            "margin": null,
            "display": null,
            "left": null
          }
        },
        "777b248b8f5346b38363863de7369eb2": {
          "model_module": "@jupyter-widgets/controls",
          "model_name": "DescriptionStyleModel",
          "state": {
            "_view_name": "StyleView",
            "_model_name": "DescriptionStyleModel",
            "description_width": "",
            "_view_module": "@jupyter-widgets/base",
            "_model_module_version": "1.5.0",
            "_view_count": null,
            "_view_module_version": "1.2.0",
            "_model_module": "@jupyter-widgets/controls"
          }
        },
        "8a089c0df6a24b44bf2bf4ca85ac5aa1": {
          "model_module": "@jupyter-widgets/base",
          "model_name": "LayoutModel",
          "state": {
            "_view_name": "LayoutView",
            "grid_template_rows": null,
            "right": null,
            "justify_content": null,
            "_view_module": "@jupyter-widgets/base",
            "overflow": null,
            "_model_module_version": "1.2.0",
            "_view_count": null,
            "flex_flow": null,
            "width": null,
            "min_width": null,
            "border": null,
            "align_items": null,
            "bottom": null,
            "_model_module": "@jupyter-widgets/base",
            "top": null,
            "grid_column": null,
            "overflow_y": null,
            "overflow_x": null,
            "grid_auto_flow": null,
            "grid_area": null,
            "grid_template_columns": null,
            "flex": null,
            "_model_name": "LayoutModel",
            "justify_items": null,
            "grid_row": null,
            "max_height": null,
            "align_content": null,
            "visibility": null,
            "align_self": null,
            "height": null,
            "min_height": null,
            "padding": null,
            "grid_auto_rows": null,
            "grid_gap": null,
            "max_width": null,
            "order": null,
            "_view_module_version": "1.2.0",
            "grid_template_areas": null,
            "object_position": null,
            "object_fit": null,
            "grid_auto_columns": null,
            "margin": null,
            "display": null,
            "left": null
          }
        }
      }
    }
  },
  "cells": [
    {
      "cell_type": "markdown",
      "metadata": {
        "id": "VWgIg00VKisH",
        "colab_type": "text"
      },
      "source": [
        "# BERTによる日本語ニュースタイトルの判別\n"
      ]
    },
    {
      "cell_type": "markdown",
      "metadata": {
        "id": "95SJMwnMzSfk",
        "colab_type": "text"
      },
      "source": [
        "# Classification of Japanese news-title by BERT"
      ]
    },
    {
      "cell_type": "markdown",
      "metadata": {
        "id": "aWry1gnsyOzO",
        "colab_type": "text"
      },
      "source": [
        "## 1. Import library （ライブラリの取得）"
      ]
    },
    {
      "cell_type": "code",
      "metadata": {
        "id": "Vdhb6kVqdZKt",
        "colab_type": "code",
        "colab": {}
      },
      "source": [
        "!pip install  sentencepiece\n",
        "#!pip install tensorflow"
      ],
      "execution_count": 0,
      "outputs": []
    },
    {
      "cell_type": "code",
      "metadata": {
        "id": "mHWnTGwCc96Q",
        "colab_type": "code",
        "colab": {}
      },
      "source": [
        "import tensorflow as tf\n",
        "import tensorflow_hub as hub\n",
        "import matplotlib.pyplot as plt\n",
        "import numpy as np\n",
        "import os\n",
        "import pandas as pd\n",
        "import re\n",
        "import time\n",
        "import seaborn as sns\n",
        "import sys\n",
        "from tqdm import tqdm_notebook\n",
        "\n",
        "np.random.seed(10)\n",
        "\n",
        "tf.__version__"
      ],
      "execution_count": 0,
      "outputs": []
    },
    {
      "cell_type": "code",
      "metadata": {
        "id": "8edFwLsK_c5I",
        "colab_type": "code",
        "colab": {}
      },
      "source": [
        "from google.colab import drive\n",
        "drive.mount('/content/gdrive')"
      ],
      "execution_count": 0,
      "outputs": []
    },
    {
      "cell_type": "code",
      "metadata": {
        "id": "b9lRJHilxwyV",
        "colab_type": "code",
        "outputId": "4da3c4c5-56be-4c3e-d537-9b43067c382d",
        "colab": {
          "base_uri": "https://localhost:8080/",
          "height": 166
        }
      },
      "source": [
        "!test -d bert_repo || git clone https://github.com/tensorflow/models bert_repo\n",
        "\n",
        "if not 'bert_repo' in sys.path:\n",
        "  sys.path += ['bert_repo']\n",
        "\n",
        "max_seq_length = 50"
      ],
      "execution_count": 0,
      "outputs": [
        {
          "output_type": "stream",
          "text": [
            "Cloning into 'bert_repo'...\n",
            "remote: Enumerating objects: 16, done.\u001b[K\n",
            "remote: Counting objects: 100% (16/16), done.\u001b[K\n",
            "remote: Compressing objects: 100% (15/15), done.\u001b[K\n",
            "remote: Total 34076 (delta 4), reused 12 (delta 1), pack-reused 34060\u001b[K\n",
            "Receiving objects: 100% (34076/34076), 512.36 MiB | 11.58 MiB/s, done.\n",
            "Resolving deltas: 100% (21980/21980), done.\n",
            "Checking out files: 100% (2493/2493), done.\n"
          ],
          "name": "stdout"
        }
      ]
    },
    {
      "cell_type": "code",
      "metadata": {
        "id": "fX8FtmxNBO2w",
        "colab_type": "code",
        "colab": {}
      },
      "source": [
        "%cd /content/bert_repo/official/nlp/bert\n",
        "!ls"
      ],
      "execution_count": 0,
      "outputs": []
    },
    {
      "cell_type": "code",
      "metadata": {
        "id": "KxVGcJ6nWZ0E",
        "colab_type": "code",
        "colab": {}
      },
      "source": [
        "import tokenization\n",
        "from tokenization import FullTokenizer"
      ],
      "execution_count": 0,
      "outputs": []
    },
    {
      "cell_type": "markdown",
      "metadata": {
        "id": "fLtxM4w9AxRz",
        "colab_type": "text"
      },
      "source": [
        "## 2. Load livedoor-news-data （ライブドアニュースデータの取得）\n"
      ]
    },
    {
      "cell_type": "markdown",
      "metadata": {
        "id": "Xn11wpNxzodm",
        "colab_type": "text"
      },
      "source": [
        "livedoor news corpus CC BY-ND 2.1 JP　　　https://www.rondhuit.com/download.html#ldcc"
      ]
    },
    {
      "cell_type": "code",
      "metadata": {
        "id": "B6fxrOqrttGY",
        "colab_type": "code",
        "outputId": "3453ce83-14a2-4735-bae2-666c739a9c10",
        "colab": {
          "base_uri": "https://localhost:8080/",
          "height": 54
        }
      },
      "source": [
        "!ls"
      ],
      "execution_count": 0,
      "outputs": [
        {
          "output_type": "stream",
          "text": [
            "dev5.tsv\tit-life-hack   livedoor-homme  peachy  sports-watch  train5.tsv\n",
            "dokujo-tsushin\tkaden-channel  movie-enter     smax    topic-news\n"
          ],
          "name": "stdout"
        }
      ]
    },
    {
      "cell_type": "code",
      "metadata": {
        "id": "HOYlk-EscSqd",
        "colab_type": "code",
        "colab": {}
      },
      "source": [
        "train_df = pd.read_csv(\"train5.tsv\", delimiter='\\t', header=None, names=['label', 'title'])\n",
        "dev_df = pd.read_csv(\"dev5.tsv\", delimiter='\\t', header=None, names=['label', 'title'])\n"
      ],
      "execution_count": 0,
      "outputs": []
    },
    {
      "cell_type": "code",
      "metadata": {
        "id": "jbQpDWW-dHOd",
        "colab_type": "code",
        "outputId": "9b4747b2-56cc-4821-b48e-6cdd0df073c6",
        "colab": {
          "base_uri": "https://localhost:8080/",
          "height": 202
        }
      },
      "source": [
        "train_df=train_df.loc[:, ['title','label']]\n",
        "train_df=train_df.rename({'title':'sentence','label':'polarity'},axis='columns')\n",
        "train_df.head() "
      ],
      "execution_count": 0,
      "outputs": [
        {
          "output_type": "execute_result",
          "data": {
            "text/html": [
              "<div>\n",
              "<style scoped>\n",
              "    .dataframe tbody tr th:only-of-type {\n",
              "        vertical-align: middle;\n",
              "    }\n",
              "\n",
              "    .dataframe tbody tr th {\n",
              "        vertical-align: top;\n",
              "    }\n",
              "\n",
              "    .dataframe thead th {\n",
              "        text-align: right;\n",
              "    }\n",
              "</style>\n",
              "<table border=\"1\" class=\"dataframe\">\n",
              "  <thead>\n",
              "    <tr style=\"text-align: right;\">\n",
              "      <th></th>\n",
              "      <th>sentence</th>\n",
              "      <th>polarity</th>\n",
              "    </tr>\n",
              "  </thead>\n",
              "  <tbody>\n",
              "    <tr>\n",
              "      <th>0</th>\n",
              "      <td>月額1,050円でSASディスクを搭載！クラウドプラン 「エクスライト（EX-LITE）」の...</td>\n",
              "      <td>0</td>\n",
              "    </tr>\n",
              "    <tr>\n",
              "      <th>1</th>\n",
              "      <td>例のあのメニューも！ニコニコ超会議のフードコートメニュー14種類紹介（前半）</td>\n",
              "      <td>0</td>\n",
              "    </tr>\n",
              "    <tr>\n",
              "      <th>2</th>\n",
              "      <td>山田孝之と小西真奈美の映画に撮影していない“あるモノ”が映り込んでいた</td>\n",
              "      <td>1</td>\n",
              "    </tr>\n",
              "    <tr>\n",
              "      <th>3</th>\n",
              "      <td>ガガを聴きながら毎朝歯磨き！　レディー・ガガ　シンギングトゥースブラシ独占先行販売</td>\n",
              "      <td>0</td>\n",
              "    </tr>\n",
              "    <tr>\n",
              "      <th>4</th>\n",
              "      <td>斎藤佑樹はプロで通用するのか？</td>\n",
              "      <td>2</td>\n",
              "    </tr>\n",
              "  </tbody>\n",
              "</table>\n",
              "</div>"
            ],
            "text/plain": [
              "                                            sentence  polarity\n",
              "0  月額1,050円でSASディスクを搭載！クラウドプラン 「エクスライト（EX-LITE）」の...         0\n",
              "1             例のあのメニューも！ニコニコ超会議のフードコートメニュー14種類紹介（前半）         0\n",
              "2                山田孝之と小西真奈美の映画に撮影していない“あるモノ”が映り込んでいた         1\n",
              "3          ガガを聴きながら毎朝歯磨き！　レディー・ガガ　シンギングトゥースブラシ独占先行販売         0\n",
              "4                                    斎藤佑樹はプロで通用するのか？         2"
            ]
          },
          "metadata": {
            "tags": []
          },
          "execution_count": 13
        }
      ]
    },
    {
      "cell_type": "code",
      "metadata": {
        "id": "mYH7IpxQcN7y",
        "colab_type": "code",
        "outputId": "f0f498c9-f437-4986-9066-2080ddb9bfc4",
        "colab": {
          "base_uri": "https://localhost:8080/",
          "height": 665
        }
      },
      "source": [
        "dev_df=dev_df.loc[:, ['title','label']]\n",
        "dev_df=dev_df.rename({'title':'sentence','label':'polarity'},axis='columns')\n",
        "dev_df.head(20) "
      ],
      "execution_count": 0,
      "outputs": [
        {
          "output_type": "execute_result",
          "data": {
            "text/html": [
              "<div>\n",
              "<style scoped>\n",
              "    .dataframe tbody tr th:only-of-type {\n",
              "        vertical-align: middle;\n",
              "    }\n",
              "\n",
              "    .dataframe tbody tr th {\n",
              "        vertical-align: top;\n",
              "    }\n",
              "\n",
              "    .dataframe thead th {\n",
              "        text-align: right;\n",
              "    }\n",
              "</style>\n",
              "<table border=\"1\" class=\"dataframe\">\n",
              "  <thead>\n",
              "    <tr style=\"text-align: right;\">\n",
              "      <th></th>\n",
              "      <th>sentence</th>\n",
              "      <th>polarity</th>\n",
              "    </tr>\n",
              "  </thead>\n",
              "  <tbody>\n",
              "    <tr>\n",
              "      <th>0</th>\n",
              "      <td>ドコモのｓｐモードでまたトラブル発生！　今度はつながらない【話題】</td>\n",
              "      <td>4</td>\n",
              "    </tr>\n",
              "    <tr>\n",
              "      <th>1</th>\n",
              "      <td>ダルビッシュ、今季だけで3つの魔球体得へ</td>\n",
              "      <td>2</td>\n",
              "    </tr>\n",
              "    <tr>\n",
              "      <th>2</th>\n",
              "      <td>本格的に仕事復帰、マリエが今一番会いたい人は“スギちゃん”</td>\n",
              "      <td>1</td>\n",
              "    </tr>\n",
              "    <tr>\n",
              "      <th>3</th>\n",
              "      <td>価格が安価で矯正を気づかれない！綺麗な歯並びになれる、歯列矯正の最前線</td>\n",
              "      <td>0</td>\n",
              "    </tr>\n",
              "    <tr>\n",
              "      <th>4</th>\n",
              "      <td>先輩・桑田、松井秀喜にズバリ「引退とかは考えなかった？」</td>\n",
              "      <td>2</td>\n",
              "    </tr>\n",
              "    <tr>\n",
              "      <th>5</th>\n",
              "      <td>【モテる家電】誰でもかっこよくなれる！　男の正しい眉整え術</td>\n",
              "      <td>4</td>\n",
              "    </tr>\n",
              "    <tr>\n",
              "      <th>6</th>\n",
              "      <td>【オトナ女子のリアルな悩み】最長で半年…恋愛が長続きしない理由は？</td>\n",
              "      <td>3</td>\n",
              "    </tr>\n",
              "    <tr>\n",
              "      <th>7</th>\n",
              "      <td>虐待だ！の声多数、日テレで人気のワンコが声帯除去手術を受けていた事実に非難殺到【話題】</td>\n",
              "      <td>4</td>\n",
              "    </tr>\n",
              "    <tr>\n",
              "      <th>8</th>\n",
              "      <td>1枚で主食＋デザートに!?　宅配ピザ最前線「モッチリーノ」のお得なおいしさ</td>\n",
              "      <td>3</td>\n",
              "    </tr>\n",
              "    <tr>\n",
              "      <th>9</th>\n",
              "      <td>スマホで花咲く恋もある!?　合コンで使える本当の“モテテク”</td>\n",
              "      <td>3</td>\n",
              "    </tr>\n",
              "    <tr>\n",
              "      <th>10</th>\n",
              "      <td>「女性の持つコンプレックスを取り去る仕事」 湘南美容外科クリニック イメケン“情熱”院長イン...</td>\n",
              "      <td>3</td>\n",
              "    </tr>\n",
              "    <tr>\n",
              "      <th>11</th>\n",
              "      <td>愛と節約　Presented by ゆるっとcafe</td>\n",
              "      <td>3</td>\n",
              "    </tr>\n",
              "    <tr>\n",
              "      <th>12</th>\n",
              "      <td>Test Report タスカム US-125M［USBオーディオインターフェイス］【ビデオ...</td>\n",
              "      <td>4</td>\n",
              "    </tr>\n",
              "    <tr>\n",
              "      <th>13</th>\n",
              "      <td>【週末映画まとめ読み】武井咲「あまり台本を読まなくていいのかな？」</td>\n",
              "      <td>1</td>\n",
              "    </tr>\n",
              "    <tr>\n",
              "      <th>14</th>\n",
              "      <td>「3.11で変わったこと」をリアルに感じるアンケート結果を公開！</td>\n",
              "      <td>3</td>\n",
              "    </tr>\n",
              "    <tr>\n",
              "      <th>15</th>\n",
              "      <td>大阪人に挑戦状！ 『シャーロック・ホームズ』謎解きパズルが出現</td>\n",
              "      <td>1</td>\n",
              "    </tr>\n",
              "    <tr>\n",
              "      <th>16</th>\n",
              "      <td>死ぬまで戦え！　『スターシップ・トゥルーパーズ』昆虫と人類の壮絶な戦いが再び</td>\n",
              "      <td>1</td>\n",
              "    </tr>\n",
              "    <tr>\n",
              "      <th>17</th>\n",
              "      <td>パナソニック新発売のエアコンは新開発「トップユニット」構造の「Xシリーズ」</td>\n",
              "      <td>4</td>\n",
              "    </tr>\n",
              "    <tr>\n",
              "      <th>18</th>\n",
              "      <td>スマホ持ちで有線なアナタに！無線LAN親機になる超小型アダプター</td>\n",
              "      <td>0</td>\n",
              "    </tr>\n",
              "    <tr>\n",
              "      <th>19</th>\n",
              "      <td>クリスマスに選びたい最高のプレゼントとは？</td>\n",
              "      <td>3</td>\n",
              "    </tr>\n",
              "  </tbody>\n",
              "</table>\n",
              "</div>"
            ],
            "text/plain": [
              "                                             sentence  polarity\n",
              "0                   ドコモのｓｐモードでまたトラブル発生！　今度はつながらない【話題】         4\n",
              "1                                ダルビッシュ、今季だけで3つの魔球体得へ         2\n",
              "2                       本格的に仕事復帰、マリエが今一番会いたい人は“スギちゃん”         1\n",
              "3                 価格が安価で矯正を気づかれない！綺麗な歯並びになれる、歯列矯正の最前線         0\n",
              "4                        先輩・桑田、松井秀喜にズバリ「引退とかは考えなかった？」         2\n",
              "5                       【モテる家電】誰でもかっこよくなれる！　男の正しい眉整え術         4\n",
              "6                   【オトナ女子のリアルな悩み】最長で半年…恋愛が長続きしない理由は？         3\n",
              "7         虐待だ！の声多数、日テレで人気のワンコが声帯除去手術を受けていた事実に非難殺到【話題】         4\n",
              "8               1枚で主食＋デザートに!?　宅配ピザ最前線「モッチリーノ」のお得なおいしさ         3\n",
              "9                      スマホで花咲く恋もある!?　合コンで使える本当の“モテテク”         3\n",
              "10  「女性の持つコンプレックスを取り去る仕事」 湘南美容外科クリニック イメケン“情熱”院長イン...         3\n",
              "11                         愛と節約　Presented by ゆるっとcafe         3\n",
              "12  Test Report タスカム US-125M［USBオーディオインターフェイス］【ビデオ...         4\n",
              "13                  【週末映画まとめ読み】武井咲「あまり台本を読まなくていいのかな？」         1\n",
              "14                   「3.11で変わったこと」をリアルに感じるアンケート結果を公開！         3\n",
              "15                    大阪人に挑戦状！ 『シャーロック・ホームズ』謎解きパズルが出現         1\n",
              "16             死ぬまで戦え！　『スターシップ・トゥルーパーズ』昆虫と人類の壮絶な戦いが再び         1\n",
              "17              パナソニック新発売のエアコンは新開発「トップユニット」構造の「Xシリーズ」         4\n",
              "18                   スマホ持ちで有線なアナタに！無線LAN親機になる超小型アダプター         0\n",
              "19                              クリスマスに選びたい最高のプレゼントとは？         3"
            ]
          },
          "metadata": {
            "tags": []
          },
          "execution_count": 14
        }
      ]
    },
    {
      "cell_type": "code",
      "metadata": {
        "id": "nEJbAj_zAxR_",
        "colab_type": "code",
        "colab": {}
      },
      "source": [
        "# Create datasets (Only take up to max_seq_length words for memory)\n",
        "train_text = train_df['sentence'].tolist()\n",
        "train_text = [' '.join(t.split()[0:max_seq_length]) for t in train_text]\n",
        "train_text = np.array(train_text, dtype=object)\n",
        "train_label = train_df['polarity'].tolist()\n",
        "\n",
        "test_text = dev_df['sentence'].tolist()\n",
        "test_text = [' '.join(t.split()[0:max_seq_length]) for t in test_text]\n",
        "test_text = np.array(test_text, dtype=object)[:, np.newaxis]\n",
        "test_label = dev_df['polarity'].tolist()"
      ],
      "execution_count": 0,
      "outputs": []
    },
    {
      "cell_type": "markdown",
      "metadata": {
        "id": "djv4vpTiAxSC",
        "colab_type": "text"
      },
      "source": [
        "## 3. Tokenize texts and prepare data （テキストをトークン化、データを準備）\n"
      ]
    },
    {
      "cell_type": "code",
      "metadata": {
        "id": "GgokLmlIVuCU",
        "colab_type": "code",
        "colab": {}
      },
      "source": [
        "# Params for bert model and tokenization\n",
        "bert_path = \"https://tfhub.dev/tensorflow/bert_multi_cased_L-12_H-768_A-12/1\""
      ],
      "execution_count": 0,
      "outputs": []
    },
    {
      "cell_type": "code",
      "metadata": {
        "id": "_rY2OVIPVeAe",
        "colab_type": "code",
        "colab": {}
      },
      "source": [
        "input_word_ids = tf.keras.layers.Input(shape=(max_seq_length,), dtype=tf.int32,\n",
        "                                       name=\"input_word_ids\")\n",
        "input_mask = tf.keras.layers.Input(shape=(max_seq_length,), dtype=tf.int32,\n",
        "                                   name=\"input_mask\")\n",
        "segment_ids = tf.keras.layers.Input(shape=(max_seq_length,), dtype=tf.int32,\n",
        "                                    name=\"segment_ids\")\n",
        "bert_layer = hub.KerasLayer(bert_path, trainable=True)\n",
        "pooled_output, sequence_output = bert_layer([input_word_ids, input_mask, segment_ids])"
      ],
      "execution_count": 0,
      "outputs": []
    },
    {
      "cell_type": "code",
      "metadata": {
        "id": "Z0e0VP7AV588",
        "colab_type": "code",
        "colab": {}
      },
      "source": [
        "vocab_file = bert_layer.resolved_object.vocab_file.asset_path.numpy()\n",
        "do_lower_case = bert_layer.resolved_object.do_lower_case.numpy()\n",
        "tokenizer = tokenization.FullTokenizer(vocab_file, do_lower_case)"
      ],
      "execution_count": 0,
      "outputs": []
    },
    {
      "cell_type": "code",
      "metadata": {
        "id": "PNqcKXb7W4_E",
        "colab_type": "code",
        "outputId": "39a15637-0440-4747-8d0b-63fd16aece3b",
        "colab": {
          "base_uri": "https://localhost:8080/",
          "height": 155,
          "referenced_widgets": [
            "e9967d92d5944ed4acd165e1a6dfea11",
            "8cf29c51cce6460f94a01a2a0b406e5f",
            "42064073bd4845498d6ad3d4db11a289",
            "544978033a954b6cb9f16eea8a6a07a0",
            "491d0b2e5f304cdc9876b3ed86d0db67",
            "c737c024460e46af9416be947967c472",
            "0859ffe2b10e481dbfe325f30928d40a",
            "6cb6dd499e054c7f829516e295425fb3",
            "3a7280a824e04bfdab2622253b8307b7",
            "65993cc2452940efa537e6883723ff37",
            "6df87cfc81b9445bbe85978f8a31bf61",
            "6c897cfb461f4fe0bfb9f18cf1f7ac47",
            "1a1c736254444bbf96027778e47f9fed",
            "5bf3fc2fce5d40bc95691e535208cdf1",
            "777b248b8f5346b38363863de7369eb2",
            "8a089c0df6a24b44bf2bf4ca85ac5aa1"
          ]
        }
      },
      "source": [
        "class PaddingInputExample(object):\n",
        "    \"\"\"Fake example so the num input examples is a multiple of the batch size.\n",
        "  When running eval/predict on the TPU, we need to pad the number of examples\n",
        "  to be a multiple of the batch size, because the TPU requires a fixed batch\n",
        "  size. The alternative is to drop the last batch, which is bad because it means\n",
        "  the entire output data won't be generated.\n",
        "  We use this class instead of `None` because treating `None` as padding\n",
        "  battches could cause silent errors.\n",
        "  \"\"\"\n",
        "\n",
        "class InputExample(object):\n",
        "    \"\"\"A single training/test example for simple sequence classification.\"\"\"\n",
        "\n",
        "    def __init__(self, guid, text_a, text_b=None, label=None):\n",
        "        \"\"\"Constructs a InputExample.\n",
        "    Args:\n",
        "      guid: Unique id for the example.\n",
        "      text_a: string. The untokenized text of the first sequence. For single\n",
        "        sequence tasks, only this sequence must be specified.\n",
        "      text_b: (Optional) string. The untokenized text of the second sequence.\n",
        "        Only must be specified for sequence pair tasks.\n",
        "      label: (Optional) string. The label of the example. This should be\n",
        "        specified for train and dev examples, but not for test examples.\n",
        "    \"\"\"\n",
        "        self.guid = guid\n",
        "        self.text_a = text_a\n",
        "        self.text_b = text_b\n",
        "        self.label = label\n",
        "\n",
        "\n",
        "def convert_single_example(tokenizer, example, max_seq_length=max_seq_length):\n",
        "    \"\"\"Converts a single `InputExample` into a single `InputFeatures`.\"\"\"\n",
        "\n",
        "    if isinstance(example, PaddingInputExample):\n",
        "        input_ids = [0] * max_seq_length\n",
        "        input_mask = [0] * max_seq_length\n",
        "        segment_ids = [0] * max_seq_length\n",
        "        label = 0\n",
        "        return input_ids, input_mask, segment_ids, label\n",
        "\n",
        "    tokens_a = tokenizer.tokenize(example.text_a)\n",
        "    if len(tokens_a) > max_seq_length - 2:\n",
        "        tokens_a = tokens_a[0 : (max_seq_length - 2)]\n",
        "\n",
        "    tokens = []\n",
        "    segment_ids = []\n",
        "    tokens.append(\"[CLS]\")\n",
        "    segment_ids.append(0)\n",
        "    for token in tokens_a:\n",
        "        tokens.append(token)\n",
        "        segment_ids.append(0)\n",
        "    tokens.append(\"[SEP]\")\n",
        "    segment_ids.append(0)\n",
        "\n",
        "    input_ids = tokenizer.convert_tokens_to_ids(tokens)\n",
        "\n",
        "    # The mask has 1 for real tokens and 0 for padding tokens. Only real\n",
        "    # tokens are attended to.\n",
        "    input_mask = [1] * len(input_ids)\n",
        "\n",
        "    # Zero-pad up to the sequence length.\n",
        "    while len(input_ids) < max_seq_length:\n",
        "        input_ids.append(0)\n",
        "        input_mask.append(0)\n",
        "        segment_ids.append(0)\n",
        "\n",
        "    assert len(input_ids) == max_seq_length\n",
        "    assert len(input_mask) == max_seq_length\n",
        "    assert len(segment_ids) == max_seq_length\n",
        "\n",
        "    return input_ids, input_mask, segment_ids, example.label\n",
        "\n",
        "def convert_examples_to_features(tokenizer, examples, max_seq_length):\n",
        "    \"\"\"Convert a set of `InputExample`s to a list of `InputFeatures`.\"\"\"\n",
        "\n",
        "    input_ids, input_masks, segment_ids, labels = [], [], [], []\n",
        "    for example in tqdm_notebook(examples, desc=\"Converting examples to features\"):\n",
        "        input_id, input_mask, segment_id, label = convert_single_example(\n",
        "            tokenizer, example, max_seq_length\n",
        "        )\n",
        "        input_ids.append(input_id)\n",
        "        input_masks.append(input_mask)\n",
        "        segment_ids.append(segment_id)\n",
        "        labels.append(label)\n",
        "    return (\n",
        "        np.array(input_ids, dtype='int32'),\n",
        "        np.array(input_masks, dtype='int32'),\n",
        "        np.array(segment_ids, dtype='int32'),\n",
        "        np.array(labels, dtype='int32').reshape(-1, 1),\n",
        "    )\n",
        "\n",
        "def convert_text_to_examples(texts, labels):\n",
        "    \"\"\"Create InputExamples\"\"\"\n",
        "    InputExamples = []\n",
        "    for text, label in zip(texts, labels):\n",
        "        InputExamples.append(\n",
        "            InputExample(guid=None, text_a=\" \".join(text), text_b=None, label=label)\n",
        "        )\n",
        "    return InputExamples\n",
        "  \n",
        "\n",
        "\n",
        "# Convert data to InputExample format\n",
        "train_examples = convert_text_to_examples(train_text, train_label)\n",
        "test_examples = convert_text_to_examples(test_text, test_label)\n",
        "\n",
        "#train_examples = train_examples[0:500]\n",
        "#test_examples = test_examples[0:500]\n",
        "\n",
        "# Convert to features\n",
        "(train_input_ids, train_input_masks, train_segment_ids, train_labels \n",
        ") = convert_examples_to_features(tokenizer, train_examples, max_seq_length=max_seq_length)\n",
        "(test_input_ids, test_input_masks, test_segment_ids, test_labels\n",
        ") = convert_examples_to_features(tokenizer, test_examples, max_seq_length=max_seq_length)"
      ],
      "execution_count": 0,
      "outputs": [
        {
          "output_type": "stream",
          "text": [
            "/usr/local/lib/python3.6/dist-packages/ipykernel_launcher.py:77: TqdmDeprecationWarning: This function will be removed in tqdm==5.0.0\n",
            "Please use `tqdm.notebook.tqdm` instead of `tqdm.tqdm_notebook`\n"
          ],
          "name": "stderr"
        },
        {
          "output_type": "display_data",
          "data": {
            "application/vnd.jupyter.widget-view+json": {
              "model_id": "e9967d92d5944ed4acd165e1a6dfea11",
              "version_minor": 0,
              "version_major": 2
            },
            "text/plain": [
              "HBox(children=(IntProgress(value=0, description='Converting examples to features', max=3503, style=ProgressSty…"
            ]
          },
          "metadata": {
            "tags": []
          }
        },
        {
          "output_type": "stream",
          "text": [
            "\n"
          ],
          "name": "stdout"
        },
        {
          "output_type": "display_data",
          "data": {
            "application/vnd.jupyter.widget-view+json": {
              "model_id": "3a7280a824e04bfdab2622253b8307b7",
              "version_minor": 0,
              "version_major": 2
            },
            "text/plain": [
              "HBox(children=(IntProgress(value=0, description='Converting examples to features', max=876, style=ProgressStyl…"
            ]
          },
          "metadata": {
            "tags": []
          }
        },
        {
          "output_type": "stream",
          "text": [
            "\n"
          ],
          "name": "stdout"
        }
      ]
    },
    {
      "cell_type": "code",
      "metadata": {
        "id": "7jn3DDeJyNVx",
        "colab_type": "code",
        "outputId": "d5c2043c-cb0f-464a-fd3c-2adeab0de1eb",
        "colab": {
          "base_uri": "https://localhost:8080/",
          "height": 166
        }
      },
      "source": [
        "print(train_input_ids.dtype)\n",
        "print(train_input_ids[0])\n",
        "print(type(train_input_ids))\n",
        "print(np.shape(train_input_ids))"
      ],
      "execution_count": 0,
      "outputs": [
        {
          "output_type": "stream",
          "text": [
            "int32\n",
            "[  101  4460  8399   122   117   121   126   121  2469  1939   156   138\n",
            "   156  2022  1986  2008  1998  1980  4204  7612 10055  1998  2056  1989\n",
            "  2024  2038  2056  2064  1890  1991  1998  2008  2056  1987  2023 10060\n",
            "   142   161   118   149   146   157   142 10061  1891  1946  8618  2594\n",
            "  1980   102]\n",
            "<class 'numpy.ndarray'>\n",
            "(3503, 50)\n"
          ],
          "name": "stdout"
        }
      ]
    },
    {
      "cell_type": "code",
      "metadata": {
        "id": "6hHYbErJXLaV",
        "colab_type": "code",
        "outputId": "e0d73711-85af-40c5-a358-35a51bd0985e",
        "colab": {
          "base_uri": "https://localhost:8080/",
          "height": 91
        }
      },
      "source": [
        "print(train_input_masks[0])\n",
        "print(type(train_input_masks))\n",
        "print(np.shape(train_input_masks))"
      ],
      "execution_count": 0,
      "outputs": [
        {
          "output_type": "stream",
          "text": [
            "[1 1 1 1 1 1 1 1 1 1 1 1 1 1 1 1 1 1 1 1 1 1 1 1 1 1 1 1 1 1 1 1 1 1 1 1 1\n",
            " 1 1 1 1 1 1 1 1 1 1 1 1 1]\n",
            "<class 'numpy.ndarray'>\n",
            "(3503, 50)\n"
          ],
          "name": "stdout"
        }
      ]
    },
    {
      "cell_type": "code",
      "metadata": {
        "id": "9wM5cng7XfP4",
        "colab_type": "code",
        "outputId": "69aaa201-dcff-4108-d37e-6f7483829642",
        "colab": {
          "base_uri": "https://localhost:8080/",
          "height": 91
        }
      },
      "source": [
        "print(train_segment_ids[0])\n",
        "print(type(train_segment_ids))\n",
        "print(np.shape(train_segment_ids))"
      ],
      "execution_count": 0,
      "outputs": [
        {
          "output_type": "stream",
          "text": [
            "[0 0 0 0 0 0 0 0 0 0 0 0 0 0 0 0 0 0 0 0 0 0 0 0 0 0 0 0 0 0 0 0 0 0 0 0 0\n",
            " 0 0 0 0 0 0 0 0 0 0 0 0 0]\n",
            "<class 'numpy.ndarray'>\n",
            "(3503, 50)\n"
          ],
          "name": "stdout"
        }
      ]
    },
    {
      "cell_type": "markdown",
      "metadata": {
        "id": "lZfx-5oeG8MX",
        "colab_type": "text"
      },
      "source": [
        "##  4. Build BERT model (モデルの訓練)"
      ]
    },
    {
      "cell_type": "code",
      "metadata": {
        "id": "e-6g8WlGXvi5",
        "colab_type": "code",
        "outputId": "a13aa5b7-5817-4033-a099-3b35303371e8",
        "colab": {
          "base_uri": "https://localhost:8080/",
          "height": 426
        }
      },
      "source": [
        "input_word_ids = tf.keras.layers.Input(shape=(max_seq_length,), dtype=tf.int32, name=\"input_word_ids\")\n",
        "input_mask = tf.keras.layers.Input(shape=(max_seq_length,), dtype=tf.int32, name=\"input_mask\")\n",
        "segment_ids = tf.keras.layers.Input(shape=(max_seq_length,), dtype=tf.int32,name=\"segment_ids\")\n",
        "\n",
        "bert_layer = hub.KerasLayer(bert_path, trainable=False)\n",
        "\n",
        "pooled_output = bert_layer([input_word_ids, input_mask, segment_ids])\n",
        "x = tf.keras.layers.Dense(32, activation='relu')(pooled_output[0])\n",
        "pred = tf.keras.layers.Dense(5, activation='softmax')(x) \n",
        "\n",
        "model=tf.keras.Model(inputs=[input_word_ids, input_mask, segment_ids], outputs=pred)\n",
        "\n",
        "model.summary()"
      ],
      "execution_count": 0,
      "outputs": [
        {
          "output_type": "stream",
          "text": [
            "Model: \"model\"\n",
            "__________________________________________________________________________________________________\n",
            "Layer (type)                    Output Shape         Param #     Connected to                     \n",
            "==================================================================================================\n",
            "input_word_ids (InputLayer)     [(None, 50)]         0                                            \n",
            "__________________________________________________________________________________________________\n",
            "input_mask (InputLayer)         [(None, 50)]         0                                            \n",
            "__________________________________________________________________________________________________\n",
            "segment_ids (InputLayer)        [(None, 50)]         0                                            \n",
            "__________________________________________________________________________________________________\n",
            "keras_layer_1 (KerasLayer)      [(None, 768), (None, 177853441   input_word_ids[0][0]             \n",
            "                                                                 input_mask[0][0]                 \n",
            "                                                                 segment_ids[0][0]                \n",
            "__________________________________________________________________________________________________\n",
            "dense (Dense)                   (None, 32)           24608       keras_layer_1[0][0]              \n",
            "__________________________________________________________________________________________________\n",
            "dense_1 (Dense)                 (None, 5)            165         dense[0][0]                      \n",
            "==================================================================================================\n",
            "Total params: 177,878,214\n",
            "Trainable params: 24,773\n",
            "Non-trainable params: 177,853,441\n",
            "__________________________________________________________________________________________________\n"
          ],
          "name": "stdout"
        }
      ]
    },
    {
      "cell_type": "code",
      "metadata": {
        "id": "uMACzpksX56r",
        "colab_type": "code",
        "colab": {}
      },
      "source": [
        "model.compile(optimizer='adam', loss='sparse_categorical_crossentropy', metrics=['accuracy'])"
      ],
      "execution_count": 0,
      "outputs": []
    },
    {
      "cell_type": "code",
      "metadata": {
        "id": "_C1qgzsoX7pw",
        "colab_type": "code",
        "outputId": "815806ab-7ce4-40df-a4c2-ecc1b8b8de10",
        "colab": {
          "base_uri": "https://localhost:8080/",
          "height": 1000
        }
      },
      "source": [
        "t=time.time()\n",
        "\n",
        "history = model.fit([train_input_ids, train_input_masks, train_segment_ids],\n",
        "                    train_labels,\n",
        "                    epochs=100,\n",
        "                    batch_size=512,\n",
        "                    validation_data=([test_input_ids, test_input_masks, test_segment_ids], test_labels),\n",
        "                    verbose=1)\n",
        "\n",
        "t2 = time.time()\n",
        "print(round(t2-t, 5), 'Seconds to predict')"
      ],
      "execution_count": 0,
      "outputs": [
        {
          "output_type": "stream",
          "text": [
            "Epoch 1/100\n",
            "7/7 [==============================] - 15s 2s/step - loss: 1.6425 - accuracy: 0.1941 - val_loss: 1.5881 - val_accuracy: 0.2317\n",
            "Epoch 2/100\n",
            "7/7 [==============================] - 15s 2s/step - loss: 1.5717 - accuracy: 0.2992 - val_loss: 1.5389 - val_accuracy: 0.3265\n",
            "Epoch 3/100\n",
            "7/7 [==============================] - 15s 2s/step - loss: 1.5168 - accuracy: 0.4416 - val_loss: 1.4821 - val_accuracy: 0.5068\n",
            "Epoch 4/100\n",
            "7/7 [==============================] - 15s 2s/step - loss: 1.4635 - accuracy: 0.4679 - val_loss: 1.4321 - val_accuracy: 0.5034\n",
            "Epoch 5/100\n",
            "7/7 [==============================] - 15s 2s/step - loss: 1.4111 - accuracy: 0.5470 - val_loss: 1.3790 - val_accuracy: 0.5263\n",
            "Epoch 6/100\n",
            "7/7 [==============================] - 15s 2s/step - loss: 1.3613 - accuracy: 0.5658 - val_loss: 1.3338 - val_accuracy: 0.5354\n",
            "Epoch 7/100\n",
            "7/7 [==============================] - 15s 2s/step - loss: 1.3097 - accuracy: 0.5678 - val_loss: 1.2741 - val_accuracy: 0.5457\n",
            "Epoch 8/100\n",
            "7/7 [==============================] - 15s 2s/step - loss: 1.2511 - accuracy: 0.5909 - val_loss: 1.2237 - val_accuracy: 0.5582\n",
            "Epoch 9/100\n",
            "7/7 [==============================] - 15s 2s/step - loss: 1.2006 - accuracy: 0.6021 - val_loss: 1.1687 - val_accuracy: 0.5845\n",
            "Epoch 10/100\n",
            "7/7 [==============================] - 15s 2s/step - loss: 1.1566 - accuracy: 0.6052 - val_loss: 1.1463 - val_accuracy: 0.5742\n",
            "Epoch 11/100\n",
            "7/7 [==============================] - 16s 2s/step - loss: 1.1209 - accuracy: 0.6152 - val_loss: 1.1058 - val_accuracy: 0.5868\n",
            "Epoch 12/100\n",
            "7/7 [==============================] - 16s 2s/step - loss: 1.0803 - accuracy: 0.6206 - val_loss: 1.0713 - val_accuracy: 0.5833\n",
            "Epoch 13/100\n",
            "7/7 [==============================] - 15s 2s/step - loss: 1.0432 - accuracy: 0.6437 - val_loss: 1.0758 - val_accuracy: 0.5890\n",
            "Epoch 14/100\n",
            "7/7 [==============================] - 15s 2s/step - loss: 1.0197 - accuracy: 0.6420 - val_loss: 1.0047 - val_accuracy: 0.6107\n",
            "Epoch 15/100\n",
            "7/7 [==============================] - 15s 2s/step - loss: 0.9944 - accuracy: 0.6452 - val_loss: 0.9973 - val_accuracy: 0.5936\n",
            "Epoch 16/100\n",
            "7/7 [==============================] - 15s 2s/step - loss: 0.9725 - accuracy: 0.6512 - val_loss: 1.0086 - val_accuracy: 0.5879\n",
            "Epoch 17/100\n",
            "7/7 [==============================] - 15s 2s/step - loss: 0.9442 - accuracy: 0.6546 - val_loss: 0.9606 - val_accuracy: 0.6084\n",
            "Epoch 18/100\n",
            "7/7 [==============================] - 15s 2s/step - loss: 0.9218 - accuracy: 0.6683 - val_loss: 0.9387 - val_accuracy: 0.6199\n",
            "Epoch 19/100\n",
            "7/7 [==============================] - 15s 2s/step - loss: 0.9032 - accuracy: 0.6714 - val_loss: 0.9071 - val_accuracy: 0.6461\n",
            "Epoch 20/100\n",
            "7/7 [==============================] - 15s 2s/step - loss: 0.8863 - accuracy: 0.6686 - val_loss: 0.8786 - val_accuracy: 0.6610\n",
            "Epoch 21/100\n",
            "7/7 [==============================] - 16s 2s/step - loss: 0.8703 - accuracy: 0.6768 - val_loss: 0.8992 - val_accuracy: 0.6473\n",
            "Epoch 22/100\n",
            "7/7 [==============================] - 15s 2s/step - loss: 0.8527 - accuracy: 0.6943 - val_loss: 0.8792 - val_accuracy: 0.6507\n",
            "Epoch 23/100\n",
            "7/7 [==============================] - 15s 2s/step - loss: 0.8373 - accuracy: 0.6960 - val_loss: 0.8478 - val_accuracy: 0.6655\n",
            "Epoch 24/100\n",
            "7/7 [==============================] - 16s 2s/step - loss: 0.8234 - accuracy: 0.7031 - val_loss: 0.8432 - val_accuracy: 0.6632\n",
            "Epoch 25/100\n",
            "7/7 [==============================] - 16s 2s/step - loss: 0.8116 - accuracy: 0.7003 - val_loss: 0.8557 - val_accuracy: 0.6530\n",
            "Epoch 26/100\n",
            "7/7 [==============================] - 16s 2s/step - loss: 0.8015 - accuracy: 0.7074 - val_loss: 0.8252 - val_accuracy: 0.6632\n",
            "Epoch 27/100\n",
            "7/7 [==============================] - 15s 2s/step - loss: 0.7909 - accuracy: 0.7111 - val_loss: 0.7894 - val_accuracy: 0.6781\n",
            "Epoch 28/100\n",
            "7/7 [==============================] - 16s 2s/step - loss: 0.7791 - accuracy: 0.7165 - val_loss: 0.8094 - val_accuracy: 0.6689\n",
            "Epoch 29/100\n",
            "7/7 [==============================] - 16s 2s/step - loss: 0.7679 - accuracy: 0.7231 - val_loss: 0.8199 - val_accuracy: 0.6632\n",
            "Epoch 30/100\n",
            "7/7 [==============================] - 16s 2s/step - loss: 0.7574 - accuracy: 0.7291 - val_loss: 0.7723 - val_accuracy: 0.6861\n",
            "Epoch 31/100\n",
            "7/7 [==============================] - 16s 2s/step - loss: 0.7461 - accuracy: 0.7365 - val_loss: 0.7654 - val_accuracy: 0.6952\n",
            "Epoch 32/100\n",
            "7/7 [==============================] - 16s 2s/step - loss: 0.7398 - accuracy: 0.7368 - val_loss: 0.7644 - val_accuracy: 0.6986\n",
            "Epoch 33/100\n",
            "7/7 [==============================] - 16s 2s/step - loss: 0.7294 - accuracy: 0.7405 - val_loss: 0.7801 - val_accuracy: 0.6769\n",
            "Epoch 34/100\n",
            "7/7 [==============================] - 16s 2s/step - loss: 0.7230 - accuracy: 0.7408 - val_loss: 0.7484 - val_accuracy: 0.6838\n",
            "Epoch 35/100\n",
            "7/7 [==============================] - 16s 2s/step - loss: 0.7228 - accuracy: 0.7439 - val_loss: 0.7197 - val_accuracy: 0.7249\n",
            "Epoch 36/100\n",
            "7/7 [==============================] - 16s 2s/step - loss: 0.7072 - accuracy: 0.7456 - val_loss: 0.7340 - val_accuracy: 0.7009\n",
            "Epoch 37/100\n",
            "7/7 [==============================] - 16s 2s/step - loss: 0.6989 - accuracy: 0.7534 - val_loss: 0.7496 - val_accuracy: 0.6918\n",
            "Epoch 38/100\n",
            "7/7 [==============================] - 16s 2s/step - loss: 0.6949 - accuracy: 0.7516 - val_loss: 0.7153 - val_accuracy: 0.7226\n",
            "Epoch 39/100\n",
            "7/7 [==============================] - 16s 2s/step - loss: 0.6841 - accuracy: 0.7559 - val_loss: 0.6902 - val_accuracy: 0.7237\n",
            "Epoch 40/100\n",
            "7/7 [==============================] - 16s 2s/step - loss: 0.6762 - accuracy: 0.7608 - val_loss: 0.6945 - val_accuracy: 0.7295\n",
            "Epoch 41/100\n",
            "7/7 [==============================] - 16s 2s/step - loss: 0.6704 - accuracy: 0.7593 - val_loss: 0.6886 - val_accuracy: 0.7386\n",
            "Epoch 42/100\n",
            "7/7 [==============================] - 16s 2s/step - loss: 0.6635 - accuracy: 0.7628 - val_loss: 0.6710 - val_accuracy: 0.7500\n",
            "Epoch 43/100\n",
            "7/7 [==============================] - 16s 2s/step - loss: 0.6570 - accuracy: 0.7682 - val_loss: 0.6852 - val_accuracy: 0.7397\n",
            "Epoch 44/100\n",
            "7/7 [==============================] - 16s 2s/step - loss: 0.6474 - accuracy: 0.7679 - val_loss: 0.6781 - val_accuracy: 0.7420\n",
            "Epoch 45/100\n",
            "7/7 [==============================] - 16s 2s/step - loss: 0.6401 - accuracy: 0.7750 - val_loss: 0.6658 - val_accuracy: 0.7432\n",
            "Epoch 46/100\n",
            "7/7 [==============================] - 16s 2s/step - loss: 0.6389 - accuracy: 0.7705 - val_loss: 0.6739 - val_accuracy: 0.7352\n",
            "Epoch 47/100\n",
            "7/7 [==============================] - 16s 2s/step - loss: 0.6338 - accuracy: 0.7682 - val_loss: 0.6564 - val_accuracy: 0.7774\n",
            "Epoch 48/100\n",
            "7/7 [==============================] - 16s 2s/step - loss: 0.6277 - accuracy: 0.7782 - val_loss: 0.6540 - val_accuracy: 0.7557\n",
            "Epoch 49/100\n",
            "7/7 [==============================] - 16s 2s/step - loss: 0.6200 - accuracy: 0.7825 - val_loss: 0.6381 - val_accuracy: 0.7591\n",
            "Epoch 50/100\n",
            "7/7 [==============================] - 16s 2s/step - loss: 0.6143 - accuracy: 0.7805 - val_loss: 0.6655 - val_accuracy: 0.7329\n",
            "Epoch 51/100\n",
            "7/7 [==============================] - 16s 2s/step - loss: 0.6108 - accuracy: 0.7816 - val_loss: 0.6470 - val_accuracy: 0.7614\n",
            "Epoch 52/100\n",
            "7/7 [==============================] - 16s 2s/step - loss: 0.6036 - accuracy: 0.7896 - val_loss: 0.6481 - val_accuracy: 0.7568\n",
            "Epoch 53/100\n",
            "7/7 [==============================] - 16s 2s/step - loss: 0.6027 - accuracy: 0.7888 - val_loss: 0.6246 - val_accuracy: 0.7717\n",
            "Epoch 54/100\n",
            "7/7 [==============================] - 16s 2s/step - loss: 0.5959 - accuracy: 0.7876 - val_loss: 0.6141 - val_accuracy: 0.7740\n",
            "Epoch 55/100\n",
            "7/7 [==============================] - 16s 2s/step - loss: 0.5914 - accuracy: 0.7890 - val_loss: 0.6442 - val_accuracy: 0.7671\n",
            "Epoch 56/100\n",
            "7/7 [==============================] - 16s 2s/step - loss: 0.5853 - accuracy: 0.7899 - val_loss: 0.6086 - val_accuracy: 0.7877\n",
            "Epoch 57/100\n",
            "7/7 [==============================] - 16s 2s/step - loss: 0.5836 - accuracy: 0.7967 - val_loss: 0.6276 - val_accuracy: 0.7580\n",
            "Epoch 58/100\n",
            "7/7 [==============================] - 16s 2s/step - loss: 0.5816 - accuracy: 0.7905 - val_loss: 0.6265 - val_accuracy: 0.7557\n",
            "Epoch 59/100\n",
            "7/7 [==============================] - 16s 2s/step - loss: 0.5759 - accuracy: 0.7965 - val_loss: 0.6062 - val_accuracy: 0.7797\n",
            "Epoch 60/100\n",
            "7/7 [==============================] - 16s 2s/step - loss: 0.5757 - accuracy: 0.7956 - val_loss: 0.6174 - val_accuracy: 0.7603\n",
            "Epoch 61/100\n",
            "7/7 [==============================] - 16s 2s/step - loss: 0.5652 - accuracy: 0.7996 - val_loss: 0.6235 - val_accuracy: 0.7591\n",
            "Epoch 62/100\n",
            "7/7 [==============================] - 16s 2s/step - loss: 0.5647 - accuracy: 0.7990 - val_loss: 0.6004 - val_accuracy: 0.7660\n",
            "Epoch 63/100\n",
            "7/7 [==============================] - 16s 2s/step - loss: 0.5634 - accuracy: 0.8002 - val_loss: 0.6036 - val_accuracy: 0.7774\n",
            "Epoch 64/100\n",
            "7/7 [==============================] - 16s 2s/step - loss: 0.5587 - accuracy: 0.8013 - val_loss: 0.6099 - val_accuracy: 0.7740\n",
            "Epoch 65/100\n",
            "7/7 [==============================] - 16s 2s/step - loss: 0.5567 - accuracy: 0.8002 - val_loss: 0.5767 - val_accuracy: 0.7900\n",
            "Epoch 66/100\n",
            "7/7 [==============================] - 16s 2s/step - loss: 0.5549 - accuracy: 0.8082 - val_loss: 0.5849 - val_accuracy: 0.7888\n",
            "Epoch 67/100\n",
            "7/7 [==============================] - 16s 2s/step - loss: 0.5492 - accuracy: 0.8047 - val_loss: 0.5831 - val_accuracy: 0.7900\n",
            "Epoch 68/100\n",
            "7/7 [==============================] - 16s 2s/step - loss: 0.5459 - accuracy: 0.8090 - val_loss: 0.5867 - val_accuracy: 0.7728\n",
            "Epoch 69/100\n",
            "7/7 [==============================] - 16s 2s/step - loss: 0.5445 - accuracy: 0.8136 - val_loss: 0.5967 - val_accuracy: 0.7797\n",
            "Epoch 70/100\n",
            "7/7 [==============================] - 16s 2s/step - loss: 0.5364 - accuracy: 0.8119 - val_loss: 0.5936 - val_accuracy: 0.7740\n",
            "Epoch 71/100\n",
            "7/7 [==============================] - 16s 2s/step - loss: 0.5327 - accuracy: 0.8147 - val_loss: 0.5855 - val_accuracy: 0.7785\n",
            "Epoch 72/100\n",
            "7/7 [==============================] - 16s 2s/step - loss: 0.5307 - accuracy: 0.8127 - val_loss: 0.5846 - val_accuracy: 0.7865\n",
            "Epoch 73/100\n",
            "7/7 [==============================] - 16s 2s/step - loss: 0.5295 - accuracy: 0.8164 - val_loss: 0.5588 - val_accuracy: 0.8014\n",
            "Epoch 74/100\n",
            "7/7 [==============================] - 16s 2s/step - loss: 0.5237 - accuracy: 0.8093 - val_loss: 0.5794 - val_accuracy: 0.7808\n",
            "Epoch 75/100\n",
            "7/7 [==============================] - 16s 2s/step - loss: 0.5236 - accuracy: 0.8167 - val_loss: 0.6058 - val_accuracy: 0.7705\n",
            "Epoch 76/100\n",
            "7/7 [==============================] - 16s 2s/step - loss: 0.5234 - accuracy: 0.8153 - val_loss: 0.5908 - val_accuracy: 0.7808\n",
            "Epoch 77/100\n",
            "7/7 [==============================] - 16s 2s/step - loss: 0.5160 - accuracy: 0.8164 - val_loss: 0.5557 - val_accuracy: 0.7979\n",
            "Epoch 78/100\n",
            "7/7 [==============================] - 16s 2s/step - loss: 0.5141 - accuracy: 0.8176 - val_loss: 0.5513 - val_accuracy: 0.7968\n",
            "Epoch 79/100\n",
            "7/7 [==============================] - 16s 2s/step - loss: 0.5158 - accuracy: 0.8164 - val_loss: 0.5656 - val_accuracy: 0.7979\n",
            "Epoch 80/100\n",
            "7/7 [==============================] - 16s 2s/step - loss: 0.5128 - accuracy: 0.8193 - val_loss: 0.5788 - val_accuracy: 0.7842\n",
            "Epoch 81/100\n",
            "7/7 [==============================] - 16s 2s/step - loss: 0.5070 - accuracy: 0.8213 - val_loss: 0.5701 - val_accuracy: 0.7957\n",
            "Epoch 82/100\n",
            "7/7 [==============================] - 16s 2s/step - loss: 0.5042 - accuracy: 0.8190 - val_loss: 0.5754 - val_accuracy: 0.7877\n",
            "Epoch 83/100\n",
            "7/7 [==============================] - 16s 2s/step - loss: 0.4992 - accuracy: 0.8242 - val_loss: 0.5591 - val_accuracy: 0.7979\n",
            "Epoch 84/100\n",
            "7/7 [==============================] - 16s 2s/step - loss: 0.4977 - accuracy: 0.8250 - val_loss: 0.5701 - val_accuracy: 0.7877\n",
            "Epoch 85/100\n",
            "7/7 [==============================] - 16s 2s/step - loss: 0.4961 - accuracy: 0.8259 - val_loss: 0.5508 - val_accuracy: 0.7957\n",
            "Epoch 86/100\n",
            "7/7 [==============================] - 16s 2s/step - loss: 0.4976 - accuracy: 0.8190 - val_loss: 0.5561 - val_accuracy: 0.7934\n",
            "Epoch 87/100\n",
            "7/7 [==============================] - 16s 2s/step - loss: 0.4930 - accuracy: 0.8270 - val_loss: 0.5561 - val_accuracy: 0.7922\n",
            "Epoch 88/100\n",
            "7/7 [==============================] - 16s 2s/step - loss: 0.4863 - accuracy: 0.8279 - val_loss: 0.5849 - val_accuracy: 0.7842\n",
            "Epoch 89/100\n",
            "7/7 [==============================] - 16s 2s/step - loss: 0.4928 - accuracy: 0.8242 - val_loss: 0.5537 - val_accuracy: 0.7877\n",
            "Epoch 90/100\n",
            "7/7 [==============================] - 16s 2s/step - loss: 0.4868 - accuracy: 0.8310 - val_loss: 0.5410 - val_accuracy: 0.7991\n",
            "Epoch 91/100\n",
            "7/7 [==============================] - 16s 2s/step - loss: 0.4853 - accuracy: 0.8290 - val_loss: 0.5393 - val_accuracy: 0.8059\n",
            "Epoch 92/100\n",
            "7/7 [==============================] - 16s 2s/step - loss: 0.4876 - accuracy: 0.8244 - val_loss: 0.5612 - val_accuracy: 0.7957\n",
            "Epoch 93/100\n",
            "7/7 [==============================] - 16s 2s/step - loss: 0.4801 - accuracy: 0.8287 - val_loss: 0.5735 - val_accuracy: 0.7900\n",
            "Epoch 94/100\n",
            "7/7 [==============================] - 16s 2s/step - loss: 0.4827 - accuracy: 0.8313 - val_loss: 0.5587 - val_accuracy: 0.7968\n",
            "Epoch 95/100\n",
            "7/7 [==============================] - 16s 2s/step - loss: 0.4759 - accuracy: 0.8339 - val_loss: 0.5278 - val_accuracy: 0.8059\n",
            "Epoch 96/100\n",
            "7/7 [==============================] - 16s 2s/step - loss: 0.4782 - accuracy: 0.8333 - val_loss: 0.5414 - val_accuracy: 0.7865\n",
            "Epoch 97/100\n",
            "7/7 [==============================] - 16s 2s/step - loss: 0.4738 - accuracy: 0.8324 - val_loss: 0.5831 - val_accuracy: 0.7831\n",
            "Epoch 98/100\n",
            "7/7 [==============================] - 16s 2s/step - loss: 0.4706 - accuracy: 0.8350 - val_loss: 0.5497 - val_accuracy: 0.7865\n",
            "Epoch 99/100\n",
            "7/7 [==============================] - 16s 2s/step - loss: 0.4673 - accuracy: 0.8367 - val_loss: 0.5379 - val_accuracy: 0.7911\n",
            "Epoch 100/100\n",
            "7/7 [==============================] - 16s 2s/step - loss: 0.4624 - accuracy: 0.8370 - val_loss: 0.5375 - val_accuracy: 0.8037\n",
            "1767.96208 Seconds to predict\n"
          ],
          "name": "stdout"
        }
      ]
    },
    {
      "cell_type": "markdown",
      "metadata": {
        "id": "ZEW3HPf9Z0y4",
        "colab_type": "text"
      },
      "source": [
        "##  5. Evaluate the model (モデルの評価)"
      ]
    },
    {
      "cell_type": "code",
      "metadata": {
        "id": "-NWr6YSIZVJ9",
        "colab_type": "code",
        "outputId": "d98b4f59-0f5a-4d0c-e9fe-da7e6229f4d4",
        "colab": {
          "base_uri": "https://localhost:8080/",
          "height": 350
        }
      },
      "source": [
        "import matplotlib.pyplot as plt\n",
        "\n",
        "acc = history.history['accuracy']\n",
        "val_acc = history.history['val_accuracy']\n",
        "loss = history.history['loss']\n",
        "val_loss = history.history['val_loss']\n",
        "\n",
        "epochs = range(len(acc))\n",
        "\n",
        "plt.figure(figsize=(15,5))\n",
        "\n",
        "plt.subplot(1, 2, 1)\n",
        "plt.plot(epochs, acc, label='Training acc')\n",
        "plt.plot(epochs, val_acc, label='Validation acc')\n",
        "plt.title('Training and validation accuracy')\n",
        "plt.xlabel('epoch')\n",
        "plt.ylabel('accuracy')\n",
        "plt.legend()\n",
        "            \n",
        "plt.subplot(1, 2, 2)\n",
        "plt.plot(epochs, loss, label='Training loss')\n",
        "plt.plot(epochs, val_loss, label='Validation loss')\n",
        "plt.title('Training and validation loss')\n",
        "plt.xlabel('epoch')\n",
        "plt.ylabel('loss')\n",
        "plt.legend()\n",
        "\n",
        "plt.show()"
      ],
      "execution_count": 0,
      "outputs": [
        {
          "output_type": "display_data",
          "data": {
            "image/png": "[encoded data removed]",
            "text/plain": [
              "<Figure size 1080x360 with 2 Axes>"
            ]
          },
          "metadata": {
            "tags": [],
            "needs_background": "light"
          }
        }
      ]
    },
    {
      "cell_type": "code",
      "metadata": {
        "id": "9RbjDjTFDkUK",
        "colab_type": "code",
        "colab": {}
      },
      "source": [
        "model.save('LL5-Bert_20200417.h5')\n",
        "\n",
        "# predictions before we clear and reload model\n",
        "pre_save_preds = model.predict([test_input_ids[0:100], \n",
        "                                test_input_masks[0:100], \n",
        "                                test_segment_ids[0:100]]\n",
        "                              ) "
      ],
      "execution_count": 0,
      "outputs": []
    },
    {
      "cell_type": "code",
      "metadata": {
        "id": "2dai9M3rSO0Z",
        "colab_type": "code",
        "outputId": "a81344a6-8582-4595-93b4-02882384c3a5",
        "colab": {
          "base_uri": "https://localhost:8080/",
          "height": 54
        }
      },
      "source": [
        "pre_save_preds[0]"
      ],
      "execution_count": 0,
      "outputs": [
        {
          "output_type": "execute_result",
          "data": {
            "text/plain": [
              "array([0.01228216, 0.09334585, 0.00542319, 0.00662073, 0.8823281 ],\n",
              "      dtype=float32)"
            ]
          },
          "metadata": {
            "tags": []
          },
          "execution_count": 33
        }
      ]
    },
    {
      "cell_type": "code",
      "metadata": {
        "id": "yMmHwr-DfXu9",
        "colab_type": "code",
        "outputId": "f30b7c20-d3d7-4703-be0a-add4732fc273",
        "colab": {
          "base_uri": "https://localhost:8080/",
          "height": 35
        }
      },
      "source": [
        "np.argmax(pre_save_preds[0])"
      ],
      "execution_count": 0,
      "outputs": [
        {
          "output_type": "execute_result",
          "data": {
            "text/plain": [
              "4"
            ]
          },
          "metadata": {
            "tags": []
          },
          "execution_count": 35
        }
      ]
    },
    {
      "cell_type": "code",
      "metadata": {
        "id": "LAlhEIOmythK",
        "colab_type": "code",
        "outputId": "ac916a08-a225-4845-f5bb-c69c69775c08",
        "colab": {
          "base_uri": "https://localhost:8080/",
          "height": 35
        }
      },
      "source": [
        "pre=np.argmax(pre_save_preds[0])\n",
        "\n",
        "if pre==0:\n",
        "  pred='it-life-hack'\n",
        "  \n",
        "elif pre==1:\n",
        "  pred='movie-enter'\n",
        "  \n",
        "elif pre==2:\n",
        "  pred='sports-watch'\n",
        "  \n",
        "elif pre==3:\n",
        "  pred='dokujo-tsushin'\n",
        "  \n",
        "elif pre==4:\n",
        "  pred='kaden-channel'\n",
        "    \n",
        "pred"
      ],
      "execution_count": 0,
      "outputs": [
        {
          "output_type": "execute_result",
          "data": {
            "text/plain": [
              "'kaden-channel'"
            ]
          },
          "metadata": {
            "tags": []
          },
          "execution_count": 52
        }
      ]
    },
    {
      "cell_type": "code",
      "metadata": {
        "id": "7XHRB9IBYG4l",
        "colab_type": "code",
        "outputId": "313eb758-7da0-49a7-a72a-337c6b77e426",
        "colab": {
          "base_uri": "https://localhost:8080/",
          "height": 35
        }
      },
      "source": [
        "pre=np.argmax(pre_save_preds[1])\n",
        "\n",
        "if pre==0:\n",
        "  pred='it-life-hack'\n",
        "  \n",
        "elif pre==1:\n",
        "  pred='movie-enter'\n",
        "  \n",
        "elif pre==2:\n",
        "  pred='sports-watch'\n",
        "  \n",
        "elif pre==3:\n",
        "  pred='dokujo-tsushin'\n",
        "  \n",
        "elif pre==4:\n",
        "  pred='kaden-channel'\n",
        "    \n",
        "pred"
      ],
      "execution_count": 0,
      "outputs": [
        {
          "output_type": "execute_result",
          "data": {
            "text/plain": [
              "'movie-enter'"
            ]
          },
          "metadata": {
            "tags": []
          },
          "execution_count": 51
        }
      ]
    },
    {
      "cell_type": "code",
      "metadata": {
        "id": "gPeNxEx6Y-vh",
        "colab_type": "code",
        "outputId": "cc0f63b7-974f-410c-ddca-f90691b8dc75",
        "colab": {
          "base_uri": "https://localhost:8080/",
          "height": 35
        }
      },
      "source": [
        "pre=np.argmax(pre_save_preds[2])\n",
        "\n",
        "if pre==0:\n",
        "  pred='it-life-hack'\n",
        "  \n",
        "elif pre==1:\n",
        "  pred='movie-enter'\n",
        "  \n",
        "elif pre==2:\n",
        "  pred='sports-watch'\n",
        "  \n",
        "elif pre==3:\n",
        "  pred='dokujo-tsushin'\n",
        "  \n",
        "elif pre==4:\n",
        "  pred='kaden-channel'\n",
        "    \n",
        "pred"
      ],
      "execution_count": 0,
      "outputs": [
        {
          "output_type": "execute_result",
          "data": {
            "text/plain": [
              "'sports-watch'"
            ]
          },
          "metadata": {
            "tags": []
          },
          "execution_count": 48
        }
      ]
    },
    {
      "cell_type": "code",
      "metadata": {
        "id": "NxXRAKwvZGK5",
        "colab_type": "code",
        "outputId": "7e717ba3-0c1e-4cfc-d9a3-1d4cdd04b6a2",
        "colab": {
          "base_uri": "https://localhost:8080/",
          "height": 35
        }
      },
      "source": [
        "pre=np.argmax(pre_save_preds[3])\n",
        "\n",
        "if pre==0:\n",
        "  pred='it-life-hack'\n",
        "  \n",
        "elif pre==1:\n",
        "  pred='movie-enter'\n",
        "  \n",
        "elif pre==2:\n",
        "  pred='sports-watch'\n",
        "  \n",
        "elif pre==3:\n",
        "  pred='dokujo-tsushin'\n",
        "  \n",
        "elif pre==4:\n",
        "  pred='kaden-channel'\n",
        "    \n",
        "pred"
      ],
      "execution_count": 0,
      "outputs": [
        {
          "output_type": "execute_result",
          "data": {
            "text/plain": [
              "'it-life-hack'"
            ]
          },
          "metadata": {
            "tags": []
          },
          "execution_count": 49
        }
      ]
    },
    {
      "cell_type": "code",
      "metadata": {
        "id": "-CcdNuY8ZKnI",
        "colab_type": "code",
        "outputId": "1c034f04-dd21-4b83-b083-59a29f0c3f96",
        "colab": {
          "base_uri": "https://localhost:8080/",
          "height": 35
        }
      },
      "source": [
        "pre=np.argmax(pre_save_preds[4])\n",
        "\n",
        "if pre==0:\n",
        "  pred='it-life-hack'\n",
        "  \n",
        "elif pre==1:\n",
        "  pred='movie-enter'\n",
        "  \n",
        "elif pre==2:\n",
        "  pred='sports-watch'\n",
        "  \n",
        "elif pre==3:\n",
        "  pred='dokujo-tsushin'\n",
        "  \n",
        "elif pre==4:\n",
        "  pred='kaden-channel'\n",
        "    \n",
        "pred"
      ],
      "execution_count": 0,
      "outputs": [
        {
          "output_type": "execute_result",
          "data": {
            "text/plain": [
              "'sports-watch'"
            ]
          },
          "metadata": {
            "tags": []
          },
          "execution_count": 50
        }
      ]
    },
    {
      "cell_type": "code",
      "metadata": {
        "id": "pbdStAegYgsH",
        "colab_type": "code",
        "outputId": "400c2199-7874-4b59-f558-573e90fed7eb",
        "colab": {
          "base_uri": "https://localhost:8080/",
          "height": 35
        }
      },
      "source": [
        "test_label[0:5]"
      ],
      "execution_count": 0,
      "outputs": [
        {
          "output_type": "execute_result",
          "data": {
            "text/plain": [
              "[4, 2, 1, 0, 2]"
            ]
          },
          "metadata": {
            "tags": []
          },
          "execution_count": 43
        }
      ]
    },
    {
      "cell_type": "code",
      "metadata": {
        "id": "aLc7vKCJfjTx",
        "colab_type": "code",
        "colab": {}
      },
      "source": [
        "category_dirs =  ['it-life-hack', 'movie-enter', 'sports-watch', 'dokujo-tsushin', 'kaden-channel']"
      ],
      "execution_count": 0,
      "outputs": []
    },
    {
      "cell_type": "code",
      "metadata": {
        "id": "HTujJX57A6u8",
        "colab_type": "code",
        "outputId": "fc1e6115-21ce-43c8-e853-e2da78b56c7a",
        "colab": {
          "base_uri": "https://localhost:8080/",
          "height": 315
        }
      },
      "source": [
        "!nvidia-smi"
      ],
      "execution_count": 0,
      "outputs": [
        {
          "output_type": "stream",
          "text": [
            "Fri Apr 17 04:00:54 2020       \n",
            "+-----------------------------------------------------------------------------+\n",
            "| NVIDIA-SMI 440.64.00    Driver Version: 418.67       CUDA Version: 10.1     |\n",
            "|-------------------------------+----------------------+----------------------+\n",
            "| GPU  Name        Persistence-M| Bus-Id        Disp.A | Volatile Uncorr. ECC |\n",
            "| Fan  Temp  Perf  Pwr:Usage/Cap|         Memory-Usage | GPU-Util  Compute M. |\n",
            "|===============================+======================+======================|\n",
            "|   0  Tesla P4            Off  | 00000000:00:04.0 Off |                    0 |\n",
            "| N/A   60C    P0    24W /  75W |   4337MiB /  7611MiB |      0%      Default |\n",
            "+-------------------------------+----------------------+----------------------+\n",
            "                                                                               \n",
            "+-----------------------------------------------------------------------------+\n",
            "| Processes:                                                       GPU Memory |\n",
            "|  GPU       PID   Type   Process name                             Usage      |\n",
            "|=============================================================================|\n",
            "+-----------------------------------------------------------------------------+\n"
          ],
          "name": "stdout"
        }
      ]
    }
  ]
}